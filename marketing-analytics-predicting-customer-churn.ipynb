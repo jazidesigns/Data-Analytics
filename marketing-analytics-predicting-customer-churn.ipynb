{
 "cells": [
  {
   "cell_type": "markdown",
   "id": "90aee414",
   "metadata": {
    "papermill": {
     "duration": 0.076585,
     "end_time": "2022-05-01T21:58:53.520852",
     "exception": false,
     "start_time": "2022-05-01T21:58:53.444267",
     "status": "completed"
    },
    "tags": []
   },
   "source": [
    "### Import Libraries"
   ]
  },
  {
   "cell_type": "code",
   "execution_count": 1,
   "id": "f69af73c",
   "metadata": {
    "execution": {
     "iopub.execute_input": "2022-05-01T21:58:53.672845Z",
     "iopub.status.busy": "2022-05-01T21:58:53.672060Z",
     "iopub.status.idle": "2022-05-01T21:58:55.725642Z",
     "shell.execute_reply": "2022-05-01T21:58:55.724878Z"
    },
    "papermill": {
     "duration": 2.13241,
     "end_time": "2022-05-01T21:58:55.728240",
     "exception": false,
     "start_time": "2022-05-01T21:58:53.595830",
     "status": "completed"
    },
    "tags": []
   },
   "outputs": [],
   "source": [
    "import warnings\n",
    "warnings.filterwarnings(\"ignore\")\n",
    "\n",
    "import numpy as np\n",
    "import pandas as pd\n",
    "import statsmodels.api as sm\n",
    "\n",
    "from sklearn.model_selection import train_test_split\n",
    "from sklearn.preprocessing import StandardScaler\n",
    "\n",
    "from sklearn.metrics import roc_auc_score\n",
    "from sklearn.metrics import roc_curve\n",
    "from sklearn.metrics import confusion_matrix\n",
    "from sklearn.metrics import classification_report\n",
    "\n",
    "\n",
    "from sklearn.svm import SVC\n",
    "from sklearn.linear_model import LogisticRegression\n",
    "from sklearn.tree import DecisionTreeClassifier\n",
    "from sklearn.ensemble import RandomForestClassifier\n",
    "\n",
    "from sklearn.model_selection import GridSearchCV\n",
    "\n",
    "import seaborn as sns\n",
    "import matplotlib.pyplot as plt"
   ]
  },
  {
   "cell_type": "markdown",
   "id": "01a0fe54",
   "metadata": {
    "papermill": {
     "duration": 0.075131,
     "end_time": "2022-05-01T21:58:55.878647",
     "exception": false,
     "start_time": "2022-05-01T21:58:55.803516",
     "status": "completed"
    },
    "tags": []
   },
   "source": [
    "### Import Dataset"
   ]
  },
  {
   "cell_type": "code",
   "execution_count": 2,
   "id": "8abd1898",
   "metadata": {
    "execution": {
     "iopub.execute_input": "2022-05-01T21:58:56.031114Z",
     "iopub.status.busy": "2022-05-01T21:58:56.030406Z",
     "iopub.status.idle": "2022-05-01T21:58:56.101262Z",
     "shell.execute_reply": "2022-05-01T21:58:56.100424Z"
    },
    "papermill": {
     "duration": 0.149879,
     "end_time": "2022-05-01T21:58:56.103841",
     "exception": false,
     "start_time": "2022-05-01T21:58:55.953962",
     "status": "completed"
    },
    "tags": []
   },
   "outputs": [
    {
     "data": {
      "text/html": [
       "<div>\n",
       "<style scoped>\n",
       "    .dataframe tbody tr th:only-of-type {\n",
       "        vertical-align: middle;\n",
       "    }\n",
       "\n",
       "    .dataframe tbody tr th {\n",
       "        vertical-align: top;\n",
       "    }\n",
       "\n",
       "    .dataframe thead th {\n",
       "        text-align: right;\n",
       "    }\n",
       "</style>\n",
       "<table border=\"1\" class=\"dataframe\">\n",
       "  <thead>\n",
       "    <tr style=\"text-align: right;\">\n",
       "      <th></th>\n",
       "      <th>Account_Length</th>\n",
       "      <th>Vmail_Message</th>\n",
       "      <th>Day_Mins</th>\n",
       "      <th>Eve_Mins</th>\n",
       "      <th>Night_Mins</th>\n",
       "      <th>Intl_Mins</th>\n",
       "      <th>CustServ_Calls</th>\n",
       "      <th>Churn</th>\n",
       "      <th>Intl_Plan</th>\n",
       "      <th>Vmail_Plan</th>\n",
       "      <th>...</th>\n",
       "      <th>Day_Charge</th>\n",
       "      <th>Eve_Calls</th>\n",
       "      <th>Eve_Charge</th>\n",
       "      <th>Night_Calls</th>\n",
       "      <th>Night_Charge</th>\n",
       "      <th>Intl_Calls</th>\n",
       "      <th>Intl_Charge</th>\n",
       "      <th>State</th>\n",
       "      <th>Area_Code</th>\n",
       "      <th>Phone</th>\n",
       "    </tr>\n",
       "  </thead>\n",
       "  <tbody>\n",
       "    <tr>\n",
       "      <th>1415</th>\n",
       "      <td>99</td>\n",
       "      <td>0</td>\n",
       "      <td>142.3</td>\n",
       "      <td>204.5</td>\n",
       "      <td>203.1</td>\n",
       "      <td>9.1</td>\n",
       "      <td>0</td>\n",
       "      <td>no</td>\n",
       "      <td>no</td>\n",
       "      <td>no</td>\n",
       "      <td>...</td>\n",
       "      <td>24.19</td>\n",
       "      <td>95</td>\n",
       "      <td>17.38</td>\n",
       "      <td>114</td>\n",
       "      <td>9.14</td>\n",
       "      <td>1</td>\n",
       "      <td>2.46</td>\n",
       "      <td>LA</td>\n",
       "      <td>510</td>\n",
       "      <td>379-9821</td>\n",
       "    </tr>\n",
       "    <tr>\n",
       "      <th>1288</th>\n",
       "      <td>56</td>\n",
       "      <td>0</td>\n",
       "      <td>253.2</td>\n",
       "      <td>188.0</td>\n",
       "      <td>142.0</td>\n",
       "      <td>4.4</td>\n",
       "      <td>1</td>\n",
       "      <td>no</td>\n",
       "      <td>no</td>\n",
       "      <td>no</td>\n",
       "      <td>...</td>\n",
       "      <td>43.04</td>\n",
       "      <td>116</td>\n",
       "      <td>15.98</td>\n",
       "      <td>133</td>\n",
       "      <td>6.39</td>\n",
       "      <td>4</td>\n",
       "      <td>1.19</td>\n",
       "      <td>MA</td>\n",
       "      <td>510</td>\n",
       "      <td>401-3622</td>\n",
       "    </tr>\n",
       "    <tr>\n",
       "      <th>2538</th>\n",
       "      <td>34</td>\n",
       "      <td>0</td>\n",
       "      <td>128.8</td>\n",
       "      <td>208.7</td>\n",
       "      <td>202.1</td>\n",
       "      <td>14.0</td>\n",
       "      <td>1</td>\n",
       "      <td>no</td>\n",
       "      <td>no</td>\n",
       "      <td>no</td>\n",
       "      <td>...</td>\n",
       "      <td>21.90</td>\n",
       "      <td>93</td>\n",
       "      <td>17.74</td>\n",
       "      <td>103</td>\n",
       "      <td>9.09</td>\n",
       "      <td>7</td>\n",
       "      <td>3.78</td>\n",
       "      <td>WY</td>\n",
       "      <td>408</td>\n",
       "      <td>339-6446</td>\n",
       "    </tr>\n",
       "  </tbody>\n",
       "</table>\n",
       "<p>3 rows × 21 columns</p>\n",
       "</div>"
      ],
      "text/plain": [
       "      Account_Length  Vmail_Message  Day_Mins  Eve_Mins  Night_Mins  \\\n",
       "1415              99              0     142.3     204.5       203.1   \n",
       "1288              56              0     253.2     188.0       142.0   \n",
       "2538              34              0     128.8     208.7       202.1   \n",
       "\n",
       "      Intl_Mins  CustServ_Calls Churn Intl_Plan Vmail_Plan  ...  Day_Charge  \\\n",
       "1415        9.1               0    no        no         no  ...       24.19   \n",
       "1288        4.4               1    no        no         no  ...       43.04   \n",
       "2538       14.0               1    no        no         no  ...       21.90   \n",
       "\n",
       "      Eve_Calls  Eve_Charge  Night_Calls  Night_Charge  Intl_Calls  \\\n",
       "1415         95       17.38          114          9.14           1   \n",
       "1288        116       15.98          133          6.39           4   \n",
       "2538         93       17.74          103          9.09           7   \n",
       "\n",
       "      Intl_Charge  State Area_Code     Phone  \n",
       "1415         2.46     LA       510  379-9821  \n",
       "1288         1.19     MA       510  401-3622  \n",
       "2538         3.78     WY       408  339-6446  \n",
       "\n",
       "[3 rows x 21 columns]"
      ]
     },
     "execution_count": 2,
     "metadata": {},
     "output_type": "execute_result"
    }
   ],
   "source": [
    "df = pd.read_csv(\"../input/churn-dataset/Churn.csv\")\n",
    "df.sample(3)"
   ]
  },
  {
   "cell_type": "code",
   "execution_count": 3,
   "id": "6b4231bb",
   "metadata": {
    "execution": {
     "iopub.execute_input": "2022-05-01T21:58:56.257365Z",
     "iopub.status.busy": "2022-05-01T21:58:56.256959Z",
     "iopub.status.idle": "2022-05-01T21:58:56.264786Z",
     "shell.execute_reply": "2022-05-01T21:58:56.264202Z"
    },
    "papermill": {
     "duration": 0.086717,
     "end_time": "2022-05-01T21:58:56.266547",
     "exception": false,
     "start_time": "2022-05-01T21:58:56.179830",
     "status": "completed"
    },
    "tags": []
   },
   "outputs": [],
   "source": [
    "df = df.drop(columns = [\"Phone\", \"Area_Code\"])"
   ]
  },
  {
   "cell_type": "markdown",
   "id": "bc0aea69",
   "metadata": {
    "papermill": {
     "duration": 0.075131,
     "end_time": "2022-05-01T21:58:56.417005",
     "exception": false,
     "start_time": "2022-05-01T21:58:56.341874",
     "status": "completed"
    },
    "tags": []
   },
   "source": [
    "### Data Information"
   ]
  },
  {
   "cell_type": "code",
   "execution_count": 4,
   "id": "89f84567",
   "metadata": {
    "execution": {
     "iopub.execute_input": "2022-05-01T21:58:56.569480Z",
     "iopub.status.busy": "2022-05-01T21:58:56.569192Z",
     "iopub.status.idle": "2022-05-01T21:58:56.590815Z",
     "shell.execute_reply": "2022-05-01T21:58:56.589968Z"
    },
    "papermill": {
     "duration": 0.100832,
     "end_time": "2022-05-01T21:58:56.593308",
     "exception": false,
     "start_time": "2022-05-01T21:58:56.492476",
     "status": "completed"
    },
    "tags": []
   },
   "outputs": [
    {
     "name": "stdout",
     "output_type": "stream",
     "text": [
      "<class 'pandas.core.frame.DataFrame'>\n",
      "RangeIndex: 3333 entries, 0 to 3332\n",
      "Data columns (total 19 columns):\n",
      " #   Column          Non-Null Count  Dtype  \n",
      "---  ------          --------------  -----  \n",
      " 0   Account_Length  3333 non-null   int64  \n",
      " 1   Vmail_Message   3333 non-null   int64  \n",
      " 2   Day_Mins        3333 non-null   float64\n",
      " 3   Eve_Mins        3333 non-null   float64\n",
      " 4   Night_Mins      3333 non-null   float64\n",
      " 5   Intl_Mins       3333 non-null   float64\n",
      " 6   CustServ_Calls  3333 non-null   int64  \n",
      " 7   Churn           3333 non-null   object \n",
      " 8   Intl_Plan       3333 non-null   object \n",
      " 9   Vmail_Plan      3333 non-null   object \n",
      " 10  Day_Calls       3333 non-null   int64  \n",
      " 11  Day_Charge      3333 non-null   float64\n",
      " 12  Eve_Calls       3333 non-null   int64  \n",
      " 13  Eve_Charge      3333 non-null   float64\n",
      " 14  Night_Calls     3333 non-null   int64  \n",
      " 15  Night_Charge    3333 non-null   float64\n",
      " 16  Intl_Calls      3333 non-null   int64  \n",
      " 17  Intl_Charge     3333 non-null   float64\n",
      " 18  State           3333 non-null   object \n",
      "dtypes: float64(8), int64(7), object(4)\n",
      "memory usage: 494.9+ KB\n"
     ]
    }
   ],
   "source": [
    "# Variables information\n",
    "df.info()"
   ]
  },
  {
   "cell_type": "code",
   "execution_count": 5,
   "id": "18e718f0",
   "metadata": {
    "execution": {
     "iopub.execute_input": "2022-05-01T21:58:56.748142Z",
     "iopub.status.busy": "2022-05-01T21:58:56.747709Z",
     "iopub.status.idle": "2022-05-01T21:58:56.805204Z",
     "shell.execute_reply": "2022-05-01T21:58:56.804284Z"
    },
    "papermill": {
     "duration": 0.139129,
     "end_time": "2022-05-01T21:58:56.808878",
     "exception": false,
     "start_time": "2022-05-01T21:58:56.669749",
     "status": "completed"
    },
    "tags": []
   },
   "outputs": [
    {
     "data": {
      "text/html": [
       "<div>\n",
       "<style scoped>\n",
       "    .dataframe tbody tr th:only-of-type {\n",
       "        vertical-align: middle;\n",
       "    }\n",
       "\n",
       "    .dataframe tbody tr th {\n",
       "        vertical-align: top;\n",
       "    }\n",
       "\n",
       "    .dataframe thead th {\n",
       "        text-align: right;\n",
       "    }\n",
       "</style>\n",
       "<table border=\"1\" class=\"dataframe\">\n",
       "  <thead>\n",
       "    <tr style=\"text-align: right;\">\n",
       "      <th></th>\n",
       "      <th>Account_Length</th>\n",
       "      <th>Vmail_Message</th>\n",
       "      <th>Day_Mins</th>\n",
       "      <th>Eve_Mins</th>\n",
       "      <th>Night_Mins</th>\n",
       "      <th>Intl_Mins</th>\n",
       "      <th>CustServ_Calls</th>\n",
       "      <th>Day_Calls</th>\n",
       "      <th>Day_Charge</th>\n",
       "      <th>Eve_Calls</th>\n",
       "      <th>Eve_Charge</th>\n",
       "      <th>Night_Calls</th>\n",
       "      <th>Night_Charge</th>\n",
       "      <th>Intl_Calls</th>\n",
       "      <th>Intl_Charge</th>\n",
       "    </tr>\n",
       "  </thead>\n",
       "  <tbody>\n",
       "    <tr>\n",
       "      <th>count</th>\n",
       "      <td>3333.000000</td>\n",
       "      <td>3333.000000</td>\n",
       "      <td>3333.000000</td>\n",
       "      <td>3333.000000</td>\n",
       "      <td>3333.000000</td>\n",
       "      <td>3333.000000</td>\n",
       "      <td>3333.000000</td>\n",
       "      <td>3333.000000</td>\n",
       "      <td>3333.000000</td>\n",
       "      <td>3333.000000</td>\n",
       "      <td>3333.000000</td>\n",
       "      <td>3333.000000</td>\n",
       "      <td>3333.000000</td>\n",
       "      <td>3333.000000</td>\n",
       "      <td>3333.000000</td>\n",
       "    </tr>\n",
       "    <tr>\n",
       "      <th>mean</th>\n",
       "      <td>101.064806</td>\n",
       "      <td>8.099010</td>\n",
       "      <td>179.775098</td>\n",
       "      <td>200.980348</td>\n",
       "      <td>200.872037</td>\n",
       "      <td>10.237294</td>\n",
       "      <td>1.562856</td>\n",
       "      <td>100.435644</td>\n",
       "      <td>30.562307</td>\n",
       "      <td>100.114311</td>\n",
       "      <td>17.083540</td>\n",
       "      <td>100.107711</td>\n",
       "      <td>9.039325</td>\n",
       "      <td>4.479448</td>\n",
       "      <td>2.764581</td>\n",
       "    </tr>\n",
       "    <tr>\n",
       "      <th>std</th>\n",
       "      <td>39.822106</td>\n",
       "      <td>13.688365</td>\n",
       "      <td>54.467389</td>\n",
       "      <td>50.713844</td>\n",
       "      <td>50.573847</td>\n",
       "      <td>2.791840</td>\n",
       "      <td>1.315491</td>\n",
       "      <td>20.069084</td>\n",
       "      <td>9.259435</td>\n",
       "      <td>19.922625</td>\n",
       "      <td>4.310668</td>\n",
       "      <td>19.568609</td>\n",
       "      <td>2.275873</td>\n",
       "      <td>2.461214</td>\n",
       "      <td>0.753773</td>\n",
       "    </tr>\n",
       "    <tr>\n",
       "      <th>min</th>\n",
       "      <td>1.000000</td>\n",
       "      <td>0.000000</td>\n",
       "      <td>0.000000</td>\n",
       "      <td>0.000000</td>\n",
       "      <td>23.200000</td>\n",
       "      <td>0.000000</td>\n",
       "      <td>0.000000</td>\n",
       "      <td>0.000000</td>\n",
       "      <td>0.000000</td>\n",
       "      <td>0.000000</td>\n",
       "      <td>0.000000</td>\n",
       "      <td>33.000000</td>\n",
       "      <td>1.040000</td>\n",
       "      <td>0.000000</td>\n",
       "      <td>0.000000</td>\n",
       "    </tr>\n",
       "    <tr>\n",
       "      <th>25%</th>\n",
       "      <td>74.000000</td>\n",
       "      <td>0.000000</td>\n",
       "      <td>143.700000</td>\n",
       "      <td>166.600000</td>\n",
       "      <td>167.000000</td>\n",
       "      <td>8.500000</td>\n",
       "      <td>1.000000</td>\n",
       "      <td>87.000000</td>\n",
       "      <td>24.430000</td>\n",
       "      <td>87.000000</td>\n",
       "      <td>14.160000</td>\n",
       "      <td>87.000000</td>\n",
       "      <td>7.520000</td>\n",
       "      <td>3.000000</td>\n",
       "      <td>2.300000</td>\n",
       "    </tr>\n",
       "    <tr>\n",
       "      <th>50%</th>\n",
       "      <td>101.000000</td>\n",
       "      <td>0.000000</td>\n",
       "      <td>179.400000</td>\n",
       "      <td>201.400000</td>\n",
       "      <td>201.200000</td>\n",
       "      <td>10.300000</td>\n",
       "      <td>1.000000</td>\n",
       "      <td>101.000000</td>\n",
       "      <td>30.500000</td>\n",
       "      <td>100.000000</td>\n",
       "      <td>17.120000</td>\n",
       "      <td>100.000000</td>\n",
       "      <td>9.050000</td>\n",
       "      <td>4.000000</td>\n",
       "      <td>2.780000</td>\n",
       "    </tr>\n",
       "    <tr>\n",
       "      <th>75%</th>\n",
       "      <td>127.000000</td>\n",
       "      <td>20.000000</td>\n",
       "      <td>216.400000</td>\n",
       "      <td>235.300000</td>\n",
       "      <td>235.300000</td>\n",
       "      <td>12.100000</td>\n",
       "      <td>2.000000</td>\n",
       "      <td>114.000000</td>\n",
       "      <td>36.790000</td>\n",
       "      <td>114.000000</td>\n",
       "      <td>20.000000</td>\n",
       "      <td>113.000000</td>\n",
       "      <td>10.590000</td>\n",
       "      <td>6.000000</td>\n",
       "      <td>3.270000</td>\n",
       "    </tr>\n",
       "    <tr>\n",
       "      <th>max</th>\n",
       "      <td>243.000000</td>\n",
       "      <td>51.000000</td>\n",
       "      <td>350.800000</td>\n",
       "      <td>363.700000</td>\n",
       "      <td>395.000000</td>\n",
       "      <td>20.000000</td>\n",
       "      <td>9.000000</td>\n",
       "      <td>165.000000</td>\n",
       "      <td>59.640000</td>\n",
       "      <td>170.000000</td>\n",
       "      <td>30.910000</td>\n",
       "      <td>175.000000</td>\n",
       "      <td>17.770000</td>\n",
       "      <td>20.000000</td>\n",
       "      <td>5.400000</td>\n",
       "    </tr>\n",
       "  </tbody>\n",
       "</table>\n",
       "</div>"
      ],
      "text/plain": [
       "       Account_Length  Vmail_Message     Day_Mins     Eve_Mins   Night_Mins  \\\n",
       "count     3333.000000    3333.000000  3333.000000  3333.000000  3333.000000   \n",
       "mean       101.064806       8.099010   179.775098   200.980348   200.872037   \n",
       "std         39.822106      13.688365    54.467389    50.713844    50.573847   \n",
       "min          1.000000       0.000000     0.000000     0.000000    23.200000   \n",
       "25%         74.000000       0.000000   143.700000   166.600000   167.000000   \n",
       "50%        101.000000       0.000000   179.400000   201.400000   201.200000   \n",
       "75%        127.000000      20.000000   216.400000   235.300000   235.300000   \n",
       "max        243.000000      51.000000   350.800000   363.700000   395.000000   \n",
       "\n",
       "         Intl_Mins  CustServ_Calls    Day_Calls   Day_Charge    Eve_Calls  \\\n",
       "count  3333.000000     3333.000000  3333.000000  3333.000000  3333.000000   \n",
       "mean     10.237294        1.562856   100.435644    30.562307   100.114311   \n",
       "std       2.791840        1.315491    20.069084     9.259435    19.922625   \n",
       "min       0.000000        0.000000     0.000000     0.000000     0.000000   \n",
       "25%       8.500000        1.000000    87.000000    24.430000    87.000000   \n",
       "50%      10.300000        1.000000   101.000000    30.500000   100.000000   \n",
       "75%      12.100000        2.000000   114.000000    36.790000   114.000000   \n",
       "max      20.000000        9.000000   165.000000    59.640000   170.000000   \n",
       "\n",
       "        Eve_Charge  Night_Calls  Night_Charge   Intl_Calls  Intl_Charge  \n",
       "count  3333.000000  3333.000000   3333.000000  3333.000000  3333.000000  \n",
       "mean     17.083540   100.107711      9.039325     4.479448     2.764581  \n",
       "std       4.310668    19.568609      2.275873     2.461214     0.753773  \n",
       "min       0.000000    33.000000      1.040000     0.000000     0.000000  \n",
       "25%      14.160000    87.000000      7.520000     3.000000     2.300000  \n",
       "50%      17.120000   100.000000      9.050000     4.000000     2.780000  \n",
       "75%      20.000000   113.000000     10.590000     6.000000     3.270000  \n",
       "max      30.910000   175.000000     17.770000    20.000000     5.400000  "
      ]
     },
     "execution_count": 5,
     "metadata": {},
     "output_type": "execute_result"
    }
   ],
   "source": [
    "# Variables Statistics\n",
    "df.describe()"
   ]
  },
  {
   "cell_type": "markdown",
   "id": "dc35187f",
   "metadata": {
    "papermill": {
     "duration": 0.076357,
     "end_time": "2022-05-01T21:58:56.962913",
     "exception": false,
     "start_time": "2022-05-01T21:58:56.886556",
     "status": "completed"
    },
    "tags": []
   },
   "source": [
    "### Insights"
   ]
  },
  {
   "cell_type": "code",
   "execution_count": 6,
   "id": "842c8b25",
   "metadata": {
    "execution": {
     "iopub.execute_input": "2022-05-01T21:58:57.117710Z",
     "iopub.status.busy": "2022-05-01T21:58:57.117432Z",
     "iopub.status.idle": "2022-05-01T21:58:57.123888Z",
     "shell.execute_reply": "2022-05-01T21:58:57.123175Z"
    },
    "papermill": {
     "duration": 0.08612,
     "end_time": "2022-05-01T21:58:57.125705",
     "exception": false,
     "start_time": "2022-05-01T21:58:57.039585",
     "status": "completed"
    },
    "tags": []
   },
   "outputs": [
    {
     "data": {
      "text/plain": [
       "no     2850\n",
       "yes     483\n",
       "Name: Churn, dtype: int64"
      ]
     },
     "execution_count": 6,
     "metadata": {},
     "output_type": "execute_result"
    }
   ],
   "source": [
    "# Churn Classes\n",
    "df[\"Churn\"].value_counts()"
   ]
  },
  {
   "cell_type": "code",
   "execution_count": 7,
   "id": "a046b2da",
   "metadata": {
    "execution": {
     "iopub.execute_input": "2022-05-01T21:58:57.281276Z",
     "iopub.status.busy": "2022-05-01T21:58:57.280459Z",
     "iopub.status.idle": "2022-05-01T21:58:57.301344Z",
     "shell.execute_reply": "2022-05-01T21:58:57.300583Z"
    },
    "papermill": {
     "duration": 0.100784,
     "end_time": "2022-05-01T21:58:57.303384",
     "exception": false,
     "start_time": "2022-05-01T21:58:57.202600",
     "status": "completed"
    },
    "tags": []
   },
   "outputs": [
    {
     "data": {
      "text/html": [
       "<div>\n",
       "<style scoped>\n",
       "    .dataframe tbody tr th:only-of-type {\n",
       "        vertical-align: middle;\n",
       "    }\n",
       "\n",
       "    .dataframe tbody tr th {\n",
       "        vertical-align: top;\n",
       "    }\n",
       "\n",
       "    .dataframe thead th {\n",
       "        text-align: right;\n",
       "    }\n",
       "</style>\n",
       "<table border=\"1\" class=\"dataframe\">\n",
       "  <thead>\n",
       "    <tr style=\"text-align: right;\">\n",
       "      <th></th>\n",
       "      <th>Account_Length</th>\n",
       "      <th>Vmail_Message</th>\n",
       "      <th>Day_Mins</th>\n",
       "      <th>Eve_Mins</th>\n",
       "      <th>Night_Mins</th>\n",
       "      <th>Intl_Mins</th>\n",
       "      <th>CustServ_Calls</th>\n",
       "      <th>Day_Calls</th>\n",
       "      <th>Day_Charge</th>\n",
       "      <th>Eve_Calls</th>\n",
       "      <th>Eve_Charge</th>\n",
       "      <th>Night_Calls</th>\n",
       "      <th>Night_Charge</th>\n",
       "      <th>Intl_Calls</th>\n",
       "      <th>Intl_Charge</th>\n",
       "    </tr>\n",
       "    <tr>\n",
       "      <th>Churn</th>\n",
       "      <th></th>\n",
       "      <th></th>\n",
       "      <th></th>\n",
       "      <th></th>\n",
       "      <th></th>\n",
       "      <th></th>\n",
       "      <th></th>\n",
       "      <th></th>\n",
       "      <th></th>\n",
       "      <th></th>\n",
       "      <th></th>\n",
       "      <th></th>\n",
       "      <th></th>\n",
       "      <th></th>\n",
       "      <th></th>\n",
       "    </tr>\n",
       "  </thead>\n",
       "  <tbody>\n",
       "    <tr>\n",
       "      <th>no</th>\n",
       "      <td>100.793684</td>\n",
       "      <td>8.604561</td>\n",
       "      <td>175.175754</td>\n",
       "      <td>199.043298</td>\n",
       "      <td>200.133193</td>\n",
       "      <td>10.158877</td>\n",
       "      <td>1.449825</td>\n",
       "      <td>100.283158</td>\n",
       "      <td>29.780421</td>\n",
       "      <td>100.038596</td>\n",
       "      <td>16.918909</td>\n",
       "      <td>100.058246</td>\n",
       "      <td>9.006074</td>\n",
       "      <td>4.532982</td>\n",
       "      <td>2.743404</td>\n",
       "    </tr>\n",
       "    <tr>\n",
       "      <th>yes</th>\n",
       "      <td>102.664596</td>\n",
       "      <td>5.115942</td>\n",
       "      <td>206.914079</td>\n",
       "      <td>212.410145</td>\n",
       "      <td>205.231677</td>\n",
       "      <td>10.700000</td>\n",
       "      <td>2.229814</td>\n",
       "      <td>101.335404</td>\n",
       "      <td>35.175921</td>\n",
       "      <td>100.561077</td>\n",
       "      <td>18.054969</td>\n",
       "      <td>100.399586</td>\n",
       "      <td>9.235528</td>\n",
       "      <td>4.163561</td>\n",
       "      <td>2.889545</td>\n",
       "    </tr>\n",
       "  </tbody>\n",
       "</table>\n",
       "</div>"
      ],
      "text/plain": [
       "       Account_Length  Vmail_Message    Day_Mins    Eve_Mins  Night_Mins  \\\n",
       "Churn                                                                      \n",
       "no         100.793684       8.604561  175.175754  199.043298  200.133193   \n",
       "yes        102.664596       5.115942  206.914079  212.410145  205.231677   \n",
       "\n",
       "       Intl_Mins  CustServ_Calls   Day_Calls  Day_Charge   Eve_Calls  \\\n",
       "Churn                                                                  \n",
       "no     10.158877        1.449825  100.283158   29.780421  100.038596   \n",
       "yes    10.700000        2.229814  101.335404   35.175921  100.561077   \n",
       "\n",
       "       Eve_Charge  Night_Calls  Night_Charge  Intl_Calls  Intl_Charge  \n",
       "Churn                                                                  \n",
       "no      16.918909   100.058246      9.006074    4.532982     2.743404  \n",
       "yes     18.054969   100.399586      9.235528    4.163561     2.889545  "
      ]
     },
     "execution_count": 7,
     "metadata": {},
     "output_type": "execute_result"
    }
   ],
   "source": [
    "# Average by Classes\n",
    "df.groupby(\"Churn\").mean()"
   ]
  },
  {
   "cell_type": "markdown",
   "id": "526d09d9",
   "metadata": {
    "papermill": {
     "duration": 0.078197,
     "end_time": "2022-05-01T21:58:57.462032",
     "exception": false,
     "start_time": "2022-05-01T21:58:57.383835",
     "status": "completed"
    },
    "tags": []
   },
   "source": [
    "**Churn by State**"
   ]
  },
  {
   "cell_type": "code",
   "execution_count": 8,
   "id": "b8b9deab",
   "metadata": {
    "execution": {
     "iopub.execute_input": "2022-05-01T21:58:57.620310Z",
     "iopub.status.busy": "2022-05-01T21:58:57.620025Z",
     "iopub.status.idle": "2022-05-01T21:58:58.806447Z",
     "shell.execute_reply": "2022-05-01T21:58:58.805578Z"
    },
    "papermill": {
     "duration": 1.267872,
     "end_time": "2022-05-01T21:58:58.808387",
     "exception": false,
     "start_time": "2022-05-01T21:58:57.540515",
     "status": "completed"
    },
    "tags": []
   },
   "outputs": [
    {
     "data": {
      "image/png": "[encoded data removed]",
      "text/plain": [
       "<Figure size 1296x504 with 1 Axes>"
      ]
     },
     "metadata": {
      "needs_background": "light"
     },
     "output_type": "display_data"
    }
   ],
   "source": [
    "cs = df.groupby([\"State\", \"Churn\"])[\"Churn\"].agg([\"count\"]).reset_index()\n",
    "cs.columns = [\"State\", \"Churn\", \"Customers\"]\n",
    "\n",
    "plt.figure(figsize = (18, 7))\n",
    "sns.barplot(x = \"State\", y = \"Customers\", hue = \"Churn\", data = cs, palette = \"hsv\")\n",
    "plt.title(\"Churn Status by State\", color = \"red\", size = 20, weight = \"bold\")\n",
    "plt.yticks(size = 15)\n",
    "plt.xlabel(\"State\", color = \"red\", size = 20, weight = \"bold\")\n",
    "plt.ylabel(\"Customers\", color = \"red\", size = 20, weight = \"bold\")\n",
    "plt.show()"
   ]
  },
  {
   "cell_type": "markdown",
   "id": "7f7ae5cc",
   "metadata": {
    "execution": {
     "iopub.execute_input": "2022-04-24T11:41:31.89567Z",
     "iopub.status.busy": "2022-04-24T11:41:31.895422Z",
     "iopub.status.idle": "2022-04-24T11:41:31.998882Z",
     "shell.execute_reply": "2022-04-24T11:41:31.99814Z",
     "shell.execute_reply.started": "2022-04-24T11:41:31.895643Z"
    },
    "papermill": {
     "duration": 0.080324,
     "end_time": "2022-05-01T21:58:58.971790",
     "exception": false,
     "start_time": "2022-05-01T21:58:58.891466",
     "status": "completed"
    },
    "tags": []
   },
   "source": [
    "**Maximum Churn by State**"
   ]
  },
  {
   "cell_type": "code",
   "execution_count": 9,
   "id": "ba2fbb16",
   "metadata": {
    "execution": {
     "iopub.execute_input": "2022-05-01T21:58:59.134134Z",
     "iopub.status.busy": "2022-05-01T21:58:59.133690Z",
     "iopub.status.idle": "2022-05-01T21:58:59.143250Z",
     "shell.execute_reply": "2022-05-01T21:58:59.142455Z"
    },
    "papermill": {
     "duration": 0.094874,
     "end_time": "2022-05-01T21:58:59.145306",
     "exception": false,
     "start_time": "2022-05-01T21:58:59.050432",
     "status": "completed"
    },
    "tags": []
   },
   "outputs": [
    {
     "data": {
      "text/plain": [
       "State         WY\n",
       "Churn        yes\n",
       "Customers     18\n",
       "dtype: object"
      ]
     },
     "execution_count": 9,
     "metadata": {},
     "output_type": "execute_result"
    }
   ],
   "source": [
    "cs[(cs[\"Churn\"] == \"yes\")].max()"
   ]
  },
  {
   "cell_type": "markdown",
   "id": "b41462b4",
   "metadata": {
    "papermill": {
     "duration": 0.07895,
     "end_time": "2022-05-01T21:58:59.305029",
     "exception": false,
     "start_time": "2022-05-01T21:58:59.226079",
     "status": "completed"
    },
    "tags": []
   },
   "source": [
    "**Maximum Retained Customers by State**"
   ]
  },
  {
   "cell_type": "code",
   "execution_count": 10,
   "id": "43033015",
   "metadata": {
    "execution": {
     "iopub.execute_input": "2022-05-01T21:58:59.465692Z",
     "iopub.status.busy": "2022-05-01T21:58:59.465354Z",
     "iopub.status.idle": "2022-05-01T21:58:59.475101Z",
     "shell.execute_reply": "2022-05-01T21:58:59.474188Z"
    },
    "papermill": {
     "duration": 0.092212,
     "end_time": "2022-05-01T21:58:59.477033",
     "exception": false,
     "start_time": "2022-05-01T21:58:59.384821",
     "status": "completed"
    },
    "tags": []
   },
   "outputs": [
    {
     "data": {
      "text/plain": [
       "State        WY\n",
       "Churn        no\n",
       "Customers    96\n",
       "dtype: object"
      ]
     },
     "execution_count": 10,
     "metadata": {},
     "output_type": "execute_result"
    }
   ],
   "source": [
    "cs[cs[\"Churn\"] == \"no\"].max()"
   ]
  },
  {
   "cell_type": "markdown",
   "id": "6430ef4e",
   "metadata": {
    "papermill": {
     "duration": 0.079104,
     "end_time": "2022-05-01T21:58:59.635842",
     "exception": false,
     "start_time": "2022-05-01T21:58:59.556738",
     "status": "completed"
    },
    "tags": []
   },
   "source": [
    "**Distribution of Minutes used in Days by Customers**"
   ]
  },
  {
   "cell_type": "code",
   "execution_count": 11,
   "id": "5f4063e7",
   "metadata": {
    "execution": {
     "iopub.execute_input": "2022-05-01T21:58:59.799261Z",
     "iopub.status.busy": "2022-05-01T21:58:59.798964Z",
     "iopub.status.idle": "2022-05-01T21:59:00.129164Z",
     "shell.execute_reply": "2022-05-01T21:59:00.128133Z"
    },
    "papermill": {
     "duration": 0.416247,
     "end_time": "2022-05-01T21:59:00.131745",
     "exception": false,
     "start_time": "2022-05-01T21:58:59.715498",
     "status": "completed"
    },
    "tags": []
   },
   "outputs": [
    {
     "data": {
      "image/png": "[encoded data removed]",
      "text/plain": [
       "<Figure size 1296x504 with 1 Axes>"
      ]
     },
     "metadata": {
      "needs_background": "light"
     },
     "output_type": "display_data"
    }
   ],
   "source": [
    "plt.figure(figsize = (18, 7))\n",
    "sns.distplot(x = df[\"Day_Mins\"], color = \"deepskyblue\")\n",
    "plt.title(\"Distribution of Minutes used in Days by Customers\", size = 20, color = \"purple\", weight = \"bold\")\n",
    "plt.xlabel(\"Minutes used in Days by Customers\", size = 20, color = \"purple\", weight = \"bold\")\n",
    "plt.ylabel(\"Distribution\", size = 20, color = \"purple\", weight = \"bold\")\n",
    "plt.xticks(size = 15)\n",
    "plt.yticks(size = 15)\n",
    "plt.show()"
   ]
  },
  {
   "cell_type": "markdown",
   "id": "02d062b1",
   "metadata": {
    "papermill": {
     "duration": 0.081054,
     "end_time": "2022-05-01T21:59:00.294481",
     "exception": false,
     "start_time": "2022-05-01T21:59:00.213427",
     "status": "completed"
    },
    "tags": []
   },
   "source": [
    "**Distribution of Minutes used in Evenning by Customers**"
   ]
  },
  {
   "cell_type": "code",
   "execution_count": 12,
   "id": "a9549abb",
   "metadata": {
    "execution": {
     "iopub.execute_input": "2022-05-01T21:59:00.458339Z",
     "iopub.status.busy": "2022-05-01T21:59:00.458076Z",
     "iopub.status.idle": "2022-05-01T21:59:00.777415Z",
     "shell.execute_reply": "2022-05-01T21:59:00.776588Z"
    },
    "papermill": {
     "duration": 0.403824,
     "end_time": "2022-05-01T21:59:00.779629",
     "exception": false,
     "start_time": "2022-05-01T21:59:00.375805",
     "status": "completed"
    },
    "tags": []
   },
   "outputs": [
    {
     "data": {
      "image/png": "[encoded data removed]",
      "text/plain": [
       "<Figure size 1296x504 with 1 Axes>"
      ]
     },
     "metadata": {
      "needs_background": "light"
     },
     "output_type": "display_data"
    }
   ],
   "source": [
    "plt.figure(figsize = (18, 7))\n",
    "sns.distplot(x = df[\"Eve_Mins\"], color = \"orange\")\n",
    "plt.title(\"Distribution of Minutes used in Evenning by Customers\", size = 20, color = \"brown\", weight = \"bold\")\n",
    "plt.xlabel(\"Minutes used in Evenning by Customers\", size = 20, color = \"brown\", weight = \"bold\")\n",
    "plt.ylabel(\"Distribution\", size = 20, color = \"brown\", weight = \"bold\")\n",
    "plt.xticks(size = 15)\n",
    "plt.yticks(size = 15)\n",
    "plt.show()"
   ]
  },
  {
   "cell_type": "markdown",
   "id": "303dbd55",
   "metadata": {
    "papermill": {
     "duration": 0.083643,
     "end_time": "2022-05-01T21:59:00.947657",
     "exception": false,
     "start_time": "2022-05-01T21:59:00.864014",
     "status": "completed"
    },
    "tags": []
   },
   "source": [
    "**Distribution of Minutes used in Night by Customers**"
   ]
  },
  {
   "cell_type": "code",
   "execution_count": 13,
   "id": "df2a5a35",
   "metadata": {
    "execution": {
     "iopub.execute_input": "2022-05-01T21:59:01.117829Z",
     "iopub.status.busy": "2022-05-01T21:59:01.117085Z",
     "iopub.status.idle": "2022-05-01T21:59:01.437944Z",
     "shell.execute_reply": "2022-05-01T21:59:01.437084Z"
    },
    "papermill": {
     "duration": 0.409054,
     "end_time": "2022-05-01T21:59:01.439920",
     "exception": false,
     "start_time": "2022-05-01T21:59:01.030866",
     "status": "completed"
    },
    "tags": []
   },
   "outputs": [
    {
     "data": {
      "image/png": "[encoded data removed]",
      "text/plain": [
       "<Figure size 1296x504 with 1 Axes>"
      ]
     },
     "metadata": {
      "needs_background": "light"
     },
     "output_type": "display_data"
    }
   ],
   "source": [
    "plt.figure(figsize = (18, 7))\n",
    "sns.distplot(x = df[\"Night_Mins\"], color = \"darkslategrey\")\n",
    "plt.title(\"Distribution of Minutes used in Night by Customers\", size = 20, weight = \"bold\")\n",
    "plt.xlabel(\"Minutes used in Night by Customers\", size = 20, weight = \"bold\")\n",
    "plt.ylabel(\"Distribution\", size = 20, weight = \"bold\")\n",
    "plt.xticks(size = 15)\n",
    "plt.yticks(size = 15)\n",
    "plt.show()"
   ]
  },
  {
   "cell_type": "markdown",
   "id": "d1cae8a0",
   "metadata": {
    "papermill": {
     "duration": 0.08505,
     "end_time": "2022-05-01T21:59:01.612205",
     "exception": false,
     "start_time": "2022-05-01T21:59:01.527155",
     "status": "completed"
    },
    "tags": []
   },
   "source": [
    "**Distribution of International Minutes**"
   ]
  },
  {
   "cell_type": "code",
   "execution_count": 14,
   "id": "4827a108",
   "metadata": {
    "execution": {
     "iopub.execute_input": "2022-05-01T21:59:01.783948Z",
     "iopub.status.busy": "2022-05-01T21:59:01.783645Z",
     "iopub.status.idle": "2022-05-01T21:59:02.103014Z",
     "shell.execute_reply": "2022-05-01T21:59:02.102222Z"
    },
    "papermill": {
     "duration": 0.408396,
     "end_time": "2022-05-01T21:59:02.105565",
     "exception": false,
     "start_time": "2022-05-01T21:59:01.697169",
     "status": "completed"
    },
    "tags": []
   },
   "outputs": [
    {
     "data": {
      "image/png": "[encoded data removed]",
      "text/plain": [
       "<Figure size 1296x504 with 1 Axes>"
      ]
     },
     "metadata": {
      "needs_background": "light"
     },
     "output_type": "display_data"
    }
   ],
   "source": [
    "plt.figure(figsize = (18, 7))\n",
    "sns.distplot(x = df[\"Intl_Mins\"], color = \"crimson\")\n",
    "plt.title(\"Distribution of International Minutes used by Customers\", size = 20, color = \"red\", weight = \"bold\")\n",
    "plt.xlabel(\"International Minutes\", size = 20, color = \"red\", weight = \"bold\")\n",
    "plt.ylabel(\"Distribution\", size = 20, color = \"red\", weight = \"bold\")\n",
    "plt.xticks(size = 15)\n",
    "plt.yticks(size = 15)\n",
    "plt.show()"
   ]
  },
  {
   "cell_type": "markdown",
   "id": "1786c876",
   "metadata": {
    "papermill": {
     "duration": 0.093723,
     "end_time": "2022-05-01T21:59:02.286170",
     "exception": false,
     "start_time": "2022-05-01T21:59:02.192447",
     "status": "completed"
    },
    "tags": []
   },
   "source": [
    "**Difference in Account Length**"
   ]
  },
  {
   "cell_type": "code",
   "execution_count": 15,
   "id": "8ad538d9",
   "metadata": {
    "execution": {
     "iopub.execute_input": "2022-05-01T21:59:02.460871Z",
     "iopub.status.busy": "2022-05-01T21:59:02.460578Z",
     "iopub.status.idle": "2022-05-01T21:59:02.770178Z",
     "shell.execute_reply": "2022-05-01T21:59:02.769290Z"
    },
    "papermill": {
     "duration": 0.399716,
     "end_time": "2022-05-01T21:59:02.772681",
     "exception": false,
     "start_time": "2022-05-01T21:59:02.372965",
     "status": "completed"
    },
    "tags": []
   },
   "outputs": [
    {
     "data": {
      "image/png": "[encoded data removed]",
      "text/plain": [
       "<Figure size 1296x504 with 1 Axes>"
      ]
     },
     "metadata": {
      "needs_background": "light"
     },
     "output_type": "display_data"
    }
   ],
   "source": [
    "plt.figure(figsize = (18, 7))\n",
    "sns.distplot(x = df[\"Account_Length\"], color = \"blue\")\n",
    "plt.title(\"Distribution of Account Length\", size = 20, color = \"purple\", weight = \"bold\")\n",
    "plt.xlabel(\"Account Length\", size = 20, color = \"purple\", weight = \"bold\")\n",
    "plt.ylabel(\"Distribution\", size = 20, color = \"purple\", weight = \"bold\")\n",
    "plt.xticks(size = 15)\n",
    "plt.yticks(size = 15)\n",
    "plt.show()"
   ]
  },
  {
   "cell_type": "code",
   "execution_count": 16,
   "id": "a23aff58",
   "metadata": {
    "execution": {
     "iopub.execute_input": "2022-05-01T21:59:02.951726Z",
     "iopub.status.busy": "2022-05-01T21:59:02.951418Z",
     "iopub.status.idle": "2022-05-01T21:59:03.224749Z",
     "shell.execute_reply": "2022-05-01T21:59:03.223843Z"
    },
    "papermill": {
     "duration": 0.365399,
     "end_time": "2022-05-01T21:59:03.226722",
     "exception": false,
     "start_time": "2022-05-01T21:59:02.861323",
     "status": "completed"
    },
    "tags": []
   },
   "outputs": [
    {
     "data": {
      "image/png": "[encoded data removed]",
      "text/plain": [
       "<Figure size 1296x504 with 1 Axes>"
      ]
     },
     "metadata": {
      "needs_background": "light"
     },
     "output_type": "display_data"
    }
   ],
   "source": [
    "plt.figure(figsize = (18, 7))\n",
    "sns.boxplot(x = \"Churn\", y = \"Account_Length\", hue = \"Intl_Plan\", data = df, palette = \"prism_r\")\n",
    "plt.title(\"Account Length by Churn Status\", color = \"blue\", size = 20, weight = \"bold\")\n",
    "plt.xlabel(\"Churn Status\", color = \"blue\", size = 20, weight = \"bold\")\n",
    "plt.ylabel(\"Account Length\", color = \"blue\", size = 20, weight = \"bold\")\n",
    "plt.yticks(size = 15)\n",
    "plt.xticks(size = 15)\n",
    "plt.show()"
   ]
  },
  {
   "cell_type": "markdown",
   "id": "93b77ae2",
   "metadata": {
    "papermill": {
     "duration": 0.090371,
     "end_time": "2022-05-01T21:59:03.408098",
     "exception": false,
     "start_time": "2022-05-01T21:59:03.317727",
     "status": "completed"
    },
    "tags": []
   },
   "source": [
    "**Customer Service Calls and Churn**"
   ]
  },
  {
   "cell_type": "code",
   "execution_count": 17,
   "id": "18b050dd",
   "metadata": {
    "execution": {
     "iopub.execute_input": "2022-05-01T21:59:03.588855Z",
     "iopub.status.busy": "2022-05-01T21:59:03.588558Z",
     "iopub.status.idle": "2022-05-01T21:59:03.792380Z",
     "shell.execute_reply": "2022-05-01T21:59:03.791604Z"
    },
    "papermill": {
     "duration": 0.296788,
     "end_time": "2022-05-01T21:59:03.794497",
     "exception": false,
     "start_time": "2022-05-01T21:59:03.497709",
     "status": "completed"
    },
    "tags": []
   },
   "outputs": [
    {
     "data": {
      "image/png": "[encoded data removed]",
      "text/plain": [
       "<Figure size 1296x504 with 1 Axes>"
      ]
     },
     "metadata": {
      "needs_background": "light"
     },
     "output_type": "display_data"
    }
   ],
   "source": [
    "plt.figure(figsize = (18, 7))\n",
    "sns.boxplot(x = \"Churn\", y = \"CustServ_Calls\", data = df, palette = \"prism_r\")\n",
    "plt.title(\"Customer Service Calls by Churn Status\", color = \"blue\", size = 20, weight = \"bold\")\n",
    "plt.xlabel(\"Churn Status\", color = \"blue\", size = 20, weight = \"bold\")\n",
    "plt.ylabel(\"Customer Service Calls\", color = \"blue\", size = 20, weight = \"bold\")\n",
    "plt.yticks(size = 15)\n",
    "plt.xticks(size = 15)\n",
    "plt.show()"
   ]
  },
  {
   "cell_type": "markdown",
   "id": "fed0ce7d",
   "metadata": {
    "papermill": {
     "duration": 0.091156,
     "end_time": "2022-05-01T21:59:03.976828",
     "exception": false,
     "start_time": "2022-05-01T21:59:03.885672",
     "status": "completed"
    },
    "tags": []
   },
   "source": [
    "**Customer Service Calls by Churn Status having Voice Mail Plan**"
   ]
  },
  {
   "cell_type": "code",
   "execution_count": 18,
   "id": "87c5ec48",
   "metadata": {
    "execution": {
     "iopub.execute_input": "2022-05-01T21:59:04.162838Z",
     "iopub.status.busy": "2022-05-01T21:59:04.162580Z",
     "iopub.status.idle": "2022-05-01T21:59:04.450071Z",
     "shell.execute_reply": "2022-05-01T21:59:04.449199Z"
    },
    "papermill": {
     "duration": 0.381548,
     "end_time": "2022-05-01T21:59:04.452249",
     "exception": false,
     "start_time": "2022-05-01T21:59:04.070701",
     "status": "completed"
    },
    "tags": []
   },
   "outputs": [
    {
     "data": {
      "image/png": "[encoded data removed]",
      "text/plain": [
       "<Figure size 1296x504 with 1 Axes>"
      ]
     },
     "metadata": {
      "needs_background": "light"
     },
     "output_type": "display_data"
    }
   ],
   "source": [
    "plt.figure(figsize = (18, 7))\n",
    "sns.boxplot(x = \"Churn\", y = \"CustServ_Calls\", data = df, hue = \"Vmail_Plan\", palette = \"prism\")\n",
    "plt.title(\"Customer Service Calls by Churn Status having Voice Mail Plan\", color = \"blue\", size = 20, weight = \"bold\")\n",
    "plt.xlabel(\"Churn Status\", color = \"blue\", size = 20, weight = \"bold\")\n",
    "plt.ylabel(\"Customer Service Calls\", color = \"blue\", size = 20, weight = \"bold\")\n",
    "plt.yticks(size = 15)\n",
    "plt.xticks(size = 15)\n",
    "plt.show()"
   ]
  },
  {
   "cell_type": "markdown",
   "id": "0f70779c",
   "metadata": {
    "papermill": {
     "duration": 0.091525,
     "end_time": "2022-05-01T21:59:04.636377",
     "exception": false,
     "start_time": "2022-05-01T21:59:04.544852",
     "status": "completed"
    },
    "tags": []
   },
   "source": [
    "**Customer Service Calls by Churn Status having International Plan**"
   ]
  },
  {
   "cell_type": "code",
   "execution_count": 19,
   "id": "ba9cb370",
   "metadata": {
    "execution": {
     "iopub.execute_input": "2022-05-01T21:59:04.823376Z",
     "iopub.status.busy": "2022-05-01T21:59:04.822829Z",
     "iopub.status.idle": "2022-05-01T21:59:05.096367Z",
     "shell.execute_reply": "2022-05-01T21:59:05.095737Z"
    },
    "papermill": {
     "duration": 0.369687,
     "end_time": "2022-05-01T21:59:05.098243",
     "exception": false,
     "start_time": "2022-05-01T21:59:04.728556",
     "status": "completed"
    },
    "tags": []
   },
   "outputs": [
    {
     "data": {
      "image/png": "[encoded data removed]",
      "text/plain": [
       "<Figure size 1296x504 with 1 Axes>"
      ]
     },
     "metadata": {
      "needs_background": "light"
     },
     "output_type": "display_data"
    }
   ],
   "source": [
    "plt.figure(figsize = (18, 7))\n",
    "sns.boxplot(x = \"Churn\", y = \"CustServ_Calls\", data = df, hue = \"Intl_Plan\", palette = \"prism_r\")\n",
    "plt.title(\"Customer Service Calls by Churn Status having International Plan\", color = \"blue\", size = 20, weight = \"bold\")\n",
    "plt.xlabel(\"Churn Status\", color = \"blue\", size = 20, weight = \"bold\")\n",
    "plt.ylabel(\"Customer Service Calls\", color = \"blue\", size = 20, weight = \"bold\")\n",
    "plt.yticks(size = 15)\n",
    "plt.xticks(size = 15)\n",
    "plt.show()"
   ]
  },
  {
   "cell_type": "markdown",
   "id": "f5a45d07",
   "metadata": {
    "papermill": {
     "duration": 0.092299,
     "end_time": "2022-05-01T21:59:05.283431",
     "exception": false,
     "start_time": "2022-05-01T21:59:05.191132",
     "status": "completed"
    },
    "tags": []
   },
   "source": [
    "*It looks like customers who do churn end up leaving more customer service calls, unless these customers also have an voice mail plan or international plan, in which case they leave fewer customer service calls*"
   ]
  },
  {
   "cell_type": "markdown",
   "id": "5031a6b4",
   "metadata": {
    "papermill": {
     "duration": 0.092102,
     "end_time": "2022-05-01T21:59:05.468001",
     "exception": false,
     "start_time": "2022-05-01T21:59:05.375899",
     "status": "completed"
    },
    "tags": []
   },
   "source": [
    "### Data Preprocessing"
   ]
  },
  {
   "cell_type": "code",
   "execution_count": 20,
   "id": "ad4601e0",
   "metadata": {
    "execution": {
     "iopub.execute_input": "2022-05-01T21:59:05.655387Z",
     "iopub.status.busy": "2022-05-01T21:59:05.654818Z",
     "iopub.status.idle": "2022-05-01T21:59:05.670081Z",
     "shell.execute_reply": "2022-05-01T21:59:05.669305Z"
    },
    "papermill": {
     "duration": 0.110593,
     "end_time": "2022-05-01T21:59:05.672087",
     "exception": false,
     "start_time": "2022-05-01T21:59:05.561494",
     "status": "completed"
    },
    "tags": []
   },
   "outputs": [],
   "source": [
    "# Assign Label \n",
    "df[\"Intl_Plan\"] = df[\"Intl_Plan\"].replace({\"no\": 0,\n",
    "                                           \"yes\": 1})\n",
    "\n",
    "df[\"Churn\"] = df[\"Churn\"].replace({\"no\": 0,\n",
    "                                   \"yes\": 1})\n",
    "\n",
    "df[\"Vmail_Plan\"] = df[\"Vmail_Plan\"].replace({\"no\": 0,\n",
    "                                             \"yes\": 1})"
   ]
  },
  {
   "cell_type": "code",
   "execution_count": 21,
   "id": "9e62a4b6",
   "metadata": {
    "execution": {
     "iopub.execute_input": "2022-05-01T21:59:05.859946Z",
     "iopub.status.busy": "2022-05-01T21:59:05.859677Z",
     "iopub.status.idle": "2022-05-01T21:59:05.884330Z",
     "shell.execute_reply": "2022-05-01T21:59:05.883398Z"
    },
    "papermill": {
     "duration": 0.122001,
     "end_time": "2022-05-01T21:59:05.887157",
     "exception": false,
     "start_time": "2022-05-01T21:59:05.765156",
     "status": "completed"
    },
    "tags": []
   },
   "outputs": [
    {
     "name": "stdout",
     "output_type": "stream",
     "text": [
      "<class 'pandas.core.frame.DataFrame'>\n",
      "RangeIndex: 3333 entries, 0 to 3332\n",
      "Data columns (total 69 columns):\n",
      " #   Column          Non-Null Count  Dtype  \n",
      "---  ------          --------------  -----  \n",
      " 0   Account_Length  3333 non-null   int64  \n",
      " 1   Vmail_Message   3333 non-null   int64  \n",
      " 2   Day_Mins        3333 non-null   float64\n",
      " 3   Eve_Mins        3333 non-null   float64\n",
      " 4   Night_Mins      3333 non-null   float64\n",
      " 5   Intl_Mins       3333 non-null   float64\n",
      " 6   CustServ_Calls  3333 non-null   int64  \n",
      " 7   Churn           3333 non-null   int64  \n",
      " 8   Intl_Plan       3333 non-null   int64  \n",
      " 9   Vmail_Plan      3333 non-null   int64  \n",
      " 10  Day_Calls       3333 non-null   int64  \n",
      " 11  Day_Charge      3333 non-null   float64\n",
      " 12  Eve_Calls       3333 non-null   int64  \n",
      " 13  Eve_Charge      3333 non-null   float64\n",
      " 14  Night_Calls     3333 non-null   int64  \n",
      " 15  Night_Charge    3333 non-null   float64\n",
      " 16  Intl_Calls      3333 non-null   int64  \n",
      " 17  Intl_Charge     3333 non-null   float64\n",
      " 18  State_AK        3333 non-null   uint8  \n",
      " 19  State_AL        3333 non-null   uint8  \n",
      " 20  State_AR        3333 non-null   uint8  \n",
      " 21  State_AZ        3333 non-null   uint8  \n",
      " 22  State_CA        3333 non-null   uint8  \n",
      " 23  State_CO        3333 non-null   uint8  \n",
      " 24  State_CT        3333 non-null   uint8  \n",
      " 25  State_DC        3333 non-null   uint8  \n",
      " 26  State_DE        3333 non-null   uint8  \n",
      " 27  State_FL        3333 non-null   uint8  \n",
      " 28  State_GA        3333 non-null   uint8  \n",
      " 29  State_HI        3333 non-null   uint8  \n",
      " 30  State_IA        3333 non-null   uint8  \n",
      " 31  State_ID        3333 non-null   uint8  \n",
      " 32  State_IL        3333 non-null   uint8  \n",
      " 33  State_IN        3333 non-null   uint8  \n",
      " 34  State_KS        3333 non-null   uint8  \n",
      " 35  State_KY        3333 non-null   uint8  \n",
      " 36  State_LA        3333 non-null   uint8  \n",
      " 37  State_MA        3333 non-null   uint8  \n",
      " 38  State_MD        3333 non-null   uint8  \n",
      " 39  State_ME        3333 non-null   uint8  \n",
      " 40  State_MI        3333 non-null   uint8  \n",
      " 41  State_MN        3333 non-null   uint8  \n",
      " 42  State_MO        3333 non-null   uint8  \n",
      " 43  State_MS        3333 non-null   uint8  \n",
      " 44  State_MT        3333 non-null   uint8  \n",
      " 45  State_NC        3333 non-null   uint8  \n",
      " 46  State_ND        3333 non-null   uint8  \n",
      " 47  State_NE        3333 non-null   uint8  \n",
      " 48  State_NH        3333 non-null   uint8  \n",
      " 49  State_NJ        3333 non-null   uint8  \n",
      " 50  State_NM        3333 non-null   uint8  \n",
      " 51  State_NV        3333 non-null   uint8  \n",
      " 52  State_NY        3333 non-null   uint8  \n",
      " 53  State_OH        3333 non-null   uint8  \n",
      " 54  State_OK        3333 non-null   uint8  \n",
      " 55  State_OR        3333 non-null   uint8  \n",
      " 56  State_PA        3333 non-null   uint8  \n",
      " 57  State_RI        3333 non-null   uint8  \n",
      " 58  State_SC        3333 non-null   uint8  \n",
      " 59  State_SD        3333 non-null   uint8  \n",
      " 60  State_TN        3333 non-null   uint8  \n",
      " 61  State_TX        3333 non-null   uint8  \n",
      " 62  State_UT        3333 non-null   uint8  \n",
      " 63  State_VA        3333 non-null   uint8  \n",
      " 64  State_VT        3333 non-null   uint8  \n",
      " 65  State_WA        3333 non-null   uint8  \n",
      " 66  State_WI        3333 non-null   uint8  \n",
      " 67  State_WV        3333 non-null   uint8  \n",
      " 68  State_WY        3333 non-null   uint8  \n",
      "dtypes: float64(8), int64(10), uint8(51)\n",
      "memory usage: 634.8 KB\n"
     ]
    }
   ],
   "source": [
    "# Dummy Variables\n",
    "df = pd.get_dummies(df)\n",
    "df.info()"
   ]
  },
  {
   "cell_type": "markdown",
   "id": "fe7ccc54",
   "metadata": {
    "papermill": {
     "duration": 0.097852,
     "end_time": "2022-05-01T21:59:06.082242",
     "exception": false,
     "start_time": "2022-05-01T21:59:05.984390",
     "status": "completed"
    },
    "tags": []
   },
   "source": [
    "### Feature Engineering"
   ]
  },
  {
   "cell_type": "markdown",
   "id": "05a55b3e",
   "metadata": {
    "papermill": {
     "duration": 0.09431,
     "end_time": "2022-05-01T21:59:06.271795",
     "exception": false,
     "start_time": "2022-05-01T21:59:06.177485",
     "status": "completed"
    },
    "tags": []
   },
   "source": [
    "**Total Mins**"
   ]
  },
  {
   "cell_type": "code",
   "execution_count": 22,
   "id": "470d26eb",
   "metadata": {
    "execution": {
     "iopub.execute_input": "2022-05-01T21:59:06.463387Z",
     "iopub.status.busy": "2022-05-01T21:59:06.462801Z",
     "iopub.status.idle": "2022-05-01T21:59:06.468172Z",
     "shell.execute_reply": "2022-05-01T21:59:06.467592Z"
    },
    "papermill": {
     "duration": 0.102067,
     "end_time": "2022-05-01T21:59:06.469984",
     "exception": false,
     "start_time": "2022-05-01T21:59:06.367917",
     "status": "completed"
    },
    "tags": []
   },
   "outputs": [],
   "source": [
    "df[\"Total_Mins\"] = df[\"Day_Mins\"] + df[\"Eve_Mins\"] + df[\"Night_Mins\"] + df[\"Intl_Mins\"]"
   ]
  },
  {
   "cell_type": "markdown",
   "id": "9e397145",
   "metadata": {
    "papermill": {
     "duration": 0.094059,
     "end_time": "2022-05-01T21:59:06.661671",
     "exception": false,
     "start_time": "2022-05-01T21:59:06.567612",
     "status": "completed"
    },
    "tags": []
   },
   "source": [
    "**Cost by Time**"
   ]
  },
  {
   "cell_type": "code",
   "execution_count": 23,
   "id": "4ae7cca7",
   "metadata": {
    "execution": {
     "iopub.execute_input": "2022-05-01T21:59:06.868102Z",
     "iopub.status.busy": "2022-05-01T21:59:06.867783Z",
     "iopub.status.idle": "2022-05-01T21:59:06.876179Z",
     "shell.execute_reply": "2022-05-01T21:59:06.875384Z"
    },
    "papermill": {
     "duration": 0.123095,
     "end_time": "2022-05-01T21:59:06.878674",
     "exception": false,
     "start_time": "2022-05-01T21:59:06.755579",
     "status": "completed"
    },
    "tags": []
   },
   "outputs": [],
   "source": [
    "df[\"Day_Cost\"] = df[\"Day_Mins\"] / df[\"Day_Charge\"]\n",
    "\n",
    "df[\"Eve_Cost\"] = df[\"Eve_Mins\"] / df[\"Eve_Charge\"]\n",
    "\n",
    "df[\"Night_Cost\"] = df[\"Night_Mins\"] / df[\"Night_Charge\"]"
   ]
  },
  {
   "cell_type": "markdown",
   "id": "093451a4",
   "metadata": {
    "papermill": {
     "duration": 0.106342,
     "end_time": "2022-05-01T21:59:07.099182",
     "exception": false,
     "start_time": "2022-05-01T21:59:06.992840",
     "status": "completed"
    },
    "tags": []
   },
   "source": [
    "**Average Calls by Time**"
   ]
  },
  {
   "cell_type": "code",
   "execution_count": 24,
   "id": "57555cd7",
   "metadata": {
    "execution": {
     "iopub.execute_input": "2022-05-01T21:59:07.301377Z",
     "iopub.status.busy": "2022-05-01T21:59:07.300559Z",
     "iopub.status.idle": "2022-05-01T21:59:07.309780Z",
     "shell.execute_reply": "2022-05-01T21:59:07.308917Z"
    },
    "papermill": {
     "duration": 0.108195,
     "end_time": "2022-05-01T21:59:07.312269",
     "exception": false,
     "start_time": "2022-05-01T21:59:07.204074",
     "status": "completed"
    },
    "tags": []
   },
   "outputs": [],
   "source": [
    "df[\"Avg_Night_Calls\"] = df[\"Night_Mins\"] / df[\"Night_Calls\"]\n",
    "df[\"Avg_Eve_Calls\"] = df[\"Eve_Mins\"] / df[\"Eve_Calls\"]\n",
    "df[\"Avg_Day_Calls\"] = df[\"Day_Mins\"] / df[\"Day_Calls\"]"
   ]
  },
  {
   "cell_type": "markdown",
   "id": "8d77bbf0",
   "metadata": {
    "papermill": {
     "duration": 0.094646,
     "end_time": "2022-05-01T21:59:07.503218",
     "exception": false,
     "start_time": "2022-05-01T21:59:07.408572",
     "status": "completed"
    },
    "tags": []
   },
   "source": [
    "**Drop Null Values**"
   ]
  },
  {
   "cell_type": "code",
   "execution_count": 25,
   "id": "d2fb29da",
   "metadata": {
    "execution": {
     "iopub.execute_input": "2022-05-01T21:59:07.697665Z",
     "iopub.status.busy": "2022-05-01T21:59:07.697353Z",
     "iopub.status.idle": "2022-05-01T21:59:07.709705Z",
     "shell.execute_reply": "2022-05-01T21:59:07.708765Z"
    },
    "papermill": {
     "duration": 0.112547,
     "end_time": "2022-05-01T21:59:07.711804",
     "exception": false,
     "start_time": "2022-05-01T21:59:07.599257",
     "status": "completed"
    },
    "tags": []
   },
   "outputs": [],
   "source": [
    "df = df.dropna()"
   ]
  },
  {
   "cell_type": "markdown",
   "id": "3ced545b",
   "metadata": {
    "papermill": {
     "duration": 0.093563,
     "end_time": "2022-05-01T21:59:07.899016",
     "exception": false,
     "start_time": "2022-05-01T21:59:07.805453",
     "status": "completed"
    },
    "tags": []
   },
   "source": [
    "**Separate Features and Target**"
   ]
  },
  {
   "cell_type": "code",
   "execution_count": 26,
   "id": "26c52bb1",
   "metadata": {
    "execution": {
     "iopub.execute_input": "2022-05-01T21:59:08.088845Z",
     "iopub.status.busy": "2022-05-01T21:59:08.088126Z",
     "iopub.status.idle": "2022-05-01T21:59:08.093450Z",
     "shell.execute_reply": "2022-05-01T21:59:08.092902Z"
    },
    "papermill": {
     "duration": 0.102855,
     "end_time": "2022-05-01T21:59:08.095225",
     "exception": false,
     "start_time": "2022-05-01T21:59:07.992370",
     "status": "completed"
    },
    "tags": []
   },
   "outputs": [],
   "source": [
    "# Features\n",
    "X = df[df.columns.drop(\"Churn\")]\n",
    "\n",
    "# Target\n",
    "y = df[\"Churn\"]"
   ]
  },
  {
   "cell_type": "markdown",
   "id": "935a7090",
   "metadata": {
    "papermill": {
     "duration": 0.092894,
     "end_time": "2022-05-01T21:59:08.281749",
     "exception": false,
     "start_time": "2022-05-01T21:59:08.188855",
     "status": "completed"
    },
    "tags": []
   },
   "source": [
    "**Split Data into Training Set and Testing Set**"
   ]
  },
  {
   "cell_type": "code",
   "execution_count": 27,
   "id": "83823dd7",
   "metadata": {
    "execution": {
     "iopub.execute_input": "2022-05-01T21:59:08.470570Z",
     "iopub.status.busy": "2022-05-01T21:59:08.470058Z",
     "iopub.status.idle": "2022-05-01T21:59:08.479248Z",
     "shell.execute_reply": "2022-05-01T21:59:08.478588Z"
    },
    "papermill": {
     "duration": 0.105689,
     "end_time": "2022-05-01T21:59:08.481322",
     "exception": false,
     "start_time": "2022-05-01T21:59:08.375633",
     "status": "completed"
    },
    "tags": []
   },
   "outputs": [],
   "source": [
    "X_train, X_test, y_train, y_test = train_test_split(X,\n",
    "                                                    y,\n",
    "                                                    test_size = 0.3,\n",
    "                                                    stratify = y,\n",
    "                                                    random_state = 42)"
   ]
  },
  {
   "cell_type": "markdown",
   "id": "4910943b",
   "metadata": {
    "papermill": {
     "duration": 0.094253,
     "end_time": "2022-05-01T21:59:08.670548",
     "exception": false,
     "start_time": "2022-05-01T21:59:08.576295",
     "status": "completed"
    },
    "tags": []
   },
   "source": [
    "**Scaling on int and float columns**"
   ]
  },
  {
   "cell_type": "code",
   "execution_count": 28,
   "id": "9573df9a",
   "metadata": {
    "execution": {
     "iopub.execute_input": "2022-05-01T21:59:08.860285Z",
     "iopub.status.busy": "2022-05-01T21:59:08.859377Z",
     "iopub.status.idle": "2022-05-01T21:59:08.867305Z",
     "shell.execute_reply": "2022-05-01T21:59:08.866732Z"
    },
    "papermill": {
     "duration": 0.104673,
     "end_time": "2022-05-01T21:59:08.869053",
     "exception": false,
     "start_time": "2022-05-01T21:59:08.764380",
     "status": "completed"
    },
    "tags": []
   },
   "outputs": [
    {
     "data": {
      "text/plain": [
       "Index(['Account_Length', 'Vmail_Message', 'Day_Mins', 'Eve_Mins', 'Night_Mins',\n",
       "       'Intl_Mins', 'CustServ_Calls', 'Intl_Plan', 'Vmail_Plan', 'Day_Calls',\n",
       "       'Day_Charge', 'Eve_Calls', 'Eve_Charge', 'Night_Calls', 'Night_Charge',\n",
       "       'Intl_Calls', 'Intl_Charge', 'Total_Mins', 'Day_Cost', 'Eve_Cost',\n",
       "       'Night_Cost', 'Avg_Night_Calls', 'Avg_Eve_Calls', 'Avg_Day_Calls'],\n",
       "      dtype='object')"
      ]
     },
     "execution_count": 28,
     "metadata": {},
     "output_type": "execute_result"
    }
   ],
   "source": [
    "int_float_columns = X_train.select_dtypes(include=[\"int64\", \"float64\"]).columns\n",
    "int_float_columns"
   ]
  },
  {
   "cell_type": "markdown",
   "id": "64b96a7f",
   "metadata": {
    "papermill": {
     "duration": 0.093832,
     "end_time": "2022-05-01T21:59:09.058437",
     "exception": false,
     "start_time": "2022-05-01T21:59:08.964605",
     "status": "completed"
    },
    "tags": []
   },
   "source": [
    "**Scale Features**"
   ]
  },
  {
   "cell_type": "code",
   "execution_count": 29,
   "id": "2fd804ca",
   "metadata": {
    "execution": {
     "iopub.execute_input": "2022-05-01T21:59:09.251727Z",
     "iopub.status.busy": "2022-05-01T21:59:09.251196Z",
     "iopub.status.idle": "2022-05-01T21:59:09.268186Z",
     "shell.execute_reply": "2022-05-01T21:59:09.267550Z"
    },
    "papermill": {
     "duration": 0.114549,
     "end_time": "2022-05-01T21:59:09.270412",
     "exception": false,
     "start_time": "2022-05-01T21:59:09.155863",
     "status": "completed"
    },
    "tags": []
   },
   "outputs": [],
   "source": [
    "scaler = StandardScaler()\n",
    "\n",
    "X_train[int_float_columns] = scaler.fit_transform(X_train[int_float_columns])\n",
    "\n",
    "X_test[int_float_columns] = scaler.transform(X_test[int_float_columns])"
   ]
  },
  {
   "cell_type": "code",
   "execution_count": 30,
   "id": "b4fc04ef",
   "metadata": {
    "execution": {
     "iopub.execute_input": "2022-05-01T21:59:09.459852Z",
     "iopub.status.busy": "2022-05-01T21:59:09.459498Z",
     "iopub.status.idle": "2022-05-01T21:59:09.477456Z",
     "shell.execute_reply": "2022-05-01T21:59:09.476858Z"
    },
    "papermill": {
     "duration": 0.115615,
     "end_time": "2022-05-01T21:59:09.479932",
     "exception": false,
     "start_time": "2022-05-01T21:59:09.364317",
     "status": "completed"
    },
    "tags": []
   },
   "outputs": [
    {
     "name": "stdout",
     "output_type": "stream",
     "text": [
      "<class 'pandas.core.frame.DataFrame'>\n",
      "Int64Index: 2331 entries, 2734 to 1048\n",
      "Data columns (total 75 columns):\n",
      " #   Column           Non-Null Count  Dtype  \n",
      "---  ------           --------------  -----  \n",
      " 0   Account_Length   2331 non-null   float64\n",
      " 1   Vmail_Message    2331 non-null   float64\n",
      " 2   Day_Mins         2331 non-null   float64\n",
      " 3   Eve_Mins         2331 non-null   float64\n",
      " 4   Night_Mins       2331 non-null   float64\n",
      " 5   Intl_Mins        2331 non-null   float64\n",
      " 6   CustServ_Calls   2331 non-null   float64\n",
      " 7   Intl_Plan        2331 non-null   float64\n",
      " 8   Vmail_Plan       2331 non-null   float64\n",
      " 9   Day_Calls        2331 non-null   float64\n",
      " 10  Day_Charge       2331 non-null   float64\n",
      " 11  Eve_Calls        2331 non-null   float64\n",
      " 12  Eve_Charge       2331 non-null   float64\n",
      " 13  Night_Calls      2331 non-null   float64\n",
      " 14  Night_Charge     2331 non-null   float64\n",
      " 15  Intl_Calls       2331 non-null   float64\n",
      " 16  Intl_Charge      2331 non-null   float64\n",
      " 17  State_AK         2331 non-null   uint8  \n",
      " 18  State_AL         2331 non-null   uint8  \n",
      " 19  State_AR         2331 non-null   uint8  \n",
      " 20  State_AZ         2331 non-null   uint8  \n",
      " 21  State_CA         2331 non-null   uint8  \n",
      " 22  State_CO         2331 non-null   uint8  \n",
      " 23  State_CT         2331 non-null   uint8  \n",
      " 24  State_DC         2331 non-null   uint8  \n",
      " 25  State_DE         2331 non-null   uint8  \n",
      " 26  State_FL         2331 non-null   uint8  \n",
      " 27  State_GA         2331 non-null   uint8  \n",
      " 28  State_HI         2331 non-null   uint8  \n",
      " 29  State_IA         2331 non-null   uint8  \n",
      " 30  State_ID         2331 non-null   uint8  \n",
      " 31  State_IL         2331 non-null   uint8  \n",
      " 32  State_IN         2331 non-null   uint8  \n",
      " 33  State_KS         2331 non-null   uint8  \n",
      " 34  State_KY         2331 non-null   uint8  \n",
      " 35  State_LA         2331 non-null   uint8  \n",
      " 36  State_MA         2331 non-null   uint8  \n",
      " 37  State_MD         2331 non-null   uint8  \n",
      " 38  State_ME         2331 non-null   uint8  \n",
      " 39  State_MI         2331 non-null   uint8  \n",
      " 40  State_MN         2331 non-null   uint8  \n",
      " 41  State_MO         2331 non-null   uint8  \n",
      " 42  State_MS         2331 non-null   uint8  \n",
      " 43  State_MT         2331 non-null   uint8  \n",
      " 44  State_NC         2331 non-null   uint8  \n",
      " 45  State_ND         2331 non-null   uint8  \n",
      " 46  State_NE         2331 non-null   uint8  \n",
      " 47  State_NH         2331 non-null   uint8  \n",
      " 48  State_NJ         2331 non-null   uint8  \n",
      " 49  State_NM         2331 non-null   uint8  \n",
      " 50  State_NV         2331 non-null   uint8  \n",
      " 51  State_NY         2331 non-null   uint8  \n",
      " 52  State_OH         2331 non-null   uint8  \n",
      " 53  State_OK         2331 non-null   uint8  \n",
      " 54  State_OR         2331 non-null   uint8  \n",
      " 55  State_PA         2331 non-null   uint8  \n",
      " 56  State_RI         2331 non-null   uint8  \n",
      " 57  State_SC         2331 non-null   uint8  \n",
      " 58  State_SD         2331 non-null   uint8  \n",
      " 59  State_TN         2331 non-null   uint8  \n",
      " 60  State_TX         2331 non-null   uint8  \n",
      " 61  State_UT         2331 non-null   uint8  \n",
      " 62  State_VA         2331 non-null   uint8  \n",
      " 63  State_VT         2331 non-null   uint8  \n",
      " 64  State_WA         2331 non-null   uint8  \n",
      " 65  State_WI         2331 non-null   uint8  \n",
      " 66  State_WV         2331 non-null   uint8  \n",
      " 67  State_WY         2331 non-null   uint8  \n",
      " 68  Total_Mins       2331 non-null   float64\n",
      " 69  Day_Cost         2331 non-null   float64\n",
      " 70  Eve_Cost         2331 non-null   float64\n",
      " 71  Night_Cost       2331 non-null   float64\n",
      " 72  Avg_Night_Calls  2331 non-null   float64\n",
      " 73  Avg_Eve_Calls    2331 non-null   float64\n",
      " 74  Avg_Day_Calls    2331 non-null   float64\n",
      "dtypes: float64(24), uint8(51)\n",
      "memory usage: 571.4 KB\n"
     ]
    }
   ],
   "source": [
    "X_train.info()"
   ]
  },
  {
   "cell_type": "markdown",
   "id": "7e161c21",
   "metadata": {
    "papermill": {
     "duration": 0.0944,
     "end_time": "2022-05-01T21:59:09.671451",
     "exception": false,
     "start_time": "2022-05-01T21:59:09.577051",
     "status": "completed"
    },
    "tags": []
   },
   "source": [
    "### Support Vector Classification"
   ]
  },
  {
   "cell_type": "code",
   "execution_count": 31,
   "id": "3be09129",
   "metadata": {
    "execution": {
     "iopub.execute_input": "2022-05-01T21:59:09.862974Z",
     "iopub.status.busy": "2022-05-01T21:59:09.862613Z",
     "iopub.status.idle": "2022-05-01T21:59:10.148975Z",
     "shell.execute_reply": "2022-05-01T21:59:10.148072Z"
    },
    "papermill": {
     "duration": 0.383917,
     "end_time": "2022-05-01T21:59:10.150985",
     "exception": false,
     "start_time": "2022-05-01T21:59:09.767068",
     "status": "completed"
    },
    "tags": []
   },
   "outputs": [
    {
     "data": {
      "text/html": [
       "<div>\n",
       "<style scoped>\n",
       "    .dataframe tbody tr th:only-of-type {\n",
       "        vertical-align: middle;\n",
       "    }\n",
       "\n",
       "    .dataframe tbody tr th {\n",
       "        vertical-align: top;\n",
       "    }\n",
       "\n",
       "    .dataframe thead th {\n",
       "        text-align: right;\n",
       "    }\n",
       "</style>\n",
       "<table border=\"1\" class=\"dataframe\">\n",
       "  <thead>\n",
       "    <tr style=\"text-align: right;\">\n",
       "      <th></th>\n",
       "      <th>Actual</th>\n",
       "      <th>Predicted</th>\n",
       "    </tr>\n",
       "  </thead>\n",
       "  <tbody>\n",
       "    <tr>\n",
       "      <th>244</th>\n",
       "      <td>1</td>\n",
       "      <td>0</td>\n",
       "    </tr>\n",
       "    <tr>\n",
       "      <th>457</th>\n",
       "      <td>0</td>\n",
       "      <td>0</td>\n",
       "    </tr>\n",
       "    <tr>\n",
       "      <th>2294</th>\n",
       "      <td>0</td>\n",
       "      <td>0</td>\n",
       "    </tr>\n",
       "    <tr>\n",
       "      <th>840</th>\n",
       "      <td>0</td>\n",
       "      <td>0</td>\n",
       "    </tr>\n",
       "    <tr>\n",
       "      <th>84</th>\n",
       "      <td>1</td>\n",
       "      <td>0</td>\n",
       "    </tr>\n",
       "    <tr>\n",
       "      <th>1319</th>\n",
       "      <td>0</td>\n",
       "      <td>0</td>\n",
       "    </tr>\n",
       "    <tr>\n",
       "      <th>3273</th>\n",
       "      <td>0</td>\n",
       "      <td>0</td>\n",
       "    </tr>\n",
       "    <tr>\n",
       "      <th>785</th>\n",
       "      <td>0</td>\n",
       "      <td>0</td>\n",
       "    </tr>\n",
       "    <tr>\n",
       "      <th>2957</th>\n",
       "      <td>0</td>\n",
       "      <td>0</td>\n",
       "    </tr>\n",
       "    <tr>\n",
       "      <th>2687</th>\n",
       "      <td>1</td>\n",
       "      <td>1</td>\n",
       "    </tr>\n",
       "  </tbody>\n",
       "</table>\n",
       "</div>"
      ],
      "text/plain": [
       "      Actual  Predicted\n",
       "244        1          0\n",
       "457        0          0\n",
       "2294       0          0\n",
       "840        0          0\n",
       "84         1          0\n",
       "1319       0          0\n",
       "3273       0          0\n",
       "785        0          0\n",
       "2957       0          0\n",
       "2687       1          1"
      ]
     },
     "execution_count": 31,
     "metadata": {},
     "output_type": "execute_result"
    }
   ],
   "source": [
    "svc = SVC()\n",
    "\n",
    "svc.fit(X_train, y_train)\n",
    "\n",
    "pred_svc = svc.predict(X_test)\n",
    "\n",
    "pd.DataFrame({\"Actual\": y_test,\n",
    "              \"Predicted\": pred_svc}).sample(10)"
   ]
  },
  {
   "cell_type": "code",
   "execution_count": 32,
   "id": "8866574d",
   "metadata": {
    "execution": {
     "iopub.execute_input": "2022-05-01T21:59:10.346415Z",
     "iopub.status.busy": "2022-05-01T21:59:10.345914Z",
     "iopub.status.idle": "2022-05-01T21:59:10.356061Z",
     "shell.execute_reply": "2022-05-01T21:59:10.355513Z"
    },
    "papermill": {
     "duration": 0.108981,
     "end_time": "2022-05-01T21:59:10.357806",
     "exception": false,
     "start_time": "2022-05-01T21:59:10.248825",
     "status": "completed"
    },
    "tags": []
   },
   "outputs": [
    {
     "data": {
      "text/html": [
       "<div>\n",
       "<style scoped>\n",
       "    .dataframe tbody tr th:only-of-type {\n",
       "        vertical-align: middle;\n",
       "    }\n",
       "\n",
       "    .dataframe tbody tr th {\n",
       "        vertical-align: top;\n",
       "    }\n",
       "\n",
       "    .dataframe thead th {\n",
       "        text-align: right;\n",
       "    }\n",
       "</style>\n",
       "<table border=\"1\" class=\"dataframe\">\n",
       "  <thead>\n",
       "    <tr style=\"text-align: right;\">\n",
       "      <th></th>\n",
       "      <th>0</th>\n",
       "      <th>1</th>\n",
       "    </tr>\n",
       "  </thead>\n",
       "  <tbody>\n",
       "    <tr>\n",
       "      <th>0</th>\n",
       "      <td>845</td>\n",
       "      <td>9</td>\n",
       "    </tr>\n",
       "    <tr>\n",
       "      <th>1</th>\n",
       "      <td>82</td>\n",
       "      <td>63</td>\n",
       "    </tr>\n",
       "  </tbody>\n",
       "</table>\n",
       "</div>"
      ],
      "text/plain": [
       "     0   1\n",
       "0  845   9\n",
       "1   82  63"
      ]
     },
     "execution_count": 32,
     "metadata": {},
     "output_type": "execute_result"
    }
   ],
   "source": [
    "pd.DataFrame(confusion_matrix(y_test, pred_svc))"
   ]
  },
  {
   "cell_type": "code",
   "execution_count": 33,
   "id": "8f38239a",
   "metadata": {
    "execution": {
     "iopub.execute_input": "2022-05-01T21:59:10.550844Z",
     "iopub.status.busy": "2022-05-01T21:59:10.550338Z",
     "iopub.status.idle": "2022-05-01T21:59:10.559913Z",
     "shell.execute_reply": "2022-05-01T21:59:10.559177Z"
    },
    "papermill": {
     "duration": 0.108444,
     "end_time": "2022-05-01T21:59:10.562130",
     "exception": false,
     "start_time": "2022-05-01T21:59:10.453686",
     "status": "completed"
    },
    "tags": []
   },
   "outputs": [
    {
     "name": "stdout",
     "output_type": "stream",
     "text": [
      "              precision    recall  f1-score   support\n",
      "\n",
      "           0       0.91      0.99      0.95       854\n",
      "           1       0.88      0.43      0.58       145\n",
      "\n",
      "    accuracy                           0.91       999\n",
      "   macro avg       0.89      0.71      0.76       999\n",
      "weighted avg       0.91      0.91      0.90       999\n",
      "\n"
     ]
    }
   ],
   "source": [
    "print(classification_report(y_test, pred_svc))"
   ]
  },
  {
   "cell_type": "markdown",
   "id": "4555c0ef",
   "metadata": {
    "papermill": {
     "duration": 0.09624,
     "end_time": "2022-05-01T21:59:10.755003",
     "exception": false,
     "start_time": "2022-05-01T21:59:10.658763",
     "status": "completed"
    },
    "tags": []
   },
   "source": [
    "### Logistic Regression"
   ]
  },
  {
   "cell_type": "code",
   "execution_count": 34,
   "id": "f3a69b2b",
   "metadata": {
    "execution": {
     "iopub.execute_input": "2022-05-01T21:59:10.950325Z",
     "iopub.status.busy": "2022-05-01T21:59:10.949817Z",
     "iopub.status.idle": "2022-05-01T21:59:11.030819Z",
     "shell.execute_reply": "2022-05-01T21:59:11.029922Z"
    },
    "papermill": {
     "duration": 0.181814,
     "end_time": "2022-05-01T21:59:11.034175",
     "exception": false,
     "start_time": "2022-05-01T21:59:10.852361",
     "status": "completed"
    },
    "tags": []
   },
   "outputs": [
    {
     "data": {
      "text/html": [
       "<div>\n",
       "<style scoped>\n",
       "    .dataframe tbody tr th:only-of-type {\n",
       "        vertical-align: middle;\n",
       "    }\n",
       "\n",
       "    .dataframe tbody tr th {\n",
       "        vertical-align: top;\n",
       "    }\n",
       "\n",
       "    .dataframe thead th {\n",
       "        text-align: right;\n",
       "    }\n",
       "</style>\n",
       "<table border=\"1\" class=\"dataframe\">\n",
       "  <thead>\n",
       "    <tr style=\"text-align: right;\">\n",
       "      <th></th>\n",
       "      <th>Actual</th>\n",
       "      <th>Predicted</th>\n",
       "    </tr>\n",
       "  </thead>\n",
       "  <tbody>\n",
       "    <tr>\n",
       "      <th>1092</th>\n",
       "      <td>0</td>\n",
       "      <td>0</td>\n",
       "    </tr>\n",
       "    <tr>\n",
       "      <th>563</th>\n",
       "      <td>0</td>\n",
       "      <td>0</td>\n",
       "    </tr>\n",
       "    <tr>\n",
       "      <th>2126</th>\n",
       "      <td>0</td>\n",
       "      <td>0</td>\n",
       "    </tr>\n",
       "    <tr>\n",
       "      <th>1391</th>\n",
       "      <td>0</td>\n",
       "      <td>0</td>\n",
       "    </tr>\n",
       "    <tr>\n",
       "      <th>1198</th>\n",
       "      <td>0</td>\n",
       "      <td>0</td>\n",
       "    </tr>\n",
       "    <tr>\n",
       "      <th>525</th>\n",
       "      <td>0</td>\n",
       "      <td>0</td>\n",
       "    </tr>\n",
       "    <tr>\n",
       "      <th>2196</th>\n",
       "      <td>0</td>\n",
       "      <td>0</td>\n",
       "    </tr>\n",
       "    <tr>\n",
       "      <th>2128</th>\n",
       "      <td>0</td>\n",
       "      <td>0</td>\n",
       "    </tr>\n",
       "    <tr>\n",
       "      <th>1866</th>\n",
       "      <td>1</td>\n",
       "      <td>0</td>\n",
       "    </tr>\n",
       "    <tr>\n",
       "      <th>820</th>\n",
       "      <td>0</td>\n",
       "      <td>0</td>\n",
       "    </tr>\n",
       "  </tbody>\n",
       "</table>\n",
       "</div>"
      ],
      "text/plain": [
       "      Actual  Predicted\n",
       "1092       0          0\n",
       "563        0          0\n",
       "2126       0          0\n",
       "1391       0          0\n",
       "1198       0          0\n",
       "525        0          0\n",
       "2196       0          0\n",
       "2128       0          0\n",
       "1866       1          0\n",
       "820        0          0"
      ]
     },
     "execution_count": 34,
     "metadata": {},
     "output_type": "execute_result"
    }
   ],
   "source": [
    "lr = LogisticRegression()\n",
    "\n",
    "lr.fit(X_train, y_train)\n",
    "\n",
    "pred_lr = lr.predict(X_test)\n",
    "\n",
    "pd.DataFrame({\"Actual\": y_test,\n",
    "              \"Predicted\": pred_lr}).sample(10)"
   ]
  },
  {
   "cell_type": "code",
   "execution_count": 35,
   "id": "a5d78324",
   "metadata": {
    "execution": {
     "iopub.execute_input": "2022-05-01T21:59:11.287442Z",
     "iopub.status.busy": "2022-05-01T21:59:11.287189Z",
     "iopub.status.idle": "2022-05-01T21:59:11.296143Z",
     "shell.execute_reply": "2022-05-01T21:59:11.295303Z"
    },
    "papermill": {
     "duration": 0.113781,
     "end_time": "2022-05-01T21:59:11.298084",
     "exception": false,
     "start_time": "2022-05-01T21:59:11.184303",
     "status": "completed"
    },
    "tags": []
   },
   "outputs": [
    {
     "data": {
      "text/html": [
       "<div>\n",
       "<style scoped>\n",
       "    .dataframe tbody tr th:only-of-type {\n",
       "        vertical-align: middle;\n",
       "    }\n",
       "\n",
       "    .dataframe tbody tr th {\n",
       "        vertical-align: top;\n",
       "    }\n",
       "\n",
       "    .dataframe thead th {\n",
       "        text-align: right;\n",
       "    }\n",
       "</style>\n",
       "<table border=\"1\" class=\"dataframe\">\n",
       "  <thead>\n",
       "    <tr style=\"text-align: right;\">\n",
       "      <th></th>\n",
       "      <th>0</th>\n",
       "      <th>1</th>\n",
       "    </tr>\n",
       "  </thead>\n",
       "  <tbody>\n",
       "    <tr>\n",
       "      <th>0</th>\n",
       "      <td>829</td>\n",
       "      <td>25</td>\n",
       "    </tr>\n",
       "    <tr>\n",
       "      <th>1</th>\n",
       "      <td>107</td>\n",
       "      <td>38</td>\n",
       "    </tr>\n",
       "  </tbody>\n",
       "</table>\n",
       "</div>"
      ],
      "text/plain": [
       "     0   1\n",
       "0  829  25\n",
       "1  107  38"
      ]
     },
     "execution_count": 35,
     "metadata": {},
     "output_type": "execute_result"
    }
   ],
   "source": [
    "pd.DataFrame(confusion_matrix(y_test, pred_lr))"
   ]
  },
  {
   "cell_type": "code",
   "execution_count": 36,
   "id": "def77551",
   "metadata": {
    "execution": {
     "iopub.execute_input": "2022-05-01T21:59:11.496421Z",
     "iopub.status.busy": "2022-05-01T21:59:11.496133Z",
     "iopub.status.idle": "2022-05-01T21:59:11.506408Z",
     "shell.execute_reply": "2022-05-01T21:59:11.505825Z"
    },
    "papermill": {
     "duration": 0.114587,
     "end_time": "2022-05-01T21:59:11.509572",
     "exception": false,
     "start_time": "2022-05-01T21:59:11.394985",
     "status": "completed"
    },
    "tags": []
   },
   "outputs": [
    {
     "name": "stdout",
     "output_type": "stream",
     "text": [
      "              precision    recall  f1-score   support\n",
      "\n",
      "           0       0.89      0.97      0.93       854\n",
      "           1       0.60      0.26      0.37       145\n",
      "\n",
      "    accuracy                           0.87       999\n",
      "   macro avg       0.74      0.62      0.65       999\n",
      "weighted avg       0.84      0.87      0.84       999\n",
      "\n"
     ]
    }
   ],
   "source": [
    "print(classification_report(y_test, pred_lr))"
   ]
  },
  {
   "cell_type": "markdown",
   "id": "90d55149",
   "metadata": {
    "papermill": {
     "duration": 0.098338,
     "end_time": "2022-05-01T21:59:11.710898",
     "exception": false,
     "start_time": "2022-05-01T21:59:11.612560",
     "status": "completed"
    },
    "tags": []
   },
   "source": [
    "**Generating Probabilities**"
   ]
  },
  {
   "cell_type": "code",
   "execution_count": 37,
   "id": "4d7f8866",
   "metadata": {
    "execution": {
     "iopub.execute_input": "2022-05-01T21:59:11.910098Z",
     "iopub.status.busy": "2022-05-01T21:59:11.909584Z",
     "iopub.status.idle": "2022-05-01T21:59:14.944605Z",
     "shell.execute_reply": "2022-05-01T21:59:14.942958Z"
    },
    "papermill": {
     "duration": 3.137037,
     "end_time": "2022-05-01T21:59:14.947131",
     "exception": false,
     "start_time": "2022-05-01T21:59:11.810094",
     "status": "completed"
    },
    "tags": []
   },
   "outputs": [
    {
     "data": {
      "image/png": "[encoded data removed]",
      "text/plain": [
       "<Figure size 1296x504 with 1 Axes>"
      ]
     },
     "metadata": {
      "needs_background": "light"
     },
     "output_type": "display_data"
    }
   ],
   "source": [
    "y_pred_prob = lr.predict_proba(X_test)[:,1]\n",
    "fpr, tpr, thresholds = roc_curve(y_test, y_pred_prob)\n",
    "\n",
    "plt.figure(figsize = (18, 7))\n",
    "plt.title(\"ROC Curve\", color = \"red\", size = 20, weight = \"bold\")\n",
    "sns.lineplot(x = fpr, y = tpr, color = \"blue\", linewidth = 3)\n",
    "plt.xlabel(\"False Positive Rate\", color = \"red\", size = 20, weight = \"bold\")\n",
    "plt.ylabel(\"True Positive Rate\", color = \"red\", size = 20, weight = \"bold\")\n",
    "plt.plot([0, 1], [0, 1], \"k--\")\n",
    "plt.xticks(size = 15)\n",
    "plt.yticks(size = 15)\n",
    "plt.show()"
   ]
  },
  {
   "cell_type": "markdown",
   "id": "e8ffdcd0",
   "metadata": {
    "papermill": {
     "duration": 0.098729,
     "end_time": "2022-05-01T21:59:15.145711",
     "exception": false,
     "start_time": "2022-05-01T21:59:15.046982",
     "status": "completed"
    },
    "tags": []
   },
   "source": [
    "**Area Under the Curve**"
   ]
  },
  {
   "cell_type": "code",
   "execution_count": 38,
   "id": "dcbe7d78",
   "metadata": {
    "execution": {
     "iopub.execute_input": "2022-05-01T21:59:15.367731Z",
     "iopub.status.busy": "2022-05-01T21:59:15.367381Z",
     "iopub.status.idle": "2022-05-01T21:59:15.375516Z",
     "shell.execute_reply": "2022-05-01T21:59:15.374518Z"
    },
    "papermill": {
     "duration": 0.132551,
     "end_time": "2022-05-01T21:59:15.377431",
     "exception": false,
     "start_time": "2022-05-01T21:59:15.244880",
     "status": "completed"
    },
    "tags": []
   },
   "outputs": [
    {
     "name": "stdout",
     "output_type": "stream",
     "text": [
      "0.8309052733586367\n"
     ]
    }
   ],
   "source": [
    "auc = roc_auc_score(y_test, y_pred_prob)\n",
    "print(auc)"
   ]
  },
  {
   "cell_type": "markdown",
   "id": "627c08e2",
   "metadata": {
    "papermill": {
     "duration": 0.098621,
     "end_time": "2022-05-01T21:59:15.575822",
     "exception": false,
     "start_time": "2022-05-01T21:59:15.477201",
     "status": "completed"
    },
    "tags": []
   },
   "source": [
    "**Decision Tree Classifier**"
   ]
  },
  {
   "cell_type": "code",
   "execution_count": 39,
   "id": "2048c3e4",
   "metadata": {
    "execution": {
     "iopub.execute_input": "2022-05-01T21:59:15.778092Z",
     "iopub.status.busy": "2022-05-01T21:59:15.777426Z",
     "iopub.status.idle": "2022-05-01T21:59:15.853346Z",
     "shell.execute_reply": "2022-05-01T21:59:15.852565Z"
    },
    "papermill": {
     "duration": 0.180049,
     "end_time": "2022-05-01T21:59:15.855302",
     "exception": false,
     "start_time": "2022-05-01T21:59:15.675253",
     "status": "completed"
    },
    "tags": []
   },
   "outputs": [
    {
     "data": {
      "text/html": [
       "<div>\n",
       "<style scoped>\n",
       "    .dataframe tbody tr th:only-of-type {\n",
       "        vertical-align: middle;\n",
       "    }\n",
       "\n",
       "    .dataframe tbody tr th {\n",
       "        vertical-align: top;\n",
       "    }\n",
       "\n",
       "    .dataframe thead th {\n",
       "        text-align: right;\n",
       "    }\n",
       "</style>\n",
       "<table border=\"1\" class=\"dataframe\">\n",
       "  <thead>\n",
       "    <tr style=\"text-align: right;\">\n",
       "      <th></th>\n",
       "      <th>Actual</th>\n",
       "      <th>Predicted</th>\n",
       "    </tr>\n",
       "  </thead>\n",
       "  <tbody>\n",
       "    <tr>\n",
       "      <th>3276</th>\n",
       "      <td>0</td>\n",
       "      <td>0</td>\n",
       "    </tr>\n",
       "    <tr>\n",
       "      <th>772</th>\n",
       "      <td>0</td>\n",
       "      <td>0</td>\n",
       "    </tr>\n",
       "    <tr>\n",
       "      <th>1846</th>\n",
       "      <td>0</td>\n",
       "      <td>0</td>\n",
       "    </tr>\n",
       "    <tr>\n",
       "      <th>1935</th>\n",
       "      <td>1</td>\n",
       "      <td>1</td>\n",
       "    </tr>\n",
       "    <tr>\n",
       "      <th>2145</th>\n",
       "      <td>0</td>\n",
       "      <td>0</td>\n",
       "    </tr>\n",
       "    <tr>\n",
       "      <th>2980</th>\n",
       "      <td>1</td>\n",
       "      <td>0</td>\n",
       "    </tr>\n",
       "    <tr>\n",
       "      <th>506</th>\n",
       "      <td>0</td>\n",
       "      <td>0</td>\n",
       "    </tr>\n",
       "    <tr>\n",
       "      <th>586</th>\n",
       "      <td>0</td>\n",
       "      <td>0</td>\n",
       "    </tr>\n",
       "    <tr>\n",
       "      <th>2381</th>\n",
       "      <td>0</td>\n",
       "      <td>0</td>\n",
       "    </tr>\n",
       "    <tr>\n",
       "      <th>2782</th>\n",
       "      <td>0</td>\n",
       "      <td>0</td>\n",
       "    </tr>\n",
       "  </tbody>\n",
       "</table>\n",
       "</div>"
      ],
      "text/plain": [
       "      Actual  Predicted\n",
       "3276       0          0\n",
       "772        0          0\n",
       "1846       0          0\n",
       "1935       1          1\n",
       "2145       0          0\n",
       "2980       1          0\n",
       "506        0          0\n",
       "586        0          0\n",
       "2381       0          0\n",
       "2782       0          0"
      ]
     },
     "execution_count": 39,
     "metadata": {},
     "output_type": "execute_result"
    }
   ],
   "source": [
    "dtr = DecisionTreeClassifier()\n",
    "\n",
    "dtr.fit(X_train, y_train)\n",
    "\n",
    "pred_dtr = dtr.predict(X_test)\n",
    "\n",
    "pd.DataFrame({\"Actual\": y_test,\n",
    "              \"Predicted\": pred_dtr}).sample(10)"
   ]
  },
  {
   "cell_type": "code",
   "execution_count": 40,
   "id": "2871072b",
   "metadata": {
    "execution": {
     "iopub.execute_input": "2022-05-01T21:59:16.058226Z",
     "iopub.status.busy": "2022-05-01T21:59:16.057970Z",
     "iopub.status.idle": "2022-05-01T21:59:16.066940Z",
     "shell.execute_reply": "2022-05-01T21:59:16.066425Z"
    },
    "papermill": {
     "duration": 0.111738,
     "end_time": "2022-05-01T21:59:16.068699",
     "exception": false,
     "start_time": "2022-05-01T21:59:15.956961",
     "status": "completed"
    },
    "tags": []
   },
   "outputs": [
    {
     "data": {
      "text/html": [
       "<div>\n",
       "<style scoped>\n",
       "    .dataframe tbody tr th:only-of-type {\n",
       "        vertical-align: middle;\n",
       "    }\n",
       "\n",
       "    .dataframe tbody tr th {\n",
       "        vertical-align: top;\n",
       "    }\n",
       "\n",
       "    .dataframe thead th {\n",
       "        text-align: right;\n",
       "    }\n",
       "</style>\n",
       "<table border=\"1\" class=\"dataframe\">\n",
       "  <thead>\n",
       "    <tr style=\"text-align: right;\">\n",
       "      <th></th>\n",
       "      <th>0</th>\n",
       "      <th>1</th>\n",
       "    </tr>\n",
       "  </thead>\n",
       "  <tbody>\n",
       "    <tr>\n",
       "      <th>0</th>\n",
       "      <td>809</td>\n",
       "      <td>45</td>\n",
       "    </tr>\n",
       "    <tr>\n",
       "      <th>1</th>\n",
       "      <td>41</td>\n",
       "      <td>104</td>\n",
       "    </tr>\n",
       "  </tbody>\n",
       "</table>\n",
       "</div>"
      ],
      "text/plain": [
       "     0    1\n",
       "0  809   45\n",
       "1   41  104"
      ]
     },
     "execution_count": 40,
     "metadata": {},
     "output_type": "execute_result"
    }
   ],
   "source": [
    "pd.DataFrame(confusion_matrix(y_test, pred_dtr))"
   ]
  },
  {
   "cell_type": "code",
   "execution_count": 41,
   "id": "a1d109f5",
   "metadata": {
    "execution": {
     "iopub.execute_input": "2022-05-01T21:59:16.274778Z",
     "iopub.status.busy": "2022-05-01T21:59:16.274010Z",
     "iopub.status.idle": "2022-05-01T21:59:16.283914Z",
     "shell.execute_reply": "2022-05-01T21:59:16.283117Z"
    },
    "papermill": {
     "duration": 0.115487,
     "end_time": "2022-05-01T21:59:16.286298",
     "exception": false,
     "start_time": "2022-05-01T21:59:16.170811",
     "status": "completed"
    },
    "tags": []
   },
   "outputs": [
    {
     "name": "stdout",
     "output_type": "stream",
     "text": [
      "              precision    recall  f1-score   support\n",
      "\n",
      "           0       0.95      0.95      0.95       854\n",
      "           1       0.70      0.72      0.71       145\n",
      "\n",
      "    accuracy                           0.91       999\n",
      "   macro avg       0.82      0.83      0.83       999\n",
      "weighted avg       0.91      0.91      0.91       999\n",
      "\n"
     ]
    }
   ],
   "source": [
    "print(classification_report(y_test, pred_dtr))"
   ]
  },
  {
   "cell_type": "markdown",
   "id": "9cf2648c",
   "metadata": {
    "papermill": {
     "duration": 0.100426,
     "end_time": "2022-05-01T21:59:16.489186",
     "exception": false,
     "start_time": "2022-05-01T21:59:16.388760",
     "status": "completed"
    },
    "tags": []
   },
   "source": [
    "### Random Forest Classifier"
   ]
  },
  {
   "cell_type": "code",
   "execution_count": 42,
   "id": "298e8d63",
   "metadata": {
    "execution": {
     "iopub.execute_input": "2022-05-01T21:59:16.693020Z",
     "iopub.status.busy": "2022-05-01T21:59:16.692759Z",
     "iopub.status.idle": "2022-05-01T21:59:17.360182Z",
     "shell.execute_reply": "2022-05-01T21:59:17.359299Z"
    },
    "papermill": {
     "duration": 0.77225,
     "end_time": "2022-05-01T21:59:17.362351",
     "exception": false,
     "start_time": "2022-05-01T21:59:16.590101",
     "status": "completed"
    },
    "tags": []
   },
   "outputs": [
    {
     "data": {
      "text/html": [
       "<div>\n",
       "<style scoped>\n",
       "    .dataframe tbody tr th:only-of-type {\n",
       "        vertical-align: middle;\n",
       "    }\n",
       "\n",
       "    .dataframe tbody tr th {\n",
       "        vertical-align: top;\n",
       "    }\n",
       "\n",
       "    .dataframe thead th {\n",
       "        text-align: right;\n",
       "    }\n",
       "</style>\n",
       "<table border=\"1\" class=\"dataframe\">\n",
       "  <thead>\n",
       "    <tr style=\"text-align: right;\">\n",
       "      <th></th>\n",
       "      <th>Actual</th>\n",
       "      <th>Predicted</th>\n",
       "    </tr>\n",
       "  </thead>\n",
       "  <tbody>\n",
       "    <tr>\n",
       "      <th>1388</th>\n",
       "      <td>0</td>\n",
       "      <td>0</td>\n",
       "    </tr>\n",
       "    <tr>\n",
       "      <th>2830</th>\n",
       "      <td>0</td>\n",
       "      <td>0</td>\n",
       "    </tr>\n",
       "    <tr>\n",
       "      <th>1384</th>\n",
       "      <td>0</td>\n",
       "      <td>0</td>\n",
       "    </tr>\n",
       "    <tr>\n",
       "      <th>2614</th>\n",
       "      <td>1</td>\n",
       "      <td>1</td>\n",
       "    </tr>\n",
       "    <tr>\n",
       "      <th>2252</th>\n",
       "      <td>0</td>\n",
       "      <td>0</td>\n",
       "    </tr>\n",
       "    <tr>\n",
       "      <th>2424</th>\n",
       "      <td>0</td>\n",
       "      <td>0</td>\n",
       "    </tr>\n",
       "    <tr>\n",
       "      <th>833</th>\n",
       "      <td>0</td>\n",
       "      <td>0</td>\n",
       "    </tr>\n",
       "    <tr>\n",
       "      <th>2943</th>\n",
       "      <td>0</td>\n",
       "      <td>0</td>\n",
       "    </tr>\n",
       "    <tr>\n",
       "      <th>2689</th>\n",
       "      <td>0</td>\n",
       "      <td>0</td>\n",
       "    </tr>\n",
       "    <tr>\n",
       "      <th>3260</th>\n",
       "      <td>0</td>\n",
       "      <td>0</td>\n",
       "    </tr>\n",
       "  </tbody>\n",
       "</table>\n",
       "</div>"
      ],
      "text/plain": [
       "      Actual  Predicted\n",
       "1388       0          0\n",
       "2830       0          0\n",
       "1384       0          0\n",
       "2614       1          1\n",
       "2252       0          0\n",
       "2424       0          0\n",
       "833        0          0\n",
       "2943       0          0\n",
       "2689       0          0\n",
       "3260       0          0"
      ]
     },
     "execution_count": 42,
     "metadata": {},
     "output_type": "execute_result"
    }
   ],
   "source": [
    "rfc = RandomForestClassifier()\n",
    "\n",
    "rfc.fit(X_train, y_train)\n",
    "\n",
    "pred_rfc = rfc.predict(X_test)\n",
    "\n",
    "pd.DataFrame({\"Actual\": y_test, \n",
    "              \"Predicted\": pred_rfc}).sample(10)"
   ]
  },
  {
   "cell_type": "code",
   "execution_count": 43,
   "id": "3e4fa2c0",
   "metadata": {
    "execution": {
     "iopub.execute_input": "2022-05-01T21:59:17.566712Z",
     "iopub.status.busy": "2022-05-01T21:59:17.566414Z",
     "iopub.status.idle": "2022-05-01T21:59:17.575563Z",
     "shell.execute_reply": "2022-05-01T21:59:17.574977Z"
    },
    "papermill": {
     "duration": 0.113479,
     "end_time": "2022-05-01T21:59:17.577368",
     "exception": false,
     "start_time": "2022-05-01T21:59:17.463889",
     "status": "completed"
    },
    "tags": []
   },
   "outputs": [
    {
     "data": {
      "text/html": [
       "<div>\n",
       "<style scoped>\n",
       "    .dataframe tbody tr th:only-of-type {\n",
       "        vertical-align: middle;\n",
       "    }\n",
       "\n",
       "    .dataframe tbody tr th {\n",
       "        vertical-align: top;\n",
       "    }\n",
       "\n",
       "    .dataframe thead th {\n",
       "        text-align: right;\n",
       "    }\n",
       "</style>\n",
       "<table border=\"1\" class=\"dataframe\">\n",
       "  <thead>\n",
       "    <tr style=\"text-align: right;\">\n",
       "      <th></th>\n",
       "      <th>0</th>\n",
       "      <th>1</th>\n",
       "    </tr>\n",
       "  </thead>\n",
       "  <tbody>\n",
       "    <tr>\n",
       "      <th>0</th>\n",
       "      <td>851</td>\n",
       "      <td>3</td>\n",
       "    </tr>\n",
       "    <tr>\n",
       "      <th>1</th>\n",
       "      <td>62</td>\n",
       "      <td>83</td>\n",
       "    </tr>\n",
       "  </tbody>\n",
       "</table>\n",
       "</div>"
      ],
      "text/plain": [
       "     0   1\n",
       "0  851   3\n",
       "1   62  83"
      ]
     },
     "execution_count": 43,
     "metadata": {},
     "output_type": "execute_result"
    }
   ],
   "source": [
    "pd.DataFrame(confusion_matrix(y_test, pred_rfc))"
   ]
  },
  {
   "cell_type": "code",
   "execution_count": 44,
   "id": "485771e8",
   "metadata": {
    "execution": {
     "iopub.execute_input": "2022-05-01T21:59:17.782367Z",
     "iopub.status.busy": "2022-05-01T21:59:17.782060Z",
     "iopub.status.idle": "2022-05-01T21:59:17.793833Z",
     "shell.execute_reply": "2022-05-01T21:59:17.792614Z"
    },
    "papermill": {
     "duration": 0.116058,
     "end_time": "2022-05-01T21:59:17.795845",
     "exception": false,
     "start_time": "2022-05-01T21:59:17.679787",
     "status": "completed"
    },
    "tags": []
   },
   "outputs": [
    {
     "name": "stdout",
     "output_type": "stream",
     "text": [
      "              precision    recall  f1-score   support\n",
      "\n",
      "           0       0.93      1.00      0.96       854\n",
      "           1       0.97      0.57      0.72       145\n",
      "\n",
      "    accuracy                           0.93       999\n",
      "   macro avg       0.95      0.78      0.84       999\n",
      "weighted avg       0.94      0.93      0.93       999\n",
      "\n"
     ]
    }
   ],
   "source": [
    "print(classification_report(y_test, pred_rfc))"
   ]
  },
  {
   "cell_type": "markdown",
   "id": "d4d662d1",
   "metadata": {
    "papermill": {
     "duration": 0.103215,
     "end_time": "2022-05-01T21:59:17.999900",
     "exception": false,
     "start_time": "2022-05-01T21:59:17.896685",
     "status": "completed"
    },
    "tags": []
   },
   "source": [
    "**Grid Search CV with Random Forest**"
   ]
  },
  {
   "cell_type": "code",
   "execution_count": 45,
   "id": "ea65d26b",
   "metadata": {
    "execution": {
     "iopub.execute_input": "2022-05-01T21:59:18.207678Z",
     "iopub.status.busy": "2022-05-01T21:59:18.207390Z",
     "iopub.status.idle": "2022-05-01T22:01:53.429389Z",
     "shell.execute_reply": "2022-05-01T22:01:53.428576Z"
    },
    "papermill": {
     "duration": 155.430989,
     "end_time": "2022-05-01T22:01:53.534435",
     "exception": false,
     "start_time": "2022-05-01T21:59:18.103446",
     "status": "completed"
    },
    "tags": []
   },
   "outputs": [
    {
     "data": {
      "text/plain": [
       "{'criterion': 'gini', 'n_estimators': 250}"
      ]
     },
     "execution_count": 45,
     "metadata": {},
     "output_type": "execute_result"
    }
   ],
   "source": [
    "params = {\"n_estimators\": np.arange(50, 501, 50),\n",
    "          \"criterion\": [\"gini\", \"entropy\"]}\n",
    "\n",
    "rf = RandomForestClassifier()\n",
    "\n",
    "cv_rf = GridSearchCV(rf, params)\n",
    "\n",
    "cv_rf.fit(X_train, y_train)\n",
    "\n",
    "cv_rf.best_params_"
   ]
  },
  {
   "cell_type": "markdown",
   "id": "8325db83",
   "metadata": {
    "papermill": {
     "duration": 0.105858,
     "end_time": "2022-05-01T22:01:53.742908",
     "exception": false,
     "start_time": "2022-05-01T22:01:53.637050",
     "status": "completed"
    },
    "tags": []
   },
   "source": [
    "**Random Forest with Best Models**"
   ]
  },
  {
   "cell_type": "code",
   "execution_count": 46,
   "id": "c36e5ed1",
   "metadata": {
    "execution": {
     "iopub.execute_input": "2022-05-01T22:01:53.952869Z",
     "iopub.status.busy": "2022-05-01T22:01:53.952309Z",
     "iopub.status.idle": "2022-05-01T22:01:56.224049Z",
     "shell.execute_reply": "2022-05-01T22:01:56.223126Z"
    },
    "papermill": {
     "duration": 2.380195,
     "end_time": "2022-05-01T22:01:56.226169",
     "exception": false,
     "start_time": "2022-05-01T22:01:53.845974",
     "status": "completed"
    },
    "tags": []
   },
   "outputs": [
    {
     "data": {
      "text/html": [
       "<div>\n",
       "<style scoped>\n",
       "    .dataframe tbody tr th:only-of-type {\n",
       "        vertical-align: middle;\n",
       "    }\n",
       "\n",
       "    .dataframe tbody tr th {\n",
       "        vertical-align: top;\n",
       "    }\n",
       "\n",
       "    .dataframe thead th {\n",
       "        text-align: right;\n",
       "    }\n",
       "</style>\n",
       "<table border=\"1\" class=\"dataframe\">\n",
       "  <thead>\n",
       "    <tr style=\"text-align: right;\">\n",
       "      <th></th>\n",
       "      <th>Actual</th>\n",
       "      <th>Predicted</th>\n",
       "    </tr>\n",
       "  </thead>\n",
       "  <tbody>\n",
       "    <tr>\n",
       "      <th>0</th>\n",
       "      <td>0</td>\n",
       "      <td>0</td>\n",
       "    </tr>\n",
       "    <tr>\n",
       "      <th>735</th>\n",
       "      <td>0</td>\n",
       "      <td>0</td>\n",
       "    </tr>\n",
       "    <tr>\n",
       "      <th>3134</th>\n",
       "      <td>0</td>\n",
       "      <td>0</td>\n",
       "    </tr>\n",
       "    <tr>\n",
       "      <th>2061</th>\n",
       "      <td>0</td>\n",
       "      <td>0</td>\n",
       "    </tr>\n",
       "    <tr>\n",
       "      <th>3223</th>\n",
       "      <td>0</td>\n",
       "      <td>0</td>\n",
       "    </tr>\n",
       "    <tr>\n",
       "      <th>2747</th>\n",
       "      <td>1</td>\n",
       "      <td>1</td>\n",
       "    </tr>\n",
       "    <tr>\n",
       "      <th>2379</th>\n",
       "      <td>0</td>\n",
       "      <td>0</td>\n",
       "    </tr>\n",
       "    <tr>\n",
       "      <th>2808</th>\n",
       "      <td>0</td>\n",
       "      <td>0</td>\n",
       "    </tr>\n",
       "    <tr>\n",
       "      <th>1679</th>\n",
       "      <td>1</td>\n",
       "      <td>1</td>\n",
       "    </tr>\n",
       "    <tr>\n",
       "      <th>935</th>\n",
       "      <td>0</td>\n",
       "      <td>0</td>\n",
       "    </tr>\n",
       "  </tbody>\n",
       "</table>\n",
       "</div>"
      ],
      "text/plain": [
       "      Actual  Predicted\n",
       "0          0          0\n",
       "735        0          0\n",
       "3134       0          0\n",
       "2061       0          0\n",
       "3223       0          0\n",
       "2747       1          1\n",
       "2379       0          0\n",
       "2808       0          0\n",
       "1679       1          1\n",
       "935        0          0"
      ]
     },
     "execution_count": 46,
     "metadata": {},
     "output_type": "execute_result"
    }
   ],
   "source": [
    "rf_gc = RandomForestClassifier(criterion = \"gini\",\n",
    "                               n_estimators = 350)\n",
    "\n",
    "rf_gc.fit(X_train, y_train)\n",
    "\n",
    "pred_rf_gc = rf_gc.predict(X_test)\n",
    "\n",
    "pd.DataFrame({\"Actual\": y_test,\n",
    "              \"Predicted\": pred_rf_gc}).sample(10)"
   ]
  },
  {
   "cell_type": "code",
   "execution_count": 47,
   "id": "34ab1063",
   "metadata": {
    "execution": {
     "iopub.execute_input": "2022-05-01T22:01:56.436553Z",
     "iopub.status.busy": "2022-05-01T22:01:56.436282Z",
     "iopub.status.idle": "2022-05-01T22:01:56.445334Z",
     "shell.execute_reply": "2022-05-01T22:01:56.444520Z"
    },
    "papermill": {
     "duration": 0.116866,
     "end_time": "2022-05-01T22:01:56.447294",
     "exception": false,
     "start_time": "2022-05-01T22:01:56.330428",
     "status": "completed"
    },
    "tags": []
   },
   "outputs": [
    {
     "data": {
      "text/html": [
       "<div>\n",
       "<style scoped>\n",
       "    .dataframe tbody tr th:only-of-type {\n",
       "        vertical-align: middle;\n",
       "    }\n",
       "\n",
       "    .dataframe tbody tr th {\n",
       "        vertical-align: top;\n",
       "    }\n",
       "\n",
       "    .dataframe thead th {\n",
       "        text-align: right;\n",
       "    }\n",
       "</style>\n",
       "<table border=\"1\" class=\"dataframe\">\n",
       "  <thead>\n",
       "    <tr style=\"text-align: right;\">\n",
       "      <th></th>\n",
       "      <th>0</th>\n",
       "      <th>1</th>\n",
       "    </tr>\n",
       "  </thead>\n",
       "  <tbody>\n",
       "    <tr>\n",
       "      <th>0</th>\n",
       "      <td>853</td>\n",
       "      <td>1</td>\n",
       "    </tr>\n",
       "    <tr>\n",
       "      <th>1</th>\n",
       "      <td>66</td>\n",
       "      <td>79</td>\n",
       "    </tr>\n",
       "  </tbody>\n",
       "</table>\n",
       "</div>"
      ],
      "text/plain": [
       "     0   1\n",
       "0  853   1\n",
       "1   66  79"
      ]
     },
     "execution_count": 47,
     "metadata": {},
     "output_type": "execute_result"
    }
   ],
   "source": [
    "pd.DataFrame(confusion_matrix(y_test, pred_rf_gc))"
   ]
  },
  {
   "cell_type": "code",
   "execution_count": 48,
   "id": "b6e4c208",
   "metadata": {
    "execution": {
     "iopub.execute_input": "2022-05-01T22:01:56.658106Z",
     "iopub.status.busy": "2022-05-01T22:01:56.657858Z",
     "iopub.status.idle": "2022-05-01T22:01:56.667125Z",
     "shell.execute_reply": "2022-05-01T22:01:56.666582Z"
    },
    "papermill": {
     "duration": 0.116763,
     "end_time": "2022-05-01T22:01:56.669779",
     "exception": false,
     "start_time": "2022-05-01T22:01:56.553016",
     "status": "completed"
    },
    "tags": []
   },
   "outputs": [
    {
     "name": "stdout",
     "output_type": "stream",
     "text": [
      "              precision    recall  f1-score   support\n",
      "\n",
      "           0       0.93      1.00      0.96       854\n",
      "           1       0.99      0.54      0.70       145\n",
      "\n",
      "    accuracy                           0.93       999\n",
      "   macro avg       0.96      0.77      0.83       999\n",
      "weighted avg       0.94      0.93      0.92       999\n",
      "\n"
     ]
    }
   ],
   "source": [
    "print(classification_report(y_test, pred_rf_gc))"
   ]
  },
  {
   "cell_type": "markdown",
   "id": "be7e60f2",
   "metadata": {
    "papermill": {
     "duration": 0.10407,
     "end_time": "2022-05-01T22:01:56.881383",
     "exception": false,
     "start_time": "2022-05-01T22:01:56.777313",
     "status": "completed"
    },
    "tags": []
   },
   "source": [
    "**Feature Importance by using Random Forest**"
   ]
  },
  {
   "cell_type": "code",
   "execution_count": 49,
   "id": "d8739bc1",
   "metadata": {
    "execution": {
     "iopub.execute_input": "2022-05-01T22:01:57.094882Z",
     "iopub.status.busy": "2022-05-01T22:01:57.094206Z",
     "iopub.status.idle": "2022-05-01T22:01:58.169614Z",
     "shell.execute_reply": "2022-05-01T22:01:58.168780Z"
    },
    "papermill": {
     "duration": 1.18358,
     "end_time": "2022-05-01T22:01:58.171827",
     "exception": false,
     "start_time": "2022-05-01T22:01:56.988247",
     "status": "completed"
    },
    "tags": []
   },
   "outputs": [
    {
     "data": {
      "image/png": "[encoded data removed]",
      "text/plain": [
       "<Figure size 1296x504 with 1 Axes>"
      ]
     },
     "metadata": {
      "needs_background": "light"
     },
     "output_type": "display_data"
    }
   ],
   "source": [
    "imp = pd.Series(data = rf_gc.feature_importances_, index = X.columns)\n",
    "imp_sorted = imp.sort_values()\n",
    "imp_sorted.plot(kind = \"bar\", color = \"blue\", figsize = (18, 7))\n",
    "plt.title(\"Features Importances by Random Forest\", size = 20)\n",
    "plt.yticks(size = 15)\n",
    "plt.xticks(size = 15)\n",
    "plt.show()"
   ]
  },
  {
   "cell_type": "code",
   "execution_count": 50,
   "id": "51344f12",
   "metadata": {
    "execution": {
     "iopub.execute_input": "2022-05-01T22:01:58.386411Z",
     "iopub.status.busy": "2022-05-01T22:01:58.385889Z",
     "iopub.status.idle": "2022-05-01T22:01:58.392063Z",
     "shell.execute_reply": "2022-05-01T22:01:58.391530Z"
    },
    "papermill": {
     "duration": 0.115557,
     "end_time": "2022-05-01T22:01:58.393746",
     "exception": false,
     "start_time": "2022-05-01T22:01:58.278189",
     "status": "completed"
    },
    "tags": []
   },
   "outputs": [
    {
     "data": {
      "text/plain": [
       "Intl_Plan         0.050079\n",
       "Total_Mins        0.086595\n",
       "Day_Mins          0.090767\n",
       "CustServ_Calls    0.091972\n",
       "Day_Charge        0.096433\n",
       "dtype: float64"
      ]
     },
     "execution_count": 50,
     "metadata": {},
     "output_type": "execute_result"
    }
   ],
   "source": [
    "imp_sorted.tail()"
   ]
  },
  {
   "cell_type": "markdown",
   "id": "1b11dc96",
   "metadata": {
    "papermill": {
     "duration": 0.106794,
     "end_time": "2022-05-01T22:01:58.607089",
     "exception": false,
     "start_time": "2022-05-01T22:01:58.500295",
     "status": "completed"
    },
    "tags": []
   },
   "source": [
    "**Select Top 5 Important Features**"
   ]
  },
  {
   "cell_type": "code",
   "execution_count": 51,
   "id": "dc87e14a",
   "metadata": {
    "execution": {
     "iopub.execute_input": "2022-05-01T22:01:58.823973Z",
     "iopub.status.busy": "2022-05-01T22:01:58.823239Z",
     "iopub.status.idle": "2022-05-01T22:01:58.829127Z",
     "shell.execute_reply": "2022-05-01T22:01:58.828582Z"
    },
    "papermill": {
     "duration": 0.116063,
     "end_time": "2022-05-01T22:01:58.830853",
     "exception": false,
     "start_time": "2022-05-01T22:01:58.714790",
     "status": "completed"
    },
    "tags": []
   },
   "outputs": [],
   "source": [
    "imp_train = X_train[[\"Intl_Plan\",\n",
    "                     \"Total_Mins\",\n",
    "                     \"Day_Mins\",\n",
    "                     \"CustServ_Calls\",\n",
    "                     \"Day_Charge\"]]\n",
    "\n",
    "imp_test = X_test[[\"Intl_Plan\",\n",
    "                     \"Total_Mins\",\n",
    "                     \"Day_Mins\",\n",
    "                     \"CustServ_Calls\",\n",
    "                     \"Day_Charge\"]]"
   ]
  },
  {
   "cell_type": "markdown",
   "id": "61021800",
   "metadata": {
    "papermill": {
     "duration": 0.114365,
     "end_time": "2022-05-01T22:01:59.058920",
     "exception": false,
     "start_time": "2022-05-01T22:01:58.944555",
     "status": "completed"
    },
    "tags": []
   },
   "source": [
    "**Grid Search CV with Important Features**"
   ]
  },
  {
   "cell_type": "code",
   "execution_count": 52,
   "id": "5508700b",
   "metadata": {
    "execution": {
     "iopub.execute_input": "2022-05-01T22:01:59.277327Z",
     "iopub.status.busy": "2022-05-01T22:01:59.276785Z",
     "iopub.status.idle": "2022-05-01T22:03:51.645876Z",
     "shell.execute_reply": "2022-05-01T22:03:51.644994Z"
    },
    "papermill": {
     "duration": 112.591385,
     "end_time": "2022-05-01T22:03:51.757821",
     "exception": false,
     "start_time": "2022-05-01T22:01:59.166436",
     "status": "completed"
    },
    "tags": []
   },
   "outputs": [
    {
     "data": {
      "text/plain": [
       "{'criterion': 'gini', 'n_estimators': 50}"
      ]
     },
     "execution_count": 52,
     "metadata": {},
     "output_type": "execute_result"
    }
   ],
   "source": [
    "params = {\"n_estimators\": np.arange(50, 501, 50),\n",
    "          \"criterion\": [\"gini\", \"entropy\"]}\n",
    "\n",
    "rf = RandomForestClassifier()\n",
    "\n",
    "cv_rf = GridSearchCV(rf, params)\n",
    "\n",
    "cv_rf.fit(imp_train, y_train)\n",
    "\n",
    "cv_rf.best_params_"
   ]
  },
  {
   "cell_type": "code",
   "execution_count": 53,
   "id": "c3c3cf54",
   "metadata": {
    "execution": {
     "iopub.execute_input": "2022-05-01T22:03:51.989286Z",
     "iopub.status.busy": "2022-05-01T22:03:51.988771Z",
     "iopub.status.idle": "2022-05-01T22:03:53.348918Z",
     "shell.execute_reply": "2022-05-01T22:03:53.348049Z"
    },
    "papermill": {
     "duration": 1.480377,
     "end_time": "2022-05-01T22:03:53.351148",
     "exception": false,
     "start_time": "2022-05-01T22:03:51.870771",
     "status": "completed"
    },
    "tags": []
   },
   "outputs": [
    {
     "data": {
      "text/html": [
       "<div>\n",
       "<style scoped>\n",
       "    .dataframe tbody tr th:only-of-type {\n",
       "        vertical-align: middle;\n",
       "    }\n",
       "\n",
       "    .dataframe tbody tr th {\n",
       "        vertical-align: top;\n",
       "    }\n",
       "\n",
       "    .dataframe thead th {\n",
       "        text-align: right;\n",
       "    }\n",
       "</style>\n",
       "<table border=\"1\" class=\"dataframe\">\n",
       "  <thead>\n",
       "    <tr style=\"text-align: right;\">\n",
       "      <th></th>\n",
       "      <th>Actual</th>\n",
       "      <th>Predicted</th>\n",
       "    </tr>\n",
       "  </thead>\n",
       "  <tbody>\n",
       "    <tr>\n",
       "      <th>2051</th>\n",
       "      <td>0</td>\n",
       "      <td>0</td>\n",
       "    </tr>\n",
       "    <tr>\n",
       "      <th>1749</th>\n",
       "      <td>0</td>\n",
       "      <td>0</td>\n",
       "    </tr>\n",
       "    <tr>\n",
       "      <th>2886</th>\n",
       "      <td>0</td>\n",
       "      <td>0</td>\n",
       "    </tr>\n",
       "    <tr>\n",
       "      <th>1705</th>\n",
       "      <td>0</td>\n",
       "      <td>0</td>\n",
       "    </tr>\n",
       "    <tr>\n",
       "      <th>63</th>\n",
       "      <td>0</td>\n",
       "      <td>0</td>\n",
       "    </tr>\n",
       "    <tr>\n",
       "      <th>2034</th>\n",
       "      <td>0</td>\n",
       "      <td>0</td>\n",
       "    </tr>\n",
       "    <tr>\n",
       "      <th>140</th>\n",
       "      <td>0</td>\n",
       "      <td>0</td>\n",
       "    </tr>\n",
       "    <tr>\n",
       "      <th>3308</th>\n",
       "      <td>0</td>\n",
       "      <td>0</td>\n",
       "    </tr>\n",
       "    <tr>\n",
       "      <th>3235</th>\n",
       "      <td>0</td>\n",
       "      <td>0</td>\n",
       "    </tr>\n",
       "    <tr>\n",
       "      <th>2947</th>\n",
       "      <td>1</td>\n",
       "      <td>1</td>\n",
       "    </tr>\n",
       "  </tbody>\n",
       "</table>\n",
       "</div>"
      ],
      "text/plain": [
       "      Actual  Predicted\n",
       "2051       0          0\n",
       "1749       0          0\n",
       "2886       0          0\n",
       "1705       0          0\n",
       "63         0          0\n",
       "2034       0          0\n",
       "140        0          0\n",
       "3308       0          0\n",
       "3235       0          0\n",
       "2947       1          1"
      ]
     },
     "execution_count": 53,
     "metadata": {},
     "output_type": "execute_result"
    }
   ],
   "source": [
    "rf_gc_imp = RandomForestClassifier(criterion = \"entropy\",\n",
    "                                   n_estimators = 250)\n",
    "\n",
    "rf_gc_imp.fit(imp_train, y_train)\n",
    "\n",
    "pred_rf_gc_imp = rf_gc_imp.predict(imp_test)\n",
    "\n",
    "pd.DataFrame({\"Actual\": y_test,\n",
    "              \"Predicted\": pred_rf_gc_imp}).sample(10)"
   ]
  },
  {
   "cell_type": "code",
   "execution_count": 54,
   "id": "062fb155",
   "metadata": {
    "execution": {
     "iopub.execute_input": "2022-05-01T22:03:53.585292Z",
     "iopub.status.busy": "2022-05-01T22:03:53.584706Z",
     "iopub.status.idle": "2022-05-01T22:03:53.593369Z",
     "shell.execute_reply": "2022-05-01T22:03:53.592745Z"
    },
    "papermill": {
     "duration": 0.122233,
     "end_time": "2022-05-01T22:03:53.595239",
     "exception": false,
     "start_time": "2022-05-01T22:03:53.473006",
     "status": "completed"
    },
    "tags": []
   },
   "outputs": [
    {
     "data": {
      "text/html": [
       "<div>\n",
       "<style scoped>\n",
       "    .dataframe tbody tr th:only-of-type {\n",
       "        vertical-align: middle;\n",
       "    }\n",
       "\n",
       "    .dataframe tbody tr th {\n",
       "        vertical-align: top;\n",
       "    }\n",
       "\n",
       "    .dataframe thead th {\n",
       "        text-align: right;\n",
       "    }\n",
       "</style>\n",
       "<table border=\"1\" class=\"dataframe\">\n",
       "  <thead>\n",
       "    <tr style=\"text-align: right;\">\n",
       "      <th></th>\n",
       "      <th>0</th>\n",
       "      <th>1</th>\n",
       "    </tr>\n",
       "  </thead>\n",
       "  <tbody>\n",
       "    <tr>\n",
       "      <th>0</th>\n",
       "      <td>812</td>\n",
       "      <td>42</td>\n",
       "    </tr>\n",
       "    <tr>\n",
       "      <th>1</th>\n",
       "      <td>66</td>\n",
       "      <td>79</td>\n",
       "    </tr>\n",
       "  </tbody>\n",
       "</table>\n",
       "</div>"
      ],
      "text/plain": [
       "     0   1\n",
       "0  812  42\n",
       "1   66  79"
      ]
     },
     "execution_count": 54,
     "metadata": {},
     "output_type": "execute_result"
    }
   ],
   "source": [
    "pd.DataFrame(confusion_matrix(y_test, pred_rf_gc_imp))"
   ]
  },
  {
   "cell_type": "code",
   "execution_count": 55,
   "id": "b3a48c5d",
   "metadata": {
    "execution": {
     "iopub.execute_input": "2022-05-01T22:03:53.819072Z",
     "iopub.status.busy": "2022-05-01T22:03:53.818581Z",
     "iopub.status.idle": "2022-05-01T22:03:53.828646Z",
     "shell.execute_reply": "2022-05-01T22:03:53.827347Z"
    },
    "papermill": {
     "duration": 0.125236,
     "end_time": "2022-05-01T22:03:53.830706",
     "exception": false,
     "start_time": "2022-05-01T22:03:53.705470",
     "status": "completed"
    },
    "tags": []
   },
   "outputs": [
    {
     "name": "stdout",
     "output_type": "stream",
     "text": [
      "              precision    recall  f1-score   support\n",
      "\n",
      "           0       0.92      0.95      0.94       854\n",
      "           1       0.65      0.54      0.59       145\n",
      "\n",
      "    accuracy                           0.89       999\n",
      "   macro avg       0.79      0.75      0.77       999\n",
      "weighted avg       0.89      0.89      0.89       999\n",
      "\n"
     ]
    }
   ],
   "source": [
    "print(classification_report(y_test, pred_rf_gc_imp))"
   ]
  },
  {
   "cell_type": "code",
   "execution_count": null,
   "id": "903e3d0e",
   "metadata": {
    "papermill": {
     "duration": 0.111363,
     "end_time": "2022-05-01T22:03:54.051450",
     "exception": false,
     "start_time": "2022-05-01T22:03:53.940087",
     "status": "completed"
    },
    "tags": []
   },
   "outputs": [],
   "source": []
  }
 ],
 "metadata": {
  "kernelspec": {
   "display_name": "Python 3",
   "language": "python",
   "name": "python3"
  },
  "language_info": {
   "codemirror_mode": {
    "name": "ipython",
    "version": 3
   },
   "file_extension": ".py",
   "mimetype": "text/x-python",
   "name": "python",
   "nbconvert_exporter": "python",
   "pygments_lexer": "ipython3",
   "version": "3.7.12"
  },
  "papermill": {
   "default_parameters": {},
   "duration": 311.069031,
   "end_time": "2022-05-01T22:03:54.981226",
   "environment_variables": {},
   "exception": null,
   "input_path": "__notebook__.ipynb",
   "output_path": "__notebook__.ipynb",
   "parameters": {},
   "start_time": "2022-05-01T21:58:43.912195",
   "version": "2.3.4"
  }
 },
 "nbformat": 4,
 "nbformat_minor": 5
}
