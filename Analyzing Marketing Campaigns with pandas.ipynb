{
 "cells": [
  {
   "cell_type": "code",
   "execution_count": 2,
   "id": "7135f1b3",
   "metadata": {},
   "outputs": [
    {
     "name": "stdout",
     "output_type": "stream",
     "text": [
      "In the name of Allah, The most Benoficient, The most Merciful\n"
     ]
    }
   ],
   "source": [
    "tasmia = \"In the name of Allah, The most Benoficient, The most Merciful\"\n",
    "print(tasmia)"
   ]
  },
  {
   "cell_type": "markdown",
   "id": "171ebb2e",
   "metadata": {},
   "source": [
    "### Import Libraries"
   ]
  },
  {
   "cell_type": "code",
   "execution_count": 68,
   "id": "a3f09e96",
   "metadata": {},
   "outputs": [],
   "source": [
    "import warnings\n",
    "warnings.filterwarnings(\"ignore\")\n",
    "import pandas as pd\n",
    "import numpy as np\n",
    "import matplotlib.pyplot as plt\n",
    "import seaborn as sns\n",
    "import datetime as dt\n",
    "from scipy.stats import ttest_ind\n",
    "sns.set_style(\"whitegrid\")"
   ]
  },
  {
   "cell_type": "markdown",
   "id": "4a15c05e",
   "metadata": {},
   "source": [
    "### Import Dataset"
   ]
  },
  {
   "cell_type": "code",
   "execution_count": 4,
   "id": "50229be1",
   "metadata": {},
   "outputs": [
    {
     "data": {
      "text/html": [
       "<div>\n",
       "<style scoped>\n",
       "    .dataframe tbody tr th:only-of-type {\n",
       "        vertical-align: middle;\n",
       "    }\n",
       "\n",
       "    .dataframe tbody tr th {\n",
       "        vertical-align: top;\n",
       "    }\n",
       "\n",
       "    .dataframe thead th {\n",
       "        text-align: right;\n",
       "    }\n",
       "</style>\n",
       "<table border=\"1\" class=\"dataframe\">\n",
       "  <thead>\n",
       "    <tr style=\"text-align: right;\">\n",
       "      <th></th>\n",
       "      <th>user_id</th>\n",
       "      <th>date_served</th>\n",
       "      <th>marketing_channel</th>\n",
       "      <th>variant</th>\n",
       "      <th>converted</th>\n",
       "      <th>language_displayed</th>\n",
       "      <th>language_preferred</th>\n",
       "      <th>age_group</th>\n",
       "      <th>date_subscribed</th>\n",
       "      <th>date_canceled</th>\n",
       "      <th>subscribing_channel</th>\n",
       "      <th>is_retained</th>\n",
       "    </tr>\n",
       "  </thead>\n",
       "  <tbody>\n",
       "    <tr>\n",
       "      <th>0</th>\n",
       "      <td>a100000029</td>\n",
       "      <td>1/1/18</td>\n",
       "      <td>House Ads</td>\n",
       "      <td>personalization</td>\n",
       "      <td>True</td>\n",
       "      <td>English</td>\n",
       "      <td>English</td>\n",
       "      <td>0-18 years</td>\n",
       "      <td>1/1/18</td>\n",
       "      <td>NaN</td>\n",
       "      <td>House Ads</td>\n",
       "      <td>True</td>\n",
       "    </tr>\n",
       "    <tr>\n",
       "      <th>1</th>\n",
       "      <td>a100000030</td>\n",
       "      <td>1/1/18</td>\n",
       "      <td>House Ads</td>\n",
       "      <td>personalization</td>\n",
       "      <td>True</td>\n",
       "      <td>English</td>\n",
       "      <td>English</td>\n",
       "      <td>19-24 years</td>\n",
       "      <td>1/1/18</td>\n",
       "      <td>NaN</td>\n",
       "      <td>House Ads</td>\n",
       "      <td>True</td>\n",
       "    </tr>\n",
       "    <tr>\n",
       "      <th>2</th>\n",
       "      <td>a100000031</td>\n",
       "      <td>1/1/18</td>\n",
       "      <td>House Ads</td>\n",
       "      <td>personalization</td>\n",
       "      <td>True</td>\n",
       "      <td>English</td>\n",
       "      <td>English</td>\n",
       "      <td>24-30 years</td>\n",
       "      <td>1/1/18</td>\n",
       "      <td>NaN</td>\n",
       "      <td>House Ads</td>\n",
       "      <td>True</td>\n",
       "    </tr>\n",
       "    <tr>\n",
       "      <th>3</th>\n",
       "      <td>a100000032</td>\n",
       "      <td>1/1/18</td>\n",
       "      <td>House Ads</td>\n",
       "      <td>personalization</td>\n",
       "      <td>True</td>\n",
       "      <td>English</td>\n",
       "      <td>English</td>\n",
       "      <td>30-36 years</td>\n",
       "      <td>1/1/18</td>\n",
       "      <td>NaN</td>\n",
       "      <td>House Ads</td>\n",
       "      <td>True</td>\n",
       "    </tr>\n",
       "    <tr>\n",
       "      <th>4</th>\n",
       "      <td>a100000033</td>\n",
       "      <td>1/1/18</td>\n",
       "      <td>House Ads</td>\n",
       "      <td>personalization</td>\n",
       "      <td>True</td>\n",
       "      <td>English</td>\n",
       "      <td>English</td>\n",
       "      <td>36-45 years</td>\n",
       "      <td>1/1/18</td>\n",
       "      <td>NaN</td>\n",
       "      <td>House Ads</td>\n",
       "      <td>True</td>\n",
       "    </tr>\n",
       "  </tbody>\n",
       "</table>\n",
       "</div>"
      ],
      "text/plain": [
       "      user_id date_served marketing_channel          variant converted  \\\n",
       "0  a100000029      1/1/18         House Ads  personalization      True   \n",
       "1  a100000030      1/1/18         House Ads  personalization      True   \n",
       "2  a100000031      1/1/18         House Ads  personalization      True   \n",
       "3  a100000032      1/1/18         House Ads  personalization      True   \n",
       "4  a100000033      1/1/18         House Ads  personalization      True   \n",
       "\n",
       "  language_displayed language_preferred    age_group date_subscribed  \\\n",
       "0            English            English   0-18 years          1/1/18   \n",
       "1            English            English  19-24 years          1/1/18   \n",
       "2            English            English  24-30 years          1/1/18   \n",
       "3            English            English  30-36 years          1/1/18   \n",
       "4            English            English  36-45 years          1/1/18   \n",
       "\n",
       "  date_canceled subscribing_channel is_retained  \n",
       "0           NaN           House Ads        True  \n",
       "1           NaN           House Ads        True  \n",
       "2           NaN           House Ads        True  \n",
       "3           NaN           House Ads        True  \n",
       "4           NaN           House Ads        True  "
      ]
     },
     "execution_count": 4,
     "metadata": {},
     "output_type": "execute_result"
    }
   ],
   "source": [
    "df = pd.read_csv(\"marketing.csv\")\n",
    "df.head()"
   ]
  },
  {
   "cell_type": "code",
   "execution_count": 5,
   "id": "2c9e5532",
   "metadata": {},
   "outputs": [],
   "source": [
    "df[\"date_served\"] = pd.to_datetime(df[\"date_served\"])\n",
    "df[\"date_subscribed\"] = pd.to_datetime(df[\"date_subscribed\"])\n",
    "df[\"date_canceled\"] = pd.to_datetime(df[\"date_canceled\"])"
   ]
  },
  {
   "cell_type": "markdown",
   "id": "3b9e4b2c",
   "metadata": {},
   "source": [
    "**Data Information**"
   ]
  },
  {
   "cell_type": "code",
   "execution_count": 6,
   "id": "898cae4e",
   "metadata": {},
   "outputs": [
    {
     "name": "stdout",
     "output_type": "stream",
     "text": [
      "<class 'pandas.core.frame.DataFrame'>\n",
      "RangeIndex: 10037 entries, 0 to 10036\n",
      "Data columns (total 12 columns):\n",
      " #   Column               Non-Null Count  Dtype         \n",
      "---  ------               --------------  -----         \n",
      " 0   user_id              10037 non-null  object        \n",
      " 1   date_served          10021 non-null  datetime64[ns]\n",
      " 2   marketing_channel    10022 non-null  object        \n",
      " 3   variant              10037 non-null  object        \n",
      " 4   converted            10022 non-null  object        \n",
      " 5   language_displayed   10037 non-null  object        \n",
      " 6   language_preferred   10037 non-null  object        \n",
      " 7   age_group            10037 non-null  object        \n",
      " 8   date_subscribed      1856 non-null   datetime64[ns]\n",
      " 9   date_canceled        577 non-null    datetime64[ns]\n",
      " 10  subscribing_channel  1856 non-null   object        \n",
      " 11  is_retained          1856 non-null   object        \n",
      "dtypes: datetime64[ns](3), object(9)\n",
      "memory usage: 941.1+ KB\n"
     ]
    }
   ],
   "source": [
    "df.info()"
   ]
  },
  {
   "cell_type": "markdown",
   "id": "2a865d9a",
   "metadata": {},
   "source": [
    "**Data Statistics**"
   ]
  },
  {
   "cell_type": "code",
   "execution_count": 7,
   "id": "98a3dda9",
   "metadata": {},
   "outputs": [
    {
     "data": {
      "text/html": [
       "<div>\n",
       "<style scoped>\n",
       "    .dataframe tbody tr th:only-of-type {\n",
       "        vertical-align: middle;\n",
       "    }\n",
       "\n",
       "    .dataframe tbody tr th {\n",
       "        vertical-align: top;\n",
       "    }\n",
       "\n",
       "    .dataframe thead th {\n",
       "        text-align: right;\n",
       "    }\n",
       "</style>\n",
       "<table border=\"1\" class=\"dataframe\">\n",
       "  <thead>\n",
       "    <tr style=\"text-align: right;\">\n",
       "      <th></th>\n",
       "      <th>user_id</th>\n",
       "      <th>date_served</th>\n",
       "      <th>marketing_channel</th>\n",
       "      <th>variant</th>\n",
       "      <th>converted</th>\n",
       "      <th>language_displayed</th>\n",
       "      <th>language_preferred</th>\n",
       "      <th>age_group</th>\n",
       "      <th>date_subscribed</th>\n",
       "      <th>date_canceled</th>\n",
       "      <th>subscribing_channel</th>\n",
       "      <th>is_retained</th>\n",
       "    </tr>\n",
       "  </thead>\n",
       "  <tbody>\n",
       "    <tr>\n",
       "      <th>count</th>\n",
       "      <td>10037</td>\n",
       "      <td>10021</td>\n",
       "      <td>10022</td>\n",
       "      <td>10037</td>\n",
       "      <td>10022</td>\n",
       "      <td>10037</td>\n",
       "      <td>10037</td>\n",
       "      <td>10037</td>\n",
       "      <td>1856</td>\n",
       "      <td>577</td>\n",
       "      <td>1856</td>\n",
       "      <td>1856</td>\n",
       "    </tr>\n",
       "    <tr>\n",
       "      <th>unique</th>\n",
       "      <td>7309</td>\n",
       "      <td>31</td>\n",
       "      <td>5</td>\n",
       "      <td>2</td>\n",
       "      <td>2</td>\n",
       "      <td>4</td>\n",
       "      <td>4</td>\n",
       "      <td>7</td>\n",
       "      <td>31</td>\n",
       "      <td>115</td>\n",
       "      <td>5</td>\n",
       "      <td>2</td>\n",
       "    </tr>\n",
       "    <tr>\n",
       "      <th>top</th>\n",
       "      <td>a100000882</td>\n",
       "      <td>2018-01-15 00:00:00</td>\n",
       "      <td>House Ads</td>\n",
       "      <td>control</td>\n",
       "      <td>False</td>\n",
       "      <td>English</td>\n",
       "      <td>English</td>\n",
       "      <td>19-24 years</td>\n",
       "      <td>2018-01-16 00:00:00</td>\n",
       "      <td>2018-04-02 00:00:00</td>\n",
       "      <td>Instagram</td>\n",
       "      <td>True</td>\n",
       "    </tr>\n",
       "    <tr>\n",
       "      <th>freq</th>\n",
       "      <td>12</td>\n",
       "      <td>789</td>\n",
       "      <td>4733</td>\n",
       "      <td>5091</td>\n",
       "      <td>8946</td>\n",
       "      <td>9793</td>\n",
       "      <td>9275</td>\n",
       "      <td>1682</td>\n",
       "      <td>163</td>\n",
       "      <td>15</td>\n",
       "      <td>600</td>\n",
       "      <td>1279</td>\n",
       "    </tr>\n",
       "    <tr>\n",
       "      <th>first</th>\n",
       "      <td>NaN</td>\n",
       "      <td>2018-01-01 00:00:00</td>\n",
       "      <td>NaN</td>\n",
       "      <td>NaN</td>\n",
       "      <td>NaN</td>\n",
       "      <td>NaN</td>\n",
       "      <td>NaN</td>\n",
       "      <td>NaN</td>\n",
       "      <td>2018-01-01 00:00:00</td>\n",
       "      <td>2018-01-05 00:00:00</td>\n",
       "      <td>NaN</td>\n",
       "      <td>NaN</td>\n",
       "    </tr>\n",
       "    <tr>\n",
       "      <th>last</th>\n",
       "      <td>NaN</td>\n",
       "      <td>2018-01-31 00:00:00</td>\n",
       "      <td>NaN</td>\n",
       "      <td>NaN</td>\n",
       "      <td>NaN</td>\n",
       "      <td>NaN</td>\n",
       "      <td>NaN</td>\n",
       "      <td>NaN</td>\n",
       "      <td>2018-01-31 00:00:00</td>\n",
       "      <td>2018-05-09 00:00:00</td>\n",
       "      <td>NaN</td>\n",
       "      <td>NaN</td>\n",
       "    </tr>\n",
       "  </tbody>\n",
       "</table>\n",
       "</div>"
      ],
      "text/plain": [
       "           user_id          date_served marketing_channel  variant converted  \\\n",
       "count        10037                10021             10022    10037     10022   \n",
       "unique        7309                   31                 5        2         2   \n",
       "top     a100000882  2018-01-15 00:00:00         House Ads  control     False   \n",
       "freq            12                  789              4733     5091      8946   \n",
       "first          NaN  2018-01-01 00:00:00               NaN      NaN       NaN   \n",
       "last           NaN  2018-01-31 00:00:00               NaN      NaN       NaN   \n",
       "\n",
       "       language_displayed language_preferred    age_group  \\\n",
       "count               10037              10037        10037   \n",
       "unique                  4                  4            7   \n",
       "top               English            English  19-24 years   \n",
       "freq                 9793               9275         1682   \n",
       "first                 NaN                NaN          NaN   \n",
       "last                  NaN                NaN          NaN   \n",
       "\n",
       "            date_subscribed        date_canceled subscribing_channel  \\\n",
       "count                  1856                  577                1856   \n",
       "unique                   31                  115                   5   \n",
       "top     2018-01-16 00:00:00  2018-04-02 00:00:00           Instagram   \n",
       "freq                    163                   15                 600   \n",
       "first   2018-01-01 00:00:00  2018-01-05 00:00:00                 NaN   \n",
       "last    2018-01-31 00:00:00  2018-05-09 00:00:00                 NaN   \n",
       "\n",
       "       is_retained  \n",
       "count         1856  \n",
       "unique           2  \n",
       "top           True  \n",
       "freq          1279  \n",
       "first          NaN  \n",
       "last           NaN  "
      ]
     },
     "execution_count": 7,
     "metadata": {},
     "output_type": "execute_result"
    }
   ],
   "source": [
    "df.describe()"
   ]
  },
  {
   "cell_type": "markdown",
   "id": "4ebfb4da",
   "metadata": {},
   "source": [
    "**Create New Column**"
   ]
  },
  {
   "cell_type": "code",
   "execution_count": 8,
   "id": "e6f69ca8",
   "metadata": {},
   "outputs": [],
   "source": [
    "def house_ads(x):\n",
    "    if x == \"House Ads\":\n",
    "        return True\n",
    "    else:\n",
    "        return False\n",
    "    \n",
    "df[\"is_house_ads\"] = df[\"marketing_channel\"].apply(house_ads)"
   ]
  },
  {
   "cell_type": "code",
   "execution_count": 9,
   "id": "24975549",
   "metadata": {},
   "outputs": [],
   "source": [
    "def correct_language(x):\n",
    "    preferred = x[0]\n",
    "    displayed = x[1]  \n",
    "    if preferred == displayed:\n",
    "        return \"Yes\"\n",
    "    else:\n",
    "        return \"No\"\n",
    "    \n",
    "df[\"is_correct_language\"] = df[[\"language_preferred\", \"language_displayed\"]].apply(correct_language, axis = 1)"
   ]
  },
  {
   "cell_type": "markdown",
   "id": "cedcaf5c",
   "metadata": {},
   "source": [
    "**Extract Days**"
   ]
  },
  {
   "cell_type": "code",
   "execution_count": 10,
   "id": "a4796b95",
   "metadata": {},
   "outputs": [],
   "source": [
    "df[\"day_served\"] = df[\"date_served\"].dt.dayofweek"
   ]
  },
  {
   "cell_type": "markdown",
   "id": "b00e6e50",
   "metadata": {},
   "source": [
    "**Unique users by Date Served**"
   ]
  },
  {
   "cell_type": "code",
   "execution_count": 11,
   "id": "67c42714",
   "metadata": {},
   "outputs": [
    {
     "data": {
      "image/png": "[encoded data removed]",
      "text/plain": [
       "<Figure size 1296x504 with 1 Axes>"
      ]
     },
     "metadata": {},
     "output_type": "display_data"
    }
   ],
   "source": [
    "daily_users = df.groupby(\"date_served\")[\"user_id\"].nunique().to_frame()\n",
    "plt.figure(figsize = (18, 7))\n",
    "sns.lineplot(x = daily_users.index, y = \"user_id\", data = daily_users, color = \"blue\", linewidth = 3)\n",
    "plt.title(\"Unique users by Date Served\", size = 20, color = \"red\")\n",
    "plt.xlabel(\"Date Served\", color = \"red\", size = 20)\n",
    "plt.ylabel(\"Unique Users\", color = \"red\", size = 20)\n",
    "plt.xticks(size = 15)\n",
    "plt.yticks(size = 15)\n",
    "plt.show()"
   ]
  },
  {
   "cell_type": "markdown",
   "id": "9e617275",
   "metadata": {},
   "source": [
    "**Conversion Rate**"
   ]
  },
  {
   "attachments": {
    "Capture.PNG": {
     "image/png": "[encoded data removed]"
    }
   },
   "cell_type": "markdown",
   "id": "a47c8659",
   "metadata": {},
   "source": [
    "![Capture.PNG](attachment:Capture.PNG)"
   ]
  },
  {
   "cell_type": "code",
   "execution_count": 12,
   "id": "27fc5333",
   "metadata": {},
   "outputs": [
    {
     "name": "stdout",
     "output_type": "stream",
     "text": [
      "Number of unique people = 7309\n"
     ]
    }
   ],
   "source": [
    "people = df[\"user_id\"].nunique()\n",
    "print(\"Number of unique people =\", people)"
   ]
  },
  {
   "cell_type": "code",
   "execution_count": 13,
   "id": "9880c3a3",
   "metadata": {},
   "outputs": [
    {
     "data": {
      "text/plain": [
       "converted\n",
       "False    6854\n",
       "True     1015\n",
       "Name: user_id, dtype: int64"
      ]
     },
     "execution_count": 13,
     "metadata": {},
     "output_type": "execute_result"
    }
   ],
   "source": [
    "subscribers = df.groupby(\"converted\")[\"user_id\"].nunique()\n",
    "subscribers"
   ]
  },
  {
   "cell_type": "code",
   "execution_count": 14,
   "id": "c0045a53",
   "metadata": {},
   "outputs": [
    {
     "name": "stdout",
     "output_type": "stream",
     "text": [
      "Conversion Rate = 13.89 %\n"
     ]
    }
   ],
   "source": [
    "conversion = subscribers[1] / people\n",
    "print(\"Conversion Rate =\", (conversion*100).round(2), \"%\")"
   ]
  },
  {
   "cell_type": "markdown",
   "id": "fc45ba73",
   "metadata": {},
   "source": [
    "**Retention Rate**"
   ]
  },
  {
   "attachments": {
    "Capture.PNG": {
     "image/png": "[encoded data removed]"
    }
   },
   "cell_type": "markdown",
   "id": "d32a2893",
   "metadata": {},
   "source": [
    "![Capture.PNG](attachment:Capture.PNG)"
   ]
  },
  {
   "cell_type": "code",
   "execution_count": 15,
   "id": "8c5f630a",
   "metadata": {},
   "outputs": [
    {
     "data": {
      "text/plain": [
       "is_retained\n",
       "False    350\n",
       "True     678\n",
       "Name: user_id, dtype: int64"
      ]
     },
     "execution_count": 15,
     "metadata": {},
     "output_type": "execute_result"
    }
   ],
   "source": [
    "retained = df.groupby(\"is_retained\")[\"user_id\"].nunique()\n",
    "retained"
   ]
  },
  {
   "cell_type": "code",
   "execution_count": 16,
   "id": "f4c6e8b0",
   "metadata": {},
   "outputs": [
    {
     "name": "stdout",
     "output_type": "stream",
     "text": [
      "Retention Rate = 66.8 %\n"
     ]
    }
   ],
   "source": [
    "retention_rate = (retained[1] / subscribers[1]) * 100\n",
    "print(\"Retention Rate =\", retention_rate.round(2), \"%\")"
   ]
  },
  {
   "cell_type": "markdown",
   "id": "099b7c0d",
   "metadata": {},
   "source": [
    "### Customer Segmentation"
   ]
  },
  {
   "cell_type": "markdown",
   "id": "8f19b5b8",
   "metadata": {},
   "source": [
    "**Housing Ads**"
   ]
  },
  {
   "cell_type": "code",
   "execution_count": 17,
   "id": "7b01c1ec",
   "metadata": {},
   "outputs": [
    {
     "data": {
      "text/html": [
       "<div>\n",
       "<style scoped>\n",
       "    .dataframe tbody tr th:only-of-type {\n",
       "        vertical-align: middle;\n",
       "    }\n",
       "\n",
       "    .dataframe tbody tr th {\n",
       "        vertical-align: top;\n",
       "    }\n",
       "\n",
       "    .dataframe thead th {\n",
       "        text-align: right;\n",
       "    }\n",
       "</style>\n",
       "<table border=\"1\" class=\"dataframe\">\n",
       "  <thead>\n",
       "    <tr style=\"text-align: right;\">\n",
       "      <th></th>\n",
       "      <th>user_id</th>\n",
       "      <th>date_served</th>\n",
       "      <th>marketing_channel</th>\n",
       "      <th>variant</th>\n",
       "      <th>converted</th>\n",
       "      <th>language_displayed</th>\n",
       "      <th>language_preferred</th>\n",
       "      <th>age_group</th>\n",
       "      <th>date_subscribed</th>\n",
       "      <th>date_canceled</th>\n",
       "      <th>subscribing_channel</th>\n",
       "      <th>is_retained</th>\n",
       "      <th>is_house_ads</th>\n",
       "      <th>is_correct_language</th>\n",
       "      <th>day_served</th>\n",
       "    </tr>\n",
       "  </thead>\n",
       "  <tbody>\n",
       "    <tr>\n",
       "      <th>0</th>\n",
       "      <td>a100000029</td>\n",
       "      <td>2018-01-01</td>\n",
       "      <td>House Ads</td>\n",
       "      <td>personalization</td>\n",
       "      <td>True</td>\n",
       "      <td>English</td>\n",
       "      <td>English</td>\n",
       "      <td>0-18 years</td>\n",
       "      <td>2018-01-01</td>\n",
       "      <td>NaT</td>\n",
       "      <td>House Ads</td>\n",
       "      <td>True</td>\n",
       "      <td>True</td>\n",
       "      <td>Yes</td>\n",
       "      <td>0.0</td>\n",
       "    </tr>\n",
       "    <tr>\n",
       "      <th>1</th>\n",
       "      <td>a100000030</td>\n",
       "      <td>2018-01-01</td>\n",
       "      <td>House Ads</td>\n",
       "      <td>personalization</td>\n",
       "      <td>True</td>\n",
       "      <td>English</td>\n",
       "      <td>English</td>\n",
       "      <td>19-24 years</td>\n",
       "      <td>2018-01-01</td>\n",
       "      <td>NaT</td>\n",
       "      <td>House Ads</td>\n",
       "      <td>True</td>\n",
       "      <td>True</td>\n",
       "      <td>Yes</td>\n",
       "      <td>0.0</td>\n",
       "    </tr>\n",
       "    <tr>\n",
       "      <th>2</th>\n",
       "      <td>a100000031</td>\n",
       "      <td>2018-01-01</td>\n",
       "      <td>House Ads</td>\n",
       "      <td>personalization</td>\n",
       "      <td>True</td>\n",
       "      <td>English</td>\n",
       "      <td>English</td>\n",
       "      <td>24-30 years</td>\n",
       "      <td>2018-01-01</td>\n",
       "      <td>NaT</td>\n",
       "      <td>House Ads</td>\n",
       "      <td>True</td>\n",
       "      <td>True</td>\n",
       "      <td>Yes</td>\n",
       "      <td>0.0</td>\n",
       "    </tr>\n",
       "    <tr>\n",
       "      <th>3</th>\n",
       "      <td>a100000032</td>\n",
       "      <td>2018-01-01</td>\n",
       "      <td>House Ads</td>\n",
       "      <td>personalization</td>\n",
       "      <td>True</td>\n",
       "      <td>English</td>\n",
       "      <td>English</td>\n",
       "      <td>30-36 years</td>\n",
       "      <td>2018-01-01</td>\n",
       "      <td>NaT</td>\n",
       "      <td>House Ads</td>\n",
       "      <td>True</td>\n",
       "      <td>True</td>\n",
       "      <td>Yes</td>\n",
       "      <td>0.0</td>\n",
       "    </tr>\n",
       "    <tr>\n",
       "      <th>4</th>\n",
       "      <td>a100000033</td>\n",
       "      <td>2018-01-01</td>\n",
       "      <td>House Ads</td>\n",
       "      <td>personalization</td>\n",
       "      <td>True</td>\n",
       "      <td>English</td>\n",
       "      <td>English</td>\n",
       "      <td>36-45 years</td>\n",
       "      <td>2018-01-01</td>\n",
       "      <td>NaT</td>\n",
       "      <td>House Ads</td>\n",
       "      <td>True</td>\n",
       "      <td>True</td>\n",
       "      <td>Yes</td>\n",
       "      <td>0.0</td>\n",
       "    </tr>\n",
       "  </tbody>\n",
       "</table>\n",
       "</div>"
      ],
      "text/plain": [
       "      user_id date_served marketing_channel          variant converted  \\\n",
       "0  a100000029  2018-01-01         House Ads  personalization      True   \n",
       "1  a100000030  2018-01-01         House Ads  personalization      True   \n",
       "2  a100000031  2018-01-01         House Ads  personalization      True   \n",
       "3  a100000032  2018-01-01         House Ads  personalization      True   \n",
       "4  a100000033  2018-01-01         House Ads  personalization      True   \n",
       "\n",
       "  language_displayed language_preferred    age_group date_subscribed  \\\n",
       "0            English            English   0-18 years      2018-01-01   \n",
       "1            English            English  19-24 years      2018-01-01   \n",
       "2            English            English  24-30 years      2018-01-01   \n",
       "3            English            English  30-36 years      2018-01-01   \n",
       "4            English            English  36-45 years      2018-01-01   \n",
       "\n",
       "  date_canceled subscribing_channel is_retained  is_house_ads  \\\n",
       "0           NaT           House Ads        True          True   \n",
       "1           NaT           House Ads        True          True   \n",
       "2           NaT           House Ads        True          True   \n",
       "3           NaT           House Ads        True          True   \n",
       "4           NaT           House Ads        True          True   \n",
       "\n",
       "  is_correct_language  day_served  \n",
       "0                 Yes         0.0  \n",
       "1                 Yes         0.0  \n",
       "2                 Yes         0.0  \n",
       "3                 Yes         0.0  \n",
       "4                 Yes         0.0  "
      ]
     },
     "execution_count": 17,
     "metadata": {},
     "output_type": "execute_result"
    }
   ],
   "source": [
    "housing_ads = df[df[\"subscribing_channel\"] == \"House Ads\"]\n",
    "housing_ads.head()"
   ]
  },
  {
   "cell_type": "markdown",
   "id": "ec8b1f1b",
   "metadata": {},
   "source": [
    "**Conversion Rate by House Ads**"
   ]
  },
  {
   "cell_type": "code",
   "execution_count": 18,
   "id": "63bb6970",
   "metadata": {},
   "outputs": [
    {
     "name": "stdout",
     "output_type": "stream",
     "text": [
      "House Ads reached to total people = 298\n"
     ]
    }
   ],
   "source": [
    "people = housing_ads[\"user_id\"].nunique()\n",
    "print(\"House Ads reached to total people =\", people)"
   ]
  },
  {
   "cell_type": "code",
   "execution_count": 19,
   "id": "41fb730c",
   "metadata": {},
   "outputs": [
    {
     "data": {
      "text/plain": [
       "converted\n",
       "False     56\n",
       "True     298\n",
       "Name: user_id, dtype: int64"
      ]
     },
     "execution_count": 19,
     "metadata": {},
     "output_type": "execute_result"
    }
   ],
   "source": [
    "subscription = housing_ads.groupby(\"converted\")[\"user_id\"].nunique()\n",
    "subscription"
   ]
  },
  {
   "cell_type": "code",
   "execution_count": 20,
   "id": "9613b26d",
   "metadata": {},
   "outputs": [
    {
     "name": "stdout",
     "output_type": "stream",
     "text": [
      "Conversion Rate by House Ads = 100.0 %\n"
     ]
    }
   ],
   "source": [
    "conversion_rate = (subscription[1] / people) * 100\n",
    "print(\"Conversion Rate by House Ads =\", conversion_rate, \"%\")"
   ]
  },
  {
   "cell_type": "markdown",
   "id": "6195ef07",
   "metadata": {},
   "source": [
    "**Retention Rate by House Ads**"
   ]
  },
  {
   "cell_type": "code",
   "execution_count": 21,
   "id": "74f36a5c",
   "metadata": {},
   "outputs": [
    {
     "data": {
      "text/plain": [
       "is_retained\n",
       "False    125\n",
       "True     173\n",
       "Name: user_id, dtype: int64"
      ]
     },
     "execution_count": 21,
     "metadata": {},
     "output_type": "execute_result"
    }
   ],
   "source": [
    "retained = housing_ads.groupby(\"is_retained\")[\"user_id\"].nunique()\n",
    "retained"
   ]
  },
  {
   "cell_type": "code",
   "execution_count": 22,
   "id": "94be57cf",
   "metadata": {},
   "outputs": [
    {
     "name": "stdout",
     "output_type": "stream",
     "text": [
      "Retention Rate by House Ads = 58.05 %\n"
     ]
    }
   ],
   "source": [
    "retention_rate = (retained[1] / subscription[1]) * 100\n",
    "print(\"Retention Rate by House Ads =\", retention_rate.round(2), \"%\")"
   ]
  },
  {
   "cell_type": "markdown",
   "id": "879b1552",
   "metadata": {},
   "source": [
    "### Subscribing Channels"
   ]
  },
  {
   "cell_type": "markdown",
   "id": "b3510c54",
   "metadata": {},
   "source": [
    "**Converted Customers by All Channels**"
   ]
  },
  {
   "cell_type": "code",
   "execution_count": 23,
   "id": "1f9eaa2d",
   "metadata": {},
   "outputs": [],
   "source": [
    "converted_true = df[df[\"converted\"] == True]"
   ]
  },
  {
   "cell_type": "code",
   "execution_count": 24,
   "id": "7f2e75aa",
   "metadata": {},
   "outputs": [
    {
     "data": {
      "text/plain": [
       "subscribing_channel\n",
       "Email        161\n",
       "Facebook     221\n",
       "House Ads    298\n",
       "Instagram    232\n",
       "Push          77\n",
       "Name: user_id, dtype: int64"
      ]
     },
     "execution_count": 24,
     "metadata": {},
     "output_type": "execute_result"
    }
   ],
   "source": [
    "conversion = converted_true.groupby(\"subscribing_channel\")[\"user_id\"].nunique()\n",
    "conversion"
   ]
  },
  {
   "cell_type": "markdown",
   "id": "4c3a72ec",
   "metadata": {},
   "source": [
    "**Retention Customers by All Channels**"
   ]
  },
  {
   "cell_type": "code",
   "execution_count": 25,
   "id": "1f343e4b",
   "metadata": {},
   "outputs": [],
   "source": [
    "retain_true = df[df[\"is_retained\"] == True]"
   ]
  },
  {
   "cell_type": "code",
   "execution_count": 26,
   "id": "931687ae",
   "metadata": {},
   "outputs": [
    {
     "data": {
      "text/plain": [
       "subscribing_channel\n",
       "Email        141\n",
       "Facebook     152\n",
       "House Ads    173\n",
       "Instagram    158\n",
       "Push          54\n",
       "Name: user_id, dtype: int64"
      ]
     },
     "execution_count": 26,
     "metadata": {},
     "output_type": "execute_result"
    }
   ],
   "source": [
    "retained = retain_true.groupby(\"subscribing_channel\")[\"user_id\"].nunique()\n",
    "retained"
   ]
  },
  {
   "cell_type": "markdown",
   "id": "092d036c",
   "metadata": {},
   "source": [
    "**Retention Rate By All Subscribing Channels**"
   ]
  },
  {
   "cell_type": "code",
   "execution_count": 27,
   "id": "cf56b907",
   "metadata": {},
   "outputs": [
    {
     "data": {
      "text/plain": [
       "subscribing_channel\n",
       "Email        87.58\n",
       "Facebook     68.78\n",
       "House Ads    58.05\n",
       "Instagram    68.10\n",
       "Push         70.13\n",
       "Name: user_id, dtype: float64"
      ]
     },
     "execution_count": 27,
     "metadata": {},
     "output_type": "execute_result"
    }
   ],
   "source": [
    "(retained / conversion*100).round(2)"
   ]
  },
  {
   "cell_type": "markdown",
   "id": "1affda79",
   "metadata": {},
   "source": [
    "### English Language Displayed"
   ]
  },
  {
   "cell_type": "markdown",
   "id": "a49d04ad",
   "metadata": {},
   "source": [
    "**Conversion Rate by English Language**"
   ]
  },
  {
   "cell_type": "code",
   "execution_count": 28,
   "id": "da28ca93",
   "metadata": {},
   "outputs": [],
   "source": [
    "english = df[(df[\"language_displayed\"] == \"English\")]"
   ]
  },
  {
   "cell_type": "code",
   "execution_count": 29,
   "id": "6650b6fa",
   "metadata": {},
   "outputs": [
    {
     "name": "stdout",
     "output_type": "stream",
     "text": [
      "People Subscribed through English Language = 7169\n"
     ]
    }
   ],
   "source": [
    "people = english[\"user_id\"].nunique()\n",
    "print(\"People Subscribed through English Language =\", people)"
   ]
  },
  {
   "cell_type": "code",
   "execution_count": 30,
   "id": "15b7cae5",
   "metadata": {},
   "outputs": [
    {
     "data": {
      "text/plain": [
       "converted\n",
       "False    6778\n",
       "True      926\n",
       "Name: user_id, dtype: int64"
      ]
     },
     "execution_count": 30,
     "metadata": {},
     "output_type": "execute_result"
    }
   ],
   "source": [
    "conversion = english.groupby(\"converted\")[\"user_id\"].nunique()\n",
    "conversion"
   ]
  },
  {
   "cell_type": "code",
   "execution_count": 31,
   "id": "154fbbd0",
   "metadata": {},
   "outputs": [
    {
     "name": "stdout",
     "output_type": "stream",
     "text": [
      "Conversion Rate by English Language = 12.92 %\n"
     ]
    }
   ],
   "source": [
    "# Conversiom Rate\n",
    "conversion_rate = ((conversion[1] / people) * 100).round(2)\n",
    "print(\"Conversion Rate by English Language =\", conversion_rate, \"%\")"
   ]
  },
  {
   "cell_type": "markdown",
   "id": "10eef00b",
   "metadata": {},
   "source": [
    "**Retention Rate by English Language**"
   ]
  },
  {
   "cell_type": "code",
   "execution_count": 32,
   "id": "43596f14",
   "metadata": {},
   "outputs": [
    {
     "data": {
      "text/plain": [
       "is_retained\n",
       "False    320\n",
       "True     619\n",
       "Name: user_id, dtype: int64"
      ]
     },
     "execution_count": 32,
     "metadata": {},
     "output_type": "execute_result"
    }
   ],
   "source": [
    "retention = english.groupby(\"is_retained\")[\"user_id\"].nunique()\n",
    "retention"
   ]
  },
  {
   "cell_type": "code",
   "execution_count": 33,
   "id": "47928c9b",
   "metadata": {},
   "outputs": [
    {
     "name": "stdout",
     "output_type": "stream",
     "text": [
      "Retention Rate by English Language = 66.85 %\n"
     ]
    }
   ],
   "source": [
    "print(\"Retention Rate by English Language =\", (retention[1] / conversion[1] * 100).round(2), \"%\")"
   ]
  },
  {
   "cell_type": "markdown",
   "id": "cb9f9c97",
   "metadata": {},
   "source": [
    "### Conversion by Languages"
   ]
  },
  {
   "cell_type": "code",
   "execution_count": 34,
   "id": "8b2a3566",
   "metadata": {},
   "outputs": [
    {
     "data": {
      "text/plain": [
       "language_displayed\n",
       "Arabic       24\n",
       "English    7169\n",
       "German       74\n",
       "Spanish     120\n",
       "Name: user_id, dtype: int64"
      ]
     },
     "execution_count": 34,
     "metadata": {},
     "output_type": "execute_result"
    }
   ],
   "source": [
    "people = df.groupby(\"language_displayed\")[\"user_id\"].nunique()\n",
    "people"
   ]
  },
  {
   "cell_type": "code",
   "execution_count": 35,
   "id": "3155f023",
   "metadata": {},
   "outputs": [
    {
     "data": {
      "text/plain": [
       "language_displayed\n",
       "Arabic      12\n",
       "English    926\n",
       "German      53\n",
       "Spanish     24\n",
       "Name: user_id, dtype: int64"
      ]
     },
     "execution_count": 35,
     "metadata": {},
     "output_type": "execute_result"
    }
   ],
   "source": [
    "converted = df[df[\"converted\"] == True]\n",
    "subscription = converted.groupby(\"language_displayed\")[\"user_id\"].nunique()\n",
    "subscription"
   ]
  },
  {
   "cell_type": "markdown",
   "id": "5f3d28b1",
   "metadata": {},
   "source": [
    "**Conversion Rate**"
   ]
  },
  {
   "cell_type": "code",
   "execution_count": 36,
   "id": "43e96ffd",
   "metadata": {},
   "outputs": [
    {
     "data": {
      "text/plain": [
       "language_displayed\n",
       "Arabic     50.00\n",
       "English    12.92\n",
       "German     71.62\n",
       "Spanish    20.00\n",
       "Name: user_id, dtype: float64"
      ]
     },
     "execution_count": 36,
     "metadata": {},
     "output_type": "execute_result"
    }
   ],
   "source": [
    "((subscription/people) * 100).round(2)"
   ]
  },
  {
   "cell_type": "markdown",
   "id": "7faa739a",
   "metadata": {},
   "source": [
    "### Aggregating by date"
   ]
  },
  {
   "cell_type": "code",
   "execution_count": 37,
   "id": "0bb22c5c",
   "metadata": {},
   "outputs": [
    {
     "data": {
      "text/plain": [
       "date_served\n",
       "2018-01-01     9.94\n",
       "2018-01-02     9.89\n",
       "2018-01-03    10.34\n",
       "2018-01-04    10.84\n",
       "2018-01-05    12.54\n",
       "2018-01-06    11.36\n",
       "2018-01-07    14.18\n",
       "2018-01-08    11.54\n",
       "2018-01-09    12.50\n",
       "2018-01-10    11.87\n",
       "2018-01-11     8.06\n",
       "2018-01-12     7.64\n",
       "2018-01-13     8.50\n",
       "2018-01-14     8.52\n",
       "2018-01-15    11.34\n",
       "2018-01-16    25.52\n",
       "2018-01-17    21.95\n",
       "2018-01-18     9.12\n",
       "2018-01-19     5.90\n",
       "2018-01-20     6.75\n",
       "2018-01-21     8.73\n",
       "2018-01-22    12.36\n",
       "2018-01-23    12.21\n",
       "2018-01-24    11.58\n",
       "2018-01-25    12.50\n",
       "2018-01-26     9.01\n",
       "2018-01-27     6.56\n",
       "2018-01-28     6.25\n",
       "2018-01-29     5.96\n",
       "2018-01-30     6.62\n",
       "2018-01-31     5.29\n",
       "Name: user_id, dtype: float64"
      ]
     },
     "execution_count": 37,
     "metadata": {},
     "output_type": "execute_result"
    }
   ],
   "source": [
    "total = df.groupby(\"date_served\")[\"user_id\"].nunique()\n",
    "\n",
    "subscription = df[df[\"converted\"] == True].groupby(\"date_served\")[\"user_id\"].nunique()\n",
    "\n",
    "conversion = ((subscription / total) * 100).round(2)\n",
    "conversion"
   ]
  },
  {
   "cell_type": "code",
   "execution_count": 38,
   "id": "9d1f78c6",
   "metadata": {},
   "outputs": [
    {
     "data": {
      "image/png": "[encoded data removed]",
      "text/plain": [
       "<Figure size 1296x504 with 1 Axes>"
      ]
     },
     "metadata": {},
     "output_type": "display_data"
    }
   ],
   "source": [
    "df_conversion = pd.DataFrame(conversion).reset_index()\n",
    "df_conversion.columns = [\"date_subscribed\", \"conversion_rate\"] \n",
    "plt.figure(figsize = (18, 7))\n",
    "sns.lineplot(x = \"date_subscribed\", y = \"conversion_rate\", data = df_conversion, color = \"blue\", linewidth = 3)\n",
    "plt.title(\"Daily Conversion Rate in Month\", color = \"red\", size = 20)\n",
    "plt.xticks(size = 15)\n",
    "plt.yticks(size = 15)\n",
    "plt.xlabel(\"Days\", color = \"red\", size = 20)\n",
    "plt.ylabel(\"Daily Conversion Rate\", size = 20, color = \"red\")\n",
    "plt.ylim(0)\n",
    "plt.show()"
   ]
  },
  {
   "cell_type": "markdown",
   "id": "66c7c95e",
   "metadata": {},
   "source": [
    "### Calculate Subscribers Quality"
   ]
  },
  {
   "cell_type": "code",
   "execution_count": 39,
   "id": "8b899b4b",
   "metadata": {},
   "outputs": [
    {
     "data": {
      "text/plain": [
       "date_subscribed\n",
       "2018-01-01    0.777778\n",
       "2018-01-02    0.702703\n",
       "2018-01-03    0.729730\n",
       "2018-01-04    0.500000\n",
       "2018-01-05    0.575000\n",
       "2018-01-06    0.756757\n",
       "2018-01-07    0.526316\n",
       "2018-01-08    0.638889\n",
       "2018-01-09    0.675000\n",
       "2018-01-10    0.682927\n",
       "2018-01-11    0.615385\n",
       "2018-01-12    0.391304\n",
       "2018-01-13    0.500000\n",
       "2018-01-14    0.615385\n",
       "2018-01-15    0.714286\n",
       "2018-01-16    0.701923\n",
       "2018-01-17    0.616279\n",
       "2018-01-18    0.733333\n",
       "2018-01-19    0.684211\n",
       "2018-01-20    0.809524\n",
       "2018-01-21    0.761905\n",
       "2018-01-22    0.772727\n",
       "2018-01-23    0.714286\n",
       "2018-01-24    0.652174\n",
       "2018-01-25    0.565217\n",
       "2018-01-26    0.800000\n",
       "2018-01-27    0.571429\n",
       "2018-01-28    0.666667\n",
       "2018-01-29    0.750000\n",
       "2018-01-30    0.714286\n",
       "2018-01-31    0.666667\n",
       "Name: user_id, dtype: float64"
      ]
     },
     "execution_count": 39,
     "metadata": {},
     "output_type": "execute_result"
    }
   ],
   "source": [
    "total = df.groupby(\"date_subscribed\")[\"user_id\"].nunique()\n",
    "\n",
    "retained = df[df[\"is_retained\"] == True].groupby(\"date_subscribed\")[\"user_id\"].nunique()\n",
    "\n",
    "daily_retention_rate = retained / total\n",
    "daily_retention_rate"
   ]
  },
  {
   "cell_type": "code",
   "execution_count": 40,
   "id": "04be342f",
   "metadata": {},
   "outputs": [
    {
     "data": {
      "image/png": "[encoded data removed]",
      "text/plain": [
       "<Figure size 1296x504 with 1 Axes>"
      ]
     },
     "metadata": {},
     "output_type": "display_data"
    }
   ],
   "source": [
    "df_daily_retention_rate = pd.DataFrame(daily_retention_rate).reset_index()\n",
    "df_daily_retention_rate.columns = [\"date_subscribed\", \"retention_rate\"] \n",
    "plt.figure(figsize = (18, 7))\n",
    "sns.lineplot(x = \"date_subscribed\", y = \"retention_rate\", data = df_daily_retention_rate, color = \"blue\", linewidth = 3)\n",
    "plt.title(\"Daily Subscribers Quality\", color = \"red\", size = 20)\n",
    "plt.xticks(size = 15)\n",
    "plt.yticks(size = 15)\n",
    "plt.xlabel(\"Days\", color = \"red\", size = 20)\n",
    "plt.ylabel(\"1-Month Retention Rate\", size = 20, color = \"red\")\n",
    "plt.ylim(0)\n",
    "plt.show()"
   ]
  },
  {
   "cell_type": "markdown",
   "id": "eba19586",
   "metadata": {},
   "source": [
    "### Grouping by Multiple Columns"
   ]
  },
  {
   "cell_type": "code",
   "execution_count": 41,
   "id": "def4ed49",
   "metadata": {},
   "outputs": [
    {
     "data": {
      "image/png": "[encoded data removed]",
      "text/plain": [
       "<Figure size 1296x504 with 1 Axes>"
      ]
     },
     "metadata": {},
     "output_type": "display_data"
    }
   ],
   "source": [
    "language = df.groupby([\"date_served\", \"language_preferred\"])[\"user_id\"].agg([\"count\"]).reset_index()\n",
    "plt.figure(figsize = (18, 7))\n",
    "sns.lineplot(x = \"date_served\", y = \"count\", hue = \"language_preferred\", data = language)\n",
    "plt.show()"
   ]
  },
  {
   "cell_type": "code",
   "execution_count": 42,
   "id": "4b60a08a",
   "metadata": {},
   "outputs": [
    {
     "data": {
      "text/html": [
       "<div>\n",
       "<style scoped>\n",
       "    .dataframe tbody tr th:only-of-type {\n",
       "        vertical-align: middle;\n",
       "    }\n",
       "\n",
       "    .dataframe tbody tr th {\n",
       "        vertical-align: top;\n",
       "    }\n",
       "\n",
       "    .dataframe thead th {\n",
       "        text-align: right;\n",
       "    }\n",
       "</style>\n",
       "<table border=\"1\" class=\"dataframe\">\n",
       "  <thead>\n",
       "    <tr style=\"text-align: right;\">\n",
       "      <th>language_preferred</th>\n",
       "      <th>Arabic</th>\n",
       "      <th>English</th>\n",
       "      <th>German</th>\n",
       "      <th>Spanish</th>\n",
       "      <th>Total</th>\n",
       "    </tr>\n",
       "    <tr>\n",
       "      <th>date_served</th>\n",
       "      <th></th>\n",
       "      <th></th>\n",
       "      <th></th>\n",
       "      <th></th>\n",
       "      <th></th>\n",
       "    </tr>\n",
       "  </thead>\n",
       "  <tbody>\n",
       "    <tr>\n",
       "      <th>2018-01-01</th>\n",
       "      <td>4.0</td>\n",
       "      <td>355.0</td>\n",
       "      <td>5.0</td>\n",
       "      <td>11.0</td>\n",
       "      <td>375.0</td>\n",
       "    </tr>\n",
       "    <tr>\n",
       "      <th>2018-01-02</th>\n",
       "      <td>4.0</td>\n",
       "      <td>397.0</td>\n",
       "      <td>6.0</td>\n",
       "      <td>10.0</td>\n",
       "      <td>417.0</td>\n",
       "    </tr>\n",
       "    <tr>\n",
       "      <th>2018-01-03</th>\n",
       "      <td>3.0</td>\n",
       "      <td>374.0</td>\n",
       "      <td>3.0</td>\n",
       "      <td>8.0</td>\n",
       "      <td>388.0</td>\n",
       "    </tr>\n",
       "    <tr>\n",
       "      <th>2018-01-04</th>\n",
       "      <td>2.0</td>\n",
       "      <td>318.0</td>\n",
       "      <td>2.0</td>\n",
       "      <td>14.0</td>\n",
       "      <td>336.0</td>\n",
       "    </tr>\n",
       "    <tr>\n",
       "      <th>2018-01-05</th>\n",
       "      <td>1.0</td>\n",
       "      <td>314.0</td>\n",
       "      <td>2.0</td>\n",
       "      <td>14.0</td>\n",
       "      <td>331.0</td>\n",
       "    </tr>\n",
       "    <tr>\n",
       "      <th>2018-01-06</th>\n",
       "      <td>3.0</td>\n",
       "      <td>298.0</td>\n",
       "      <td>3.0</td>\n",
       "      <td>11.0</td>\n",
       "      <td>315.0</td>\n",
       "    </tr>\n",
       "    <tr>\n",
       "      <th>2018-01-07</th>\n",
       "      <td>2.0</td>\n",
       "      <td>267.0</td>\n",
       "      <td>2.0</td>\n",
       "      <td>10.0</td>\n",
       "      <td>281.0</td>\n",
       "    </tr>\n",
       "    <tr>\n",
       "      <th>2018-01-08</th>\n",
       "      <td>NaN</td>\n",
       "      <td>303.0</td>\n",
       "      <td>6.0</td>\n",
       "      <td>10.0</td>\n",
       "      <td>319.0</td>\n",
       "    </tr>\n",
       "    <tr>\n",
       "      <th>2018-01-09</th>\n",
       "      <td>NaN</td>\n",
       "      <td>305.0</td>\n",
       "      <td>NaN</td>\n",
       "      <td>10.0</td>\n",
       "      <td>315.0</td>\n",
       "    </tr>\n",
       "    <tr>\n",
       "      <th>2018-01-10</th>\n",
       "      <td>1.0</td>\n",
       "      <td>315.0</td>\n",
       "      <td>5.0</td>\n",
       "      <td>21.0</td>\n",
       "      <td>342.0</td>\n",
       "    </tr>\n",
       "    <tr>\n",
       "      <th>2018-01-11</th>\n",
       "      <td>9.0</td>\n",
       "      <td>287.0</td>\n",
       "      <td>2.0</td>\n",
       "      <td>16.0</td>\n",
       "      <td>314.0</td>\n",
       "    </tr>\n",
       "    <tr>\n",
       "      <th>2018-01-12</th>\n",
       "      <td>4.0</td>\n",
       "      <td>287.0</td>\n",
       "      <td>4.0</td>\n",
       "      <td>11.0</td>\n",
       "      <td>306.0</td>\n",
       "    </tr>\n",
       "    <tr>\n",
       "      <th>2018-01-13</th>\n",
       "      <td>8.0</td>\n",
       "      <td>278.0</td>\n",
       "      <td>5.0</td>\n",
       "      <td>17.0</td>\n",
       "      <td>308.0</td>\n",
       "    </tr>\n",
       "    <tr>\n",
       "      <th>2018-01-14</th>\n",
       "      <td>5.0</td>\n",
       "      <td>289.0</td>\n",
       "      <td>3.0</td>\n",
       "      <td>12.0</td>\n",
       "      <td>309.0</td>\n",
       "    </tr>\n",
       "    <tr>\n",
       "      <th>2018-01-15</th>\n",
       "      <td>6.0</td>\n",
       "      <td>751.0</td>\n",
       "      <td>11.0</td>\n",
       "      <td>21.0</td>\n",
       "      <td>789.0</td>\n",
       "    </tr>\n",
       "    <tr>\n",
       "      <th>2018-01-16</th>\n",
       "      <td>8.0</td>\n",
       "      <td>336.0</td>\n",
       "      <td>28.0</td>\n",
       "      <td>19.0</td>\n",
       "      <td>391.0</td>\n",
       "    </tr>\n",
       "    <tr>\n",
       "      <th>2018-01-17</th>\n",
       "      <td>7.0</td>\n",
       "      <td>328.0</td>\n",
       "      <td>18.0</td>\n",
       "      <td>21.0</td>\n",
       "      <td>374.0</td>\n",
       "    </tr>\n",
       "    <tr>\n",
       "      <th>2018-01-18</th>\n",
       "      <td>9.0</td>\n",
       "      <td>286.0</td>\n",
       "      <td>6.0</td>\n",
       "      <td>19.0</td>\n",
       "      <td>320.0</td>\n",
       "    </tr>\n",
       "    <tr>\n",
       "      <th>2018-01-19</th>\n",
       "      <td>6.0</td>\n",
       "      <td>284.0</td>\n",
       "      <td>5.0</td>\n",
       "      <td>13.0</td>\n",
       "      <td>308.0</td>\n",
       "    </tr>\n",
       "    <tr>\n",
       "      <th>2018-01-20</th>\n",
       "      <td>7.0</td>\n",
       "      <td>291.0</td>\n",
       "      <td>6.0</td>\n",
       "      <td>17.0</td>\n",
       "      <td>321.0</td>\n",
       "    </tr>\n",
       "    <tr>\n",
       "      <th>2018-01-21</th>\n",
       "      <td>3.0</td>\n",
       "      <td>213.0</td>\n",
       "      <td>4.0</td>\n",
       "      <td>14.0</td>\n",
       "      <td>234.0</td>\n",
       "    </tr>\n",
       "    <tr>\n",
       "      <th>2018-01-22</th>\n",
       "      <td>5.0</td>\n",
       "      <td>163.0</td>\n",
       "      <td>4.0</td>\n",
       "      <td>10.0</td>\n",
       "      <td>182.0</td>\n",
       "    </tr>\n",
       "    <tr>\n",
       "      <th>2018-01-23</th>\n",
       "      <td>3.0</td>\n",
       "      <td>158.0</td>\n",
       "      <td>6.0</td>\n",
       "      <td>9.0</td>\n",
       "      <td>176.0</td>\n",
       "    </tr>\n",
       "    <tr>\n",
       "      <th>2018-01-24</th>\n",
       "      <td>2.0</td>\n",
       "      <td>178.0</td>\n",
       "      <td>4.0</td>\n",
       "      <td>9.0</td>\n",
       "      <td>193.0</td>\n",
       "    </tr>\n",
       "    <tr>\n",
       "      <th>2018-01-25</th>\n",
       "      <td>5.0</td>\n",
       "      <td>164.0</td>\n",
       "      <td>5.0</td>\n",
       "      <td>12.0</td>\n",
       "      <td>186.0</td>\n",
       "    </tr>\n",
       "    <tr>\n",
       "      <th>2018-01-26</th>\n",
       "      <td>8.0</td>\n",
       "      <td>193.0</td>\n",
       "      <td>3.0</td>\n",
       "      <td>21.0</td>\n",
       "      <td>225.0</td>\n",
       "    </tr>\n",
       "    <tr>\n",
       "      <th>2018-01-27</th>\n",
       "      <td>3.0</td>\n",
       "      <td>311.0</td>\n",
       "      <td>3.0</td>\n",
       "      <td>14.0</td>\n",
       "      <td>331.0</td>\n",
       "    </tr>\n",
       "    <tr>\n",
       "      <th>2018-01-28</th>\n",
       "      <td>6.0</td>\n",
       "      <td>298.0</td>\n",
       "      <td>4.0</td>\n",
       "      <td>22.0</td>\n",
       "      <td>330.0</td>\n",
       "    </tr>\n",
       "    <tr>\n",
       "      <th>2018-01-29</th>\n",
       "      <td>7.0</td>\n",
       "      <td>299.0</td>\n",
       "      <td>4.0</td>\n",
       "      <td>18.0</td>\n",
       "      <td>328.0</td>\n",
       "    </tr>\n",
       "    <tr>\n",
       "      <th>2018-01-30</th>\n",
       "      <td>6.0</td>\n",
       "      <td>302.0</td>\n",
       "      <td>3.0</td>\n",
       "      <td>19.0</td>\n",
       "      <td>330.0</td>\n",
       "    </tr>\n",
       "    <tr>\n",
       "      <th>2018-01-31</th>\n",
       "      <td>8.0</td>\n",
       "      <td>317.0</td>\n",
       "      <td>5.0</td>\n",
       "      <td>17.0</td>\n",
       "      <td>347.0</td>\n",
       "    </tr>\n",
       "  </tbody>\n",
       "</table>\n",
       "</div>"
      ],
      "text/plain": [
       "language_preferred  Arabic  English  German  Spanish  Total\n",
       "date_served                                                \n",
       "2018-01-01             4.0    355.0     5.0     11.0  375.0\n",
       "2018-01-02             4.0    397.0     6.0     10.0  417.0\n",
       "2018-01-03             3.0    374.0     3.0      8.0  388.0\n",
       "2018-01-04             2.0    318.0     2.0     14.0  336.0\n",
       "2018-01-05             1.0    314.0     2.0     14.0  331.0\n",
       "2018-01-06             3.0    298.0     3.0     11.0  315.0\n",
       "2018-01-07             2.0    267.0     2.0     10.0  281.0\n",
       "2018-01-08             NaN    303.0     6.0     10.0  319.0\n",
       "2018-01-09             NaN    305.0     NaN     10.0  315.0\n",
       "2018-01-10             1.0    315.0     5.0     21.0  342.0\n",
       "2018-01-11             9.0    287.0     2.0     16.0  314.0\n",
       "2018-01-12             4.0    287.0     4.0     11.0  306.0\n",
       "2018-01-13             8.0    278.0     5.0     17.0  308.0\n",
       "2018-01-14             5.0    289.0     3.0     12.0  309.0\n",
       "2018-01-15             6.0    751.0    11.0     21.0  789.0\n",
       "2018-01-16             8.0    336.0    28.0     19.0  391.0\n",
       "2018-01-17             7.0    328.0    18.0     21.0  374.0\n",
       "2018-01-18             9.0    286.0     6.0     19.0  320.0\n",
       "2018-01-19             6.0    284.0     5.0     13.0  308.0\n",
       "2018-01-20             7.0    291.0     6.0     17.0  321.0\n",
       "2018-01-21             3.0    213.0     4.0     14.0  234.0\n",
       "2018-01-22             5.0    163.0     4.0     10.0  182.0\n",
       "2018-01-23             3.0    158.0     6.0      9.0  176.0\n",
       "2018-01-24             2.0    178.0     4.0      9.0  193.0\n",
       "2018-01-25             5.0    164.0     5.0     12.0  186.0\n",
       "2018-01-26             8.0    193.0     3.0     21.0  225.0\n",
       "2018-01-27             3.0    311.0     3.0     14.0  331.0\n",
       "2018-01-28             6.0    298.0     4.0     22.0  330.0\n",
       "2018-01-29             7.0    299.0     4.0     18.0  328.0\n",
       "2018-01-30             6.0    302.0     3.0     19.0  330.0\n",
       "2018-01-31             8.0    317.0     5.0     17.0  347.0"
      ]
     },
     "execution_count": 42,
     "metadata": {},
     "output_type": "execute_result"
    }
   ],
   "source": [
    "pivot_language = pd.pivot_table(language, index = \"date_served\", columns = \"language_preferred\", values = \"count\")\n",
    "pivot_language[\"Total\"] = pivot_language.sum(axis = 1)\n",
    "pivot_language"
   ]
  },
  {
   "cell_type": "markdown",
   "id": "e6424a40",
   "metadata": {},
   "source": [
    "### Marketing Channel reach to people by age group"
   ]
  },
  {
   "cell_type": "code",
   "execution_count": 43,
   "id": "7c94fbf7",
   "metadata": {},
   "outputs": [
    {
     "data": {
      "image/png": "[encoded data removed]",
      "text/plain": [
       "<Figure size 1296x504 with 1 Axes>"
      ]
     },
     "metadata": {},
     "output_type": "display_data"
    }
   ],
   "source": [
    "mpa = df.groupby([\"marketing_channel\", \"age_group\"])[\"user_id\"].nunique().to_frame().reset_index()\n",
    "plt.figure(figsize = (18, 7))\n",
    "sns.barplot(x = \"marketing_channel\", y = \"user_id\", hue = \"age_group\", data = mpa)\n",
    "plt.show()"
   ]
  },
  {
   "cell_type": "markdown",
   "id": "4e284ad3",
   "metadata": {},
   "source": [
    "**Count the subs by subscribing channel and date subscribed**"
   ]
  },
  {
   "cell_type": "code",
   "execution_count": 44,
   "id": "b680ef3f",
   "metadata": {},
   "outputs": [
    {
     "data": {
      "text/html": [
       "<div>\n",
       "<style scoped>\n",
       "    .dataframe tbody tr th:only-of-type {\n",
       "        vertical-align: middle;\n",
       "    }\n",
       "\n",
       "    .dataframe tbody tr th {\n",
       "        vertical-align: top;\n",
       "    }\n",
       "\n",
       "    .dataframe thead th {\n",
       "        text-align: right;\n",
       "    }\n",
       "</style>\n",
       "<table border=\"1\" class=\"dataframe\">\n",
       "  <thead>\n",
       "    <tr style=\"text-align: right;\">\n",
       "      <th>subscribing_channel</th>\n",
       "      <th>Email</th>\n",
       "      <th>Facebook</th>\n",
       "      <th>House Ads</th>\n",
       "      <th>Instagram</th>\n",
       "      <th>Push</th>\n",
       "    </tr>\n",
       "    <tr>\n",
       "      <th>date_subscribed</th>\n",
       "      <th></th>\n",
       "      <th></th>\n",
       "      <th></th>\n",
       "      <th></th>\n",
       "      <th></th>\n",
       "    </tr>\n",
       "  </thead>\n",
       "  <tbody>\n",
       "    <tr>\n",
       "      <th>2018-01-01</th>\n",
       "      <td>100.00</td>\n",
       "      <td>87.50</td>\n",
       "      <td>68.75</td>\n",
       "      <td>75.00</td>\n",
       "      <td>100.00</td>\n",
       "    </tr>\n",
       "    <tr>\n",
       "      <th>2018-01-02</th>\n",
       "      <td>75.00</td>\n",
       "      <td>100.00</td>\n",
       "      <td>58.82</td>\n",
       "      <td>62.50</td>\n",
       "      <td>100.00</td>\n",
       "    </tr>\n",
       "    <tr>\n",
       "      <th>2018-01-03</th>\n",
       "      <td>NaN</td>\n",
       "      <td>80.00</td>\n",
       "      <td>64.71</td>\n",
       "      <td>90.91</td>\n",
       "      <td>66.67</td>\n",
       "    </tr>\n",
       "    <tr>\n",
       "      <th>2018-01-04</th>\n",
       "      <td>50.00</td>\n",
       "      <td>66.67</td>\n",
       "      <td>46.67</td>\n",
       "      <td>50.00</td>\n",
       "      <td>NaN</td>\n",
       "    </tr>\n",
       "    <tr>\n",
       "      <th>2018-01-05</th>\n",
       "      <td>100.00</td>\n",
       "      <td>57.14</td>\n",
       "      <td>50.00</td>\n",
       "      <td>63.64</td>\n",
       "      <td>100.00</td>\n",
       "    </tr>\n",
       "    <tr>\n",
       "      <th>2018-01-06</th>\n",
       "      <td>80.00</td>\n",
       "      <td>57.14</td>\n",
       "      <td>94.12</td>\n",
       "      <td>50.00</td>\n",
       "      <td>50.00</td>\n",
       "    </tr>\n",
       "    <tr>\n",
       "      <th>2018-01-07</th>\n",
       "      <td>50.00</td>\n",
       "      <td>75.00</td>\n",
       "      <td>52.63</td>\n",
       "      <td>40.00</td>\n",
       "      <td>66.67</td>\n",
       "    </tr>\n",
       "    <tr>\n",
       "      <th>2018-01-08</th>\n",
       "      <td>NaN</td>\n",
       "      <td>88.89</td>\n",
       "      <td>50.00</td>\n",
       "      <td>62.50</td>\n",
       "      <td>100.00</td>\n",
       "    </tr>\n",
       "    <tr>\n",
       "      <th>2018-01-09</th>\n",
       "      <td>50.00</td>\n",
       "      <td>28.57</td>\n",
       "      <td>85.00</td>\n",
       "      <td>66.67</td>\n",
       "      <td>50.00</td>\n",
       "    </tr>\n",
       "    <tr>\n",
       "      <th>2018-01-10</th>\n",
       "      <td>100.00</td>\n",
       "      <td>71.43</td>\n",
       "      <td>66.67</td>\n",
       "      <td>55.56</td>\n",
       "      <td>100.00</td>\n",
       "    </tr>\n",
       "    <tr>\n",
       "      <th>2018-01-11</th>\n",
       "      <td>33.33</td>\n",
       "      <td>57.14</td>\n",
       "      <td>16.67</td>\n",
       "      <td>100.00</td>\n",
       "      <td>100.00</td>\n",
       "    </tr>\n",
       "    <tr>\n",
       "      <th>2018-01-12</th>\n",
       "      <td>NaN</td>\n",
       "      <td>57.14</td>\n",
       "      <td>NaN</td>\n",
       "      <td>50.00</td>\n",
       "      <td>33.33</td>\n",
       "    </tr>\n",
       "    <tr>\n",
       "      <th>2018-01-13</th>\n",
       "      <td>33.33</td>\n",
       "      <td>66.67</td>\n",
       "      <td>16.67</td>\n",
       "      <td>66.67</td>\n",
       "      <td>50.00</td>\n",
       "    </tr>\n",
       "    <tr>\n",
       "      <th>2018-01-14</th>\n",
       "      <td>100.00</td>\n",
       "      <td>66.67</td>\n",
       "      <td>16.67</td>\n",
       "      <td>90.91</td>\n",
       "      <td>NaN</td>\n",
       "    </tr>\n",
       "    <tr>\n",
       "      <th>2018-01-15</th>\n",
       "      <td>80.43</td>\n",
       "      <td>37.50</td>\n",
       "      <td>16.67</td>\n",
       "      <td>87.50</td>\n",
       "      <td>100.00</td>\n",
       "    </tr>\n",
       "    <tr>\n",
       "      <th>2018-01-16</th>\n",
       "      <td>94.34</td>\n",
       "      <td>58.82</td>\n",
       "      <td>16.67</td>\n",
       "      <td>29.41</td>\n",
       "      <td>63.64</td>\n",
       "    </tr>\n",
       "    <tr>\n",
       "      <th>2018-01-17</th>\n",
       "      <td>43.24</td>\n",
       "      <td>64.29</td>\n",
       "      <td>33.33</td>\n",
       "      <td>89.47</td>\n",
       "      <td>90.00</td>\n",
       "    </tr>\n",
       "    <tr>\n",
       "      <th>2018-01-18</th>\n",
       "      <td>100.00</td>\n",
       "      <td>66.67</td>\n",
       "      <td>50.00</td>\n",
       "      <td>90.00</td>\n",
       "      <td>NaN</td>\n",
       "    </tr>\n",
       "    <tr>\n",
       "      <th>2018-01-19</th>\n",
       "      <td>100.00</td>\n",
       "      <td>60.00</td>\n",
       "      <td>60.00</td>\n",
       "      <td>66.67</td>\n",
       "      <td>100.00</td>\n",
       "    </tr>\n",
       "    <tr>\n",
       "      <th>2018-01-20</th>\n",
       "      <td>100.00</td>\n",
       "      <td>66.67</td>\n",
       "      <td>83.33</td>\n",
       "      <td>80.00</td>\n",
       "      <td>100.00</td>\n",
       "    </tr>\n",
       "    <tr>\n",
       "      <th>2018-01-21</th>\n",
       "      <td>100.00</td>\n",
       "      <td>71.43</td>\n",
       "      <td>60.00</td>\n",
       "      <td>80.00</td>\n",
       "      <td>100.00</td>\n",
       "    </tr>\n",
       "    <tr>\n",
       "      <th>2018-01-22</th>\n",
       "      <td>100.00</td>\n",
       "      <td>83.33</td>\n",
       "      <td>66.67</td>\n",
       "      <td>75.00</td>\n",
       "      <td>100.00</td>\n",
       "    </tr>\n",
       "    <tr>\n",
       "      <th>2018-01-23</th>\n",
       "      <td>100.00</td>\n",
       "      <td>83.33</td>\n",
       "      <td>60.00</td>\n",
       "      <td>50.00</td>\n",
       "      <td>100.00</td>\n",
       "    </tr>\n",
       "    <tr>\n",
       "      <th>2018-01-24</th>\n",
       "      <td>50.00</td>\n",
       "      <td>57.14</td>\n",
       "      <td>66.67</td>\n",
       "      <td>66.67</td>\n",
       "      <td>100.00</td>\n",
       "    </tr>\n",
       "    <tr>\n",
       "      <th>2018-01-25</th>\n",
       "      <td>50.00</td>\n",
       "      <td>80.00</td>\n",
       "      <td>83.33</td>\n",
       "      <td>37.50</td>\n",
       "      <td>NaN</td>\n",
       "    </tr>\n",
       "    <tr>\n",
       "      <th>2018-01-26</th>\n",
       "      <td>50.00</td>\n",
       "      <td>83.33</td>\n",
       "      <td>83.33</td>\n",
       "      <td>80.00</td>\n",
       "      <td>100.00</td>\n",
       "    </tr>\n",
       "    <tr>\n",
       "      <th>2018-01-27</th>\n",
       "      <td>NaN</td>\n",
       "      <td>66.67</td>\n",
       "      <td>83.33</td>\n",
       "      <td>40.00</td>\n",
       "      <td>33.33</td>\n",
       "    </tr>\n",
       "    <tr>\n",
       "      <th>2018-01-28</th>\n",
       "      <td>33.33</td>\n",
       "      <td>75.00</td>\n",
       "      <td>66.67</td>\n",
       "      <td>66.67</td>\n",
       "      <td>100.00</td>\n",
       "    </tr>\n",
       "    <tr>\n",
       "      <th>2018-01-29</th>\n",
       "      <td>100.00</td>\n",
       "      <td>100.00</td>\n",
       "      <td>40.00</td>\n",
       "      <td>83.33</td>\n",
       "      <td>50.00</td>\n",
       "    </tr>\n",
       "    <tr>\n",
       "      <th>2018-01-30</th>\n",
       "      <td>66.67</td>\n",
       "      <td>85.71</td>\n",
       "      <td>50.00</td>\n",
       "      <td>100.00</td>\n",
       "      <td>50.00</td>\n",
       "    </tr>\n",
       "    <tr>\n",
       "      <th>2018-01-31</th>\n",
       "      <td>100.00</td>\n",
       "      <td>83.33</td>\n",
       "      <td>50.00</td>\n",
       "      <td>66.67</td>\n",
       "      <td>50.00</td>\n",
       "    </tr>\n",
       "  </tbody>\n",
       "</table>\n",
       "</div>"
      ],
      "text/plain": [
       "subscribing_channel   Email  Facebook  House Ads  Instagram    Push\n",
       "date_subscribed                                                    \n",
       "2018-01-01           100.00     87.50      68.75      75.00  100.00\n",
       "2018-01-02            75.00    100.00      58.82      62.50  100.00\n",
       "2018-01-03              NaN     80.00      64.71      90.91   66.67\n",
       "2018-01-04            50.00     66.67      46.67      50.00     NaN\n",
       "2018-01-05           100.00     57.14      50.00      63.64  100.00\n",
       "2018-01-06            80.00     57.14      94.12      50.00   50.00\n",
       "2018-01-07            50.00     75.00      52.63      40.00   66.67\n",
       "2018-01-08              NaN     88.89      50.00      62.50  100.00\n",
       "2018-01-09            50.00     28.57      85.00      66.67   50.00\n",
       "2018-01-10           100.00     71.43      66.67      55.56  100.00\n",
       "2018-01-11            33.33     57.14      16.67     100.00  100.00\n",
       "2018-01-12              NaN     57.14        NaN      50.00   33.33\n",
       "2018-01-13            33.33     66.67      16.67      66.67   50.00\n",
       "2018-01-14           100.00     66.67      16.67      90.91     NaN\n",
       "2018-01-15            80.43     37.50      16.67      87.50  100.00\n",
       "2018-01-16            94.34     58.82      16.67      29.41   63.64\n",
       "2018-01-17            43.24     64.29      33.33      89.47   90.00\n",
       "2018-01-18           100.00     66.67      50.00      90.00     NaN\n",
       "2018-01-19           100.00     60.00      60.00      66.67  100.00\n",
       "2018-01-20           100.00     66.67      83.33      80.00  100.00\n",
       "2018-01-21           100.00     71.43      60.00      80.00  100.00\n",
       "2018-01-22           100.00     83.33      66.67      75.00  100.00\n",
       "2018-01-23           100.00     83.33      60.00      50.00  100.00\n",
       "2018-01-24            50.00     57.14      66.67      66.67  100.00\n",
       "2018-01-25            50.00     80.00      83.33      37.50     NaN\n",
       "2018-01-26            50.00     83.33      83.33      80.00  100.00\n",
       "2018-01-27              NaN     66.67      83.33      40.00   33.33\n",
       "2018-01-28            33.33     75.00      66.67      66.67  100.00\n",
       "2018-01-29           100.00    100.00      40.00      83.33   50.00\n",
       "2018-01-30            66.67     85.71      50.00     100.00   50.00\n",
       "2018-01-31           100.00     83.33      50.00      66.67   50.00"
      ]
     },
     "execution_count": 44,
     "metadata": {},
     "output_type": "execute_result"
    }
   ],
   "source": [
    "retention_total = df.groupby([\"date_subscribed\", \"subscribing_channel\"])[\"user_id\"].nunique()\n",
    "\n",
    "retained = df[df[\"is_retained\"] == True].groupby([\"date_subscribed\", \"subscribing_channel\"])[\"user_id\"].nunique()\n",
    "\n",
    "retention_rate = ((retained / retention_total) * 100).round(2)\n",
    "\n",
    "df_retention_rate = retention_rate.to_frame().reset_index()\n",
    "pd.pivot_table(df_retention_rate, index = \"date_subscribed\", columns = \"subscribing_channel\", values = \"user_id\")"
   ]
  },
  {
   "cell_type": "code",
   "execution_count": 45,
   "id": "9abe6bce",
   "metadata": {},
   "outputs": [
    {
     "data": {
      "image/png": "[encoded data removed]",
      "text/plain": [
       "<Figure size 1296x504 with 1 Axes>"
      ]
     },
     "metadata": {},
     "output_type": "display_data"
    }
   ],
   "source": [
    "plt.figure(figsize = (18, 7))\n",
    "sns.lineplot(x = \"date_subscribed\", y = \"user_id\", hue = \"subscribing_channel\", data = df_retention_rate)\n",
    "plt.ylim(0)\n",
    "plt.show()"
   ]
  },
  {
   "cell_type": "markdown",
   "id": "8e04577d",
   "metadata": {},
   "source": [
    "### Marketing Channel Conversion Rates"
   ]
  },
  {
   "cell_type": "code",
   "execution_count": 46,
   "id": "41b46f5b",
   "metadata": {},
   "outputs": [],
   "source": [
    "people = df.groupby([\"date_served\", \"marketing_channel\"])[\"user_id\"].nunique()\n",
    "\n",
    "converted_people = df[df[\"converted\"] == True].groupby([\"date_served\", \"marketing_channel\"])[\"user_id\"].nunique()\n",
    "\n",
    "conversion_rate = converted_people / people\n",
    "df_conversion_rate = conversion_rate.to_frame().reset_index()\n",
    "df_conversion_rate.columns = [\"date_served\", \"marketing_channel\", \"users\"]"
   ]
  },
  {
   "cell_type": "markdown",
   "id": "c02f52f8",
   "metadata": {},
   "source": [
    "**Conversion Rate by Email**"
   ]
  },
  {
   "cell_type": "code",
   "execution_count": 47,
   "id": "efb53598",
   "metadata": {},
   "outputs": [
    {
     "data": {
      "image/png": "[encoded data removed]",
      "text/plain": [
       "<Figure size 1296x504 with 1 Axes>"
      ]
     },
     "metadata": {},
     "output_type": "display_data"
    }
   ],
   "source": [
    "email_df_conversion_rate = df_conversion_rate[df_conversion_rate[\"marketing_channel\"] == \"Email\"]\n",
    "plt.figure(figsize = (18, 7))\n",
    "sns.lineplot(x = \"date_served\", y = \"users\", data = email_df_conversion_rate, color = \"blue\")\n",
    "plt.title(\"Conversion Rate by Emails\", color = \"red\", size = 20)\n",
    "plt.xticks(size = 15)\n",
    "plt.yticks(size = 15)\n",
    "plt.xlabel(\"Date Served\", size = 20, color = \"red\")\n",
    "plt.ylabel(\"Conversion Rate\", size = 20, color = \"red\")\n",
    "plt.ylim(0)\n",
    "plt.show()"
   ]
  },
  {
   "cell_type": "markdown",
   "id": "80e1f9e0",
   "metadata": {},
   "source": [
    "**Conversion Rate by Facebook**"
   ]
  },
  {
   "cell_type": "code",
   "execution_count": 48,
   "id": "572fec4e",
   "metadata": {},
   "outputs": [
    {
     "data": {
      "image/png": "[encoded data removed]",
      "text/plain": [
       "<Figure size 1296x504 with 1 Axes>"
      ]
     },
     "metadata": {},
     "output_type": "display_data"
    }
   ],
   "source": [
    "email_df_conversion_rate = df_conversion_rate[df_conversion_rate[\"marketing_channel\"] == \"Facebook\"]\n",
    "plt.figure(figsize = (18, 7))\n",
    "sns.lineplot(x = \"date_served\", y = \"users\", data = email_df_conversion_rate, color = \"blue\")\n",
    "plt.title(\"Conversion Rate by Facebook\", color = \"red\", size = 20)\n",
    "plt.xticks(size = 15)\n",
    "plt.yticks(size = 15)\n",
    "plt.xlabel(\"Date Served\", size = 20, color = \"red\")\n",
    "plt.ylabel(\"Conversion Rate\", size = 20, color = \"red\")\n",
    "plt.ylim(0)\n",
    "plt.show()"
   ]
  },
  {
   "cell_type": "markdown",
   "id": "e22b81d0",
   "metadata": {},
   "source": [
    "**Conversion Rate by House Ads**"
   ]
  },
  {
   "cell_type": "code",
   "execution_count": 49,
   "id": "b24707ae",
   "metadata": {},
   "outputs": [
    {
     "data": {
      "image/png": "[encoded data removed]",
      "text/plain": [
       "<Figure size 1296x504 with 1 Axes>"
      ]
     },
     "metadata": {},
     "output_type": "display_data"
    }
   ],
   "source": [
    "house_ads_df_conversion_rate = df_conversion_rate[df_conversion_rate[\"marketing_channel\"] == \"House Ads\"]\n",
    "plt.figure(figsize = (18, 7))\n",
    "sns.lineplot(x = \"date_served\", y = \"users\", data = house_ads_df_conversion_rate, color = \"blue\")\n",
    "plt.title(\"Conversion Rate by House Ads\", color = \"red\", size = 20)\n",
    "plt.xticks(size = 15)\n",
    "plt.yticks(size = 15)\n",
    "plt.xlabel(\"Date Served\", size = 20, color = \"red\")\n",
    "plt.ylabel(\"Conversion Rate\", size = 20, color = \"red\")\n",
    "plt.ylim(0)\n",
    "plt.show()"
   ]
  },
  {
   "cell_type": "markdown",
   "id": "15bc2ff2",
   "metadata": {},
   "source": [
    "**Conversion Rate by Instagram**"
   ]
  },
  {
   "cell_type": "code",
   "execution_count": 50,
   "id": "4936334a",
   "metadata": {},
   "outputs": [
    {
     "data": {
      "image/png": "[encoded data removed]",
      "text/plain": [
       "<Figure size 1296x504 with 1 Axes>"
      ]
     },
     "metadata": {},
     "output_type": "display_data"
    }
   ],
   "source": [
    "instagram_df_conversion_rate = df_conversion_rate[df_conversion_rate[\"marketing_channel\"] == \"Instagram\"]\n",
    "plt.figure(figsize = (18, 7))\n",
    "sns.lineplot(x = \"date_served\", y = \"users\", data = instagram_df_conversion_rate, color = \"blue\")\n",
    "plt.title(\"Conversion Rate by Instagram\", color = \"red\", size = 20)\n",
    "plt.xticks(size = 15)\n",
    "plt.yticks(size = 15)\n",
    "plt.xlabel(\"Date Served\", size = 20, color = \"red\")\n",
    "plt.ylabel(\"Conversion Rate\", size = 20, color = \"red\")\n",
    "plt.ylim(0)\n",
    "plt.show()"
   ]
  },
  {
   "cell_type": "markdown",
   "id": "2c085ce4",
   "metadata": {},
   "source": [
    "**Conversion Rate by Push**"
   ]
  },
  {
   "cell_type": "code",
   "execution_count": 51,
   "id": "cdfdc719",
   "metadata": {},
   "outputs": [
    {
     "data": {
      "image/png": "[encoded data removed]",
      "text/plain": [
       "<Figure size 1296x504 with 1 Axes>"
      ]
     },
     "metadata": {},
     "output_type": "display_data"
    }
   ],
   "source": [
    "push_df_conversion_rate = df_conversion_rate[df_conversion_rate[\"marketing_channel\"] == \"Push\"]\n",
    "plt.figure(figsize = (18, 7))\n",
    "sns.lineplot(x = \"date_served\", y = \"users\", data = push_df_conversion_rate, color = \"blue\")\n",
    "plt.title(\"Conversion Rate by Push\", color = \"red\", size = 20)\n",
    "plt.xticks(size = 15)\n",
    "plt.yticks(size = 15)\n",
    "plt.xlabel(\"Date Served\", size = 20, color = \"red\")\n",
    "plt.ylabel(\"Conversion Rate\", size = 20, color = \"red\")\n",
    "plt.ylim(0)\n",
    "plt.show()"
   ]
  },
  {
   "cell_type": "markdown",
   "id": "2d5bccc3",
   "metadata": {},
   "source": [
    "### Conversion Rate by Days of Week"
   ]
  },
  {
   "cell_type": "code",
   "execution_count": 52,
   "id": "410504ab",
   "metadata": {},
   "outputs": [
    {
     "data": {
      "text/html": [
       "<div>\n",
       "<style scoped>\n",
       "    .dataframe tbody tr th:only-of-type {\n",
       "        vertical-align: middle;\n",
       "    }\n",
       "\n",
       "    .dataframe tbody tr th {\n",
       "        vertical-align: top;\n",
       "    }\n",
       "\n",
       "    .dataframe thead th {\n",
       "        text-align: right;\n",
       "    }\n",
       "</style>\n",
       "<table border=\"1\" class=\"dataframe\">\n",
       "  <thead>\n",
       "    <tr style=\"text-align: right;\">\n",
       "      <th></th>\n",
       "      <th>user_id</th>\n",
       "      <th>date_served</th>\n",
       "      <th>marketing_channel</th>\n",
       "      <th>variant</th>\n",
       "      <th>converted</th>\n",
       "      <th>language_displayed</th>\n",
       "      <th>language_preferred</th>\n",
       "      <th>age_group</th>\n",
       "      <th>date_subscribed</th>\n",
       "      <th>date_canceled</th>\n",
       "      <th>subscribing_channel</th>\n",
       "      <th>is_retained</th>\n",
       "      <th>is_house_ads</th>\n",
       "      <th>is_correct_language</th>\n",
       "      <th>day_served</th>\n",
       "      <th>Day</th>\n",
       "    </tr>\n",
       "  </thead>\n",
       "  <tbody>\n",
       "    <tr>\n",
       "      <th>0</th>\n",
       "      <td>a100000029</td>\n",
       "      <td>2018-01-01</td>\n",
       "      <td>House Ads</td>\n",
       "      <td>personalization</td>\n",
       "      <td>True</td>\n",
       "      <td>English</td>\n",
       "      <td>English</td>\n",
       "      <td>0-18 years</td>\n",
       "      <td>2018-01-01</td>\n",
       "      <td>NaT</td>\n",
       "      <td>House Ads</td>\n",
       "      <td>True</td>\n",
       "      <td>True</td>\n",
       "      <td>Yes</td>\n",
       "      <td>0.0</td>\n",
       "      <td>0.0</td>\n",
       "    </tr>\n",
       "    <tr>\n",
       "      <th>1</th>\n",
       "      <td>a100000030</td>\n",
       "      <td>2018-01-01</td>\n",
       "      <td>House Ads</td>\n",
       "      <td>personalization</td>\n",
       "      <td>True</td>\n",
       "      <td>English</td>\n",
       "      <td>English</td>\n",
       "      <td>19-24 years</td>\n",
       "      <td>2018-01-01</td>\n",
       "      <td>NaT</td>\n",
       "      <td>House Ads</td>\n",
       "      <td>True</td>\n",
       "      <td>True</td>\n",
       "      <td>Yes</td>\n",
       "      <td>0.0</td>\n",
       "      <td>0.0</td>\n",
       "    </tr>\n",
       "    <tr>\n",
       "      <th>2</th>\n",
       "      <td>a100000031</td>\n",
       "      <td>2018-01-01</td>\n",
       "      <td>House Ads</td>\n",
       "      <td>personalization</td>\n",
       "      <td>True</td>\n",
       "      <td>English</td>\n",
       "      <td>English</td>\n",
       "      <td>24-30 years</td>\n",
       "      <td>2018-01-01</td>\n",
       "      <td>NaT</td>\n",
       "      <td>House Ads</td>\n",
       "      <td>True</td>\n",
       "      <td>True</td>\n",
       "      <td>Yes</td>\n",
       "      <td>0.0</td>\n",
       "      <td>0.0</td>\n",
       "    </tr>\n",
       "    <tr>\n",
       "      <th>3</th>\n",
       "      <td>a100000032</td>\n",
       "      <td>2018-01-01</td>\n",
       "      <td>House Ads</td>\n",
       "      <td>personalization</td>\n",
       "      <td>True</td>\n",
       "      <td>English</td>\n",
       "      <td>English</td>\n",
       "      <td>30-36 years</td>\n",
       "      <td>2018-01-01</td>\n",
       "      <td>NaT</td>\n",
       "      <td>House Ads</td>\n",
       "      <td>True</td>\n",
       "      <td>True</td>\n",
       "      <td>Yes</td>\n",
       "      <td>0.0</td>\n",
       "      <td>0.0</td>\n",
       "    </tr>\n",
       "    <tr>\n",
       "      <th>4</th>\n",
       "      <td>a100000033</td>\n",
       "      <td>2018-01-01</td>\n",
       "      <td>House Ads</td>\n",
       "      <td>personalization</td>\n",
       "      <td>True</td>\n",
       "      <td>English</td>\n",
       "      <td>English</td>\n",
       "      <td>36-45 years</td>\n",
       "      <td>2018-01-01</td>\n",
       "      <td>NaT</td>\n",
       "      <td>House Ads</td>\n",
       "      <td>True</td>\n",
       "      <td>True</td>\n",
       "      <td>Yes</td>\n",
       "      <td>0.0</td>\n",
       "      <td>0.0</td>\n",
       "    </tr>\n",
       "  </tbody>\n",
       "</table>\n",
       "</div>"
      ],
      "text/plain": [
       "      user_id date_served marketing_channel          variant converted  \\\n",
       "0  a100000029  2018-01-01         House Ads  personalization      True   \n",
       "1  a100000030  2018-01-01         House Ads  personalization      True   \n",
       "2  a100000031  2018-01-01         House Ads  personalization      True   \n",
       "3  a100000032  2018-01-01         House Ads  personalization      True   \n",
       "4  a100000033  2018-01-01         House Ads  personalization      True   \n",
       "\n",
       "  language_displayed language_preferred    age_group date_subscribed  \\\n",
       "0            English            English   0-18 years      2018-01-01   \n",
       "1            English            English  19-24 years      2018-01-01   \n",
       "2            English            English  24-30 years      2018-01-01   \n",
       "3            English            English  30-36 years      2018-01-01   \n",
       "4            English            English  36-45 years      2018-01-01   \n",
       "\n",
       "  date_canceled subscribing_channel is_retained  is_house_ads  \\\n",
       "0           NaT           House Ads        True          True   \n",
       "1           NaT           House Ads        True          True   \n",
       "2           NaT           House Ads        True          True   \n",
       "3           NaT           House Ads        True          True   \n",
       "4           NaT           House Ads        True          True   \n",
       "\n",
       "  is_correct_language  day_served  Day  \n",
       "0                 Yes         0.0  0.0  \n",
       "1                 Yes         0.0  0.0  \n",
       "2                 Yes         0.0  0.0  \n",
       "3                 Yes         0.0  0.0  \n",
       "4                 Yes         0.0  0.0  "
      ]
     },
     "execution_count": 52,
     "metadata": {},
     "output_type": "execute_result"
    }
   ],
   "source": [
    "df[\"Day\"] = df[\"date_served\"].dt.dayofweek\n",
    "df.head()"
   ]
  },
  {
   "cell_type": "code",
   "execution_count": 53,
   "id": "025ba6bd",
   "metadata": {},
   "outputs": [
    {
     "data": {
      "text/html": [
       "<div>\n",
       "<style scoped>\n",
       "    .dataframe tbody tr th:only-of-type {\n",
       "        vertical-align: middle;\n",
       "    }\n",
       "\n",
       "    .dataframe tbody tr th {\n",
       "        vertical-align: top;\n",
       "    }\n",
       "\n",
       "    .dataframe thead th {\n",
       "        text-align: right;\n",
       "    }\n",
       "</style>\n",
       "<table border=\"1\" class=\"dataframe\">\n",
       "  <thead>\n",
       "    <tr style=\"text-align: right;\">\n",
       "      <th></th>\n",
       "      <th>Day</th>\n",
       "      <th>marketing_channel</th>\n",
       "      <th>users</th>\n",
       "    </tr>\n",
       "  </thead>\n",
       "  <tbody>\n",
       "    <tr>\n",
       "      <th>0</th>\n",
       "      <td>0.0</td>\n",
       "      <td>Email</td>\n",
       "      <td>0.162621</td>\n",
       "    </tr>\n",
       "    <tr>\n",
       "      <th>1</th>\n",
       "      <td>0.0</td>\n",
       "      <td>Facebook</td>\n",
       "      <td>0.119601</td>\n",
       "    </tr>\n",
       "    <tr>\n",
       "      <th>2</th>\n",
       "      <td>0.0</td>\n",
       "      <td>House Ads</td>\n",
       "      <td>0.062660</td>\n",
       "    </tr>\n",
       "    <tr>\n",
       "      <th>3</th>\n",
       "      <td>0.0</td>\n",
       "      <td>Instagram</td>\n",
       "      <td>0.122517</td>\n",
       "    </tr>\n",
       "    <tr>\n",
       "      <th>4</th>\n",
       "      <td>0.0</td>\n",
       "      <td>Push</td>\n",
       "      <td>0.064516</td>\n",
       "    </tr>\n",
       "    <tr>\n",
       "      <th>5</th>\n",
       "      <td>1.0</td>\n",
       "      <td>Email</td>\n",
       "      <td>0.906250</td>\n",
       "    </tr>\n",
       "    <tr>\n",
       "      <th>6</th>\n",
       "      <td>1.0</td>\n",
       "      <td>Facebook</td>\n",
       "      <td>0.147887</td>\n",
       "    </tr>\n",
       "    <tr>\n",
       "      <th>7</th>\n",
       "      <td>1.0</td>\n",
       "      <td>House Ads</td>\n",
       "      <td>0.070312</td>\n",
       "    </tr>\n",
       "    <tr>\n",
       "      <th>8</th>\n",
       "      <td>1.0</td>\n",
       "      <td>Instagram</td>\n",
       "      <td>0.151943</td>\n",
       "    </tr>\n",
       "    <tr>\n",
       "      <th>9</th>\n",
       "      <td>1.0</td>\n",
       "      <td>Push</td>\n",
       "      <td>0.115854</td>\n",
       "    </tr>\n",
       "    <tr>\n",
       "      <th>10</th>\n",
       "      <td>2.0</td>\n",
       "      <td>Email</td>\n",
       "      <td>0.837209</td>\n",
       "    </tr>\n",
       "    <tr>\n",
       "      <th>11</th>\n",
       "      <td>2.0</td>\n",
       "      <td>Facebook</td>\n",
       "      <td>0.127036</td>\n",
       "    </tr>\n",
       "    <tr>\n",
       "      <th>12</th>\n",
       "      <td>2.0</td>\n",
       "      <td>House Ads</td>\n",
       "      <td>0.075269</td>\n",
       "    </tr>\n",
       "    <tr>\n",
       "      <th>13</th>\n",
       "      <td>2.0</td>\n",
       "      <td>Instagram</td>\n",
       "      <td>0.150160</td>\n",
       "    </tr>\n",
       "    <tr>\n",
       "      <th>14</th>\n",
       "      <td>2.0</td>\n",
       "      <td>Push</td>\n",
       "      <td>0.105882</td>\n",
       "    </tr>\n",
       "    <tr>\n",
       "      <th>15</th>\n",
       "      <td>3.0</td>\n",
       "      <td>Email</td>\n",
       "      <td>0.727273</td>\n",
       "    </tr>\n",
       "    <tr>\n",
       "      <th>16</th>\n",
       "      <td>3.0</td>\n",
       "      <td>Facebook</td>\n",
       "      <td>0.133333</td>\n",
       "    </tr>\n",
       "    <tr>\n",
       "      <th>17</th>\n",
       "      <td>3.0</td>\n",
       "      <td>House Ads</td>\n",
       "      <td>0.059034</td>\n",
       "    </tr>\n",
       "    <tr>\n",
       "      <th>18</th>\n",
       "      <td>3.0</td>\n",
       "      <td>Instagram</td>\n",
       "      <td>0.143498</td>\n",
       "    </tr>\n",
       "    <tr>\n",
       "      <th>19</th>\n",
       "      <td>3.0</td>\n",
       "      <td>Push</td>\n",
       "      <td>0.067797</td>\n",
       "    </tr>\n",
       "    <tr>\n",
       "      <th>20</th>\n",
       "      <td>4.0</td>\n",
       "      <td>Email</td>\n",
       "      <td>0.666667</td>\n",
       "    </tr>\n",
       "    <tr>\n",
       "      <th>21</th>\n",
       "      <td>4.0</td>\n",
       "      <td>Facebook</td>\n",
       "      <td>0.110132</td>\n",
       "    </tr>\n",
       "    <tr>\n",
       "      <th>22</th>\n",
       "      <td>4.0</td>\n",
       "      <td>House Ads</td>\n",
       "      <td>0.062278</td>\n",
       "    </tr>\n",
       "    <tr>\n",
       "      <th>23</th>\n",
       "      <td>4.0</td>\n",
       "      <td>Instagram</td>\n",
       "      <td>0.129870</td>\n",
       "    </tr>\n",
       "    <tr>\n",
       "      <th>24</th>\n",
       "      <td>4.0</td>\n",
       "      <td>Push</td>\n",
       "      <td>0.055556</td>\n",
       "    </tr>\n",
       "    <tr>\n",
       "      <th>25</th>\n",
       "      <td>5.0</td>\n",
       "      <td>Email</td>\n",
       "      <td>0.818182</td>\n",
       "    </tr>\n",
       "    <tr>\n",
       "      <th>26</th>\n",
       "      <td>5.0</td>\n",
       "      <td>Facebook</td>\n",
       "      <td>0.109375</td>\n",
       "    </tr>\n",
       "    <tr>\n",
       "      <th>27</th>\n",
       "      <td>5.0</td>\n",
       "      <td>House Ads</td>\n",
       "      <td>0.057566</td>\n",
       "    </tr>\n",
       "    <tr>\n",
       "      <th>28</th>\n",
       "      <td>5.0</td>\n",
       "      <td>Instagram</td>\n",
       "      <td>0.088710</td>\n",
       "    </tr>\n",
       "    <tr>\n",
       "      <th>29</th>\n",
       "      <td>5.0</td>\n",
       "      <td>Push</td>\n",
       "      <td>0.069767</td>\n",
       "    </tr>\n",
       "    <tr>\n",
       "      <th>30</th>\n",
       "      <td>6.0</td>\n",
       "      <td>Email</td>\n",
       "      <td>0.750000</td>\n",
       "    </tr>\n",
       "    <tr>\n",
       "      <th>31</th>\n",
       "      <td>6.0</td>\n",
       "      <td>Facebook</td>\n",
       "      <td>0.116071</td>\n",
       "    </tr>\n",
       "    <tr>\n",
       "      <th>32</th>\n",
       "      <td>6.0</td>\n",
       "      <td>House Ads</td>\n",
       "      <td>0.065217</td>\n",
       "    </tr>\n",
       "    <tr>\n",
       "      <th>33</th>\n",
       "      <td>6.0</td>\n",
       "      <td>Instagram</td>\n",
       "      <td>0.127193</td>\n",
       "    </tr>\n",
       "    <tr>\n",
       "      <th>34</th>\n",
       "      <td>6.0</td>\n",
       "      <td>Push</td>\n",
       "      <td>0.065574</td>\n",
       "    </tr>\n",
       "  </tbody>\n",
       "</table>\n",
       "</div>"
      ],
      "text/plain": [
       "    Day marketing_channel     users\n",
       "0   0.0             Email  0.162621\n",
       "1   0.0          Facebook  0.119601\n",
       "2   0.0         House Ads  0.062660\n",
       "3   0.0         Instagram  0.122517\n",
       "4   0.0              Push  0.064516\n",
       "5   1.0             Email  0.906250\n",
       "6   1.0          Facebook  0.147887\n",
       "7   1.0         House Ads  0.070312\n",
       "8   1.0         Instagram  0.151943\n",
       "9   1.0              Push  0.115854\n",
       "10  2.0             Email  0.837209\n",
       "11  2.0          Facebook  0.127036\n",
       "12  2.0         House Ads  0.075269\n",
       "13  2.0         Instagram  0.150160\n",
       "14  2.0              Push  0.105882\n",
       "15  3.0             Email  0.727273\n",
       "16  3.0          Facebook  0.133333\n",
       "17  3.0         House Ads  0.059034\n",
       "18  3.0         Instagram  0.143498\n",
       "19  3.0              Push  0.067797\n",
       "20  4.0             Email  0.666667\n",
       "21  4.0          Facebook  0.110132\n",
       "22  4.0         House Ads  0.062278\n",
       "23  4.0         Instagram  0.129870\n",
       "24  4.0              Push  0.055556\n",
       "25  5.0             Email  0.818182\n",
       "26  5.0          Facebook  0.109375\n",
       "27  5.0         House Ads  0.057566\n",
       "28  5.0         Instagram  0.088710\n",
       "29  5.0              Push  0.069767\n",
       "30  6.0             Email  0.750000\n",
       "31  6.0          Facebook  0.116071\n",
       "32  6.0         House Ads  0.065217\n",
       "33  6.0         Instagram  0.127193\n",
       "34  6.0              Push  0.065574"
      ]
     },
     "execution_count": 53,
     "metadata": {},
     "output_type": "execute_result"
    }
   ],
   "source": [
    "people = df.groupby([\"Day\", \"marketing_channel\"])[\"user_id\"].nunique()\n",
    "\n",
    "converted_people = df[df[\"converted\"] == True].groupby([\"Day\", \"marketing_channel\"])[\"user_id\"].nunique()\n",
    "\n",
    "conversion_rate = converted_people / people\n",
    "\n",
    "df_conversion_rate = conversion_rate.to_frame().reset_index()\n",
    "df_conversion_rate.columns = [\"Day\", \"marketing_channel\", \"users\"]\n",
    "df_conversion_rate"
   ]
  },
  {
   "cell_type": "markdown",
   "id": "d976201f",
   "metadata": {},
   "source": [
    "### House Ads Conversion by Language"
   ]
  },
  {
   "cell_type": "code",
   "execution_count": 54,
   "id": "7ee39fbc",
   "metadata": {},
   "outputs": [
    {
     "data": {
      "text/html": [
       "<div>\n",
       "<style scoped>\n",
       "    .dataframe tbody tr th:only-of-type {\n",
       "        vertical-align: middle;\n",
       "    }\n",
       "\n",
       "    .dataframe tbody tr th {\n",
       "        vertical-align: top;\n",
       "    }\n",
       "\n",
       "    .dataframe thead th {\n",
       "        text-align: right;\n",
       "    }\n",
       "</style>\n",
       "<table border=\"1\" class=\"dataframe\">\n",
       "  <thead>\n",
       "    <tr style=\"text-align: right;\">\n",
       "      <th></th>\n",
       "      <th>user_id</th>\n",
       "      <th>date_served</th>\n",
       "      <th>marketing_channel</th>\n",
       "      <th>variant</th>\n",
       "      <th>converted</th>\n",
       "      <th>language_displayed</th>\n",
       "      <th>language_preferred</th>\n",
       "      <th>age_group</th>\n",
       "      <th>date_subscribed</th>\n",
       "      <th>date_canceled</th>\n",
       "      <th>subscribing_channel</th>\n",
       "      <th>is_retained</th>\n",
       "      <th>is_house_ads</th>\n",
       "      <th>is_correct_language</th>\n",
       "      <th>day_served</th>\n",
       "      <th>Day</th>\n",
       "    </tr>\n",
       "  </thead>\n",
       "  <tbody>\n",
       "    <tr>\n",
       "      <th>0</th>\n",
       "      <td>a100000029</td>\n",
       "      <td>2018-01-01</td>\n",
       "      <td>House Ads</td>\n",
       "      <td>personalization</td>\n",
       "      <td>True</td>\n",
       "      <td>English</td>\n",
       "      <td>English</td>\n",
       "      <td>0-18 years</td>\n",
       "      <td>2018-01-01</td>\n",
       "      <td>NaT</td>\n",
       "      <td>House Ads</td>\n",
       "      <td>True</td>\n",
       "      <td>True</td>\n",
       "      <td>Yes</td>\n",
       "      <td>0.0</td>\n",
       "      <td>0.0</td>\n",
       "    </tr>\n",
       "    <tr>\n",
       "      <th>1</th>\n",
       "      <td>a100000030</td>\n",
       "      <td>2018-01-01</td>\n",
       "      <td>House Ads</td>\n",
       "      <td>personalization</td>\n",
       "      <td>True</td>\n",
       "      <td>English</td>\n",
       "      <td>English</td>\n",
       "      <td>19-24 years</td>\n",
       "      <td>2018-01-01</td>\n",
       "      <td>NaT</td>\n",
       "      <td>House Ads</td>\n",
       "      <td>True</td>\n",
       "      <td>True</td>\n",
       "      <td>Yes</td>\n",
       "      <td>0.0</td>\n",
       "      <td>0.0</td>\n",
       "    </tr>\n",
       "    <tr>\n",
       "      <th>2</th>\n",
       "      <td>a100000031</td>\n",
       "      <td>2018-01-01</td>\n",
       "      <td>House Ads</td>\n",
       "      <td>personalization</td>\n",
       "      <td>True</td>\n",
       "      <td>English</td>\n",
       "      <td>English</td>\n",
       "      <td>24-30 years</td>\n",
       "      <td>2018-01-01</td>\n",
       "      <td>NaT</td>\n",
       "      <td>House Ads</td>\n",
       "      <td>True</td>\n",
       "      <td>True</td>\n",
       "      <td>Yes</td>\n",
       "      <td>0.0</td>\n",
       "      <td>0.0</td>\n",
       "    </tr>\n",
       "  </tbody>\n",
       "</table>\n",
       "</div>"
      ],
      "text/plain": [
       "      user_id date_served marketing_channel          variant converted  \\\n",
       "0  a100000029  2018-01-01         House Ads  personalization      True   \n",
       "1  a100000030  2018-01-01         House Ads  personalization      True   \n",
       "2  a100000031  2018-01-01         House Ads  personalization      True   \n",
       "\n",
       "  language_displayed language_preferred    age_group date_subscribed  \\\n",
       "0            English            English   0-18 years      2018-01-01   \n",
       "1            English            English  19-24 years      2018-01-01   \n",
       "2            English            English  24-30 years      2018-01-01   \n",
       "\n",
       "  date_canceled subscribing_channel is_retained  is_house_ads  \\\n",
       "0           NaT           House Ads        True          True   \n",
       "1           NaT           House Ads        True          True   \n",
       "2           NaT           House Ads        True          True   \n",
       "\n",
       "  is_correct_language  day_served  Day  \n",
       "0                 Yes         0.0  0.0  \n",
       "1                 Yes         0.0  0.0  \n",
       "2                 Yes         0.0  0.0  "
      ]
     },
     "execution_count": 54,
     "metadata": {},
     "output_type": "execute_result"
    }
   ],
   "source": [
    "house_mar = df[df[\"marketing_channel\"] == \"House Ads\"]\n",
    "house_mar.head(3)"
   ]
  },
  {
   "cell_type": "code",
   "execution_count": 55,
   "id": "35de3910",
   "metadata": {},
   "outputs": [
    {
     "data": {
      "text/html": [
       "<div>\n",
       "<style scoped>\n",
       "    .dataframe tbody tr th:only-of-type {\n",
       "        vertical-align: middle;\n",
       "    }\n",
       "\n",
       "    .dataframe tbody tr th {\n",
       "        vertical-align: top;\n",
       "    }\n",
       "\n",
       "    .dataframe thead th {\n",
       "        text-align: right;\n",
       "    }\n",
       "</style>\n",
       "<table border=\"1\" class=\"dataframe\">\n",
       "  <thead>\n",
       "    <tr style=\"text-align: right;\">\n",
       "      <th>language_displayed</th>\n",
       "      <th>Arabic</th>\n",
       "      <th>English</th>\n",
       "      <th>German</th>\n",
       "      <th>Spanish</th>\n",
       "    </tr>\n",
       "    <tr>\n",
       "      <th>date_served</th>\n",
       "      <th></th>\n",
       "      <th></th>\n",
       "      <th></th>\n",
       "      <th></th>\n",
       "    </tr>\n",
       "  </thead>\n",
       "  <tbody>\n",
       "    <tr>\n",
       "      <th>2018-01-01</th>\n",
       "      <td>1.0</td>\n",
       "      <td>0.075145</td>\n",
       "      <td>0.200000</td>\n",
       "      <td>NaN</td>\n",
       "    </tr>\n",
       "    <tr>\n",
       "      <th>2018-01-02</th>\n",
       "      <td>NaN</td>\n",
       "      <td>0.068966</td>\n",
       "      <td>0.600000</td>\n",
       "      <td>NaN</td>\n",
       "    </tr>\n",
       "    <tr>\n",
       "      <th>2018-01-03</th>\n",
       "      <td>NaN</td>\n",
       "      <td>0.083799</td>\n",
       "      <td>0.333333</td>\n",
       "      <td>0.125000</td>\n",
       "    </tr>\n",
       "    <tr>\n",
       "      <th>2018-01-04</th>\n",
       "      <td>NaN</td>\n",
       "      <td>0.080537</td>\n",
       "      <td>NaN</td>\n",
       "      <td>0.214286</td>\n",
       "    </tr>\n",
       "    <tr>\n",
       "      <th>2018-01-05</th>\n",
       "      <td>NaN</td>\n",
       "      <td>0.118881</td>\n",
       "      <td>NaN</td>\n",
       "      <td>0.214286</td>\n",
       "    </tr>\n",
       "    <tr>\n",
       "      <th>2018-01-06</th>\n",
       "      <td>1.0</td>\n",
       "      <td>0.087591</td>\n",
       "      <td>NaN</td>\n",
       "      <td>0.200000</td>\n",
       "    </tr>\n",
       "    <tr>\n",
       "      <th>2018-01-07</th>\n",
       "      <td>1.0</td>\n",
       "      <td>0.117647</td>\n",
       "      <td>1.000000</td>\n",
       "      <td>0.125000</td>\n",
       "    </tr>\n",
       "    <tr>\n",
       "      <th>2018-01-08</th>\n",
       "      <td>NaN</td>\n",
       "      <td>0.079710</td>\n",
       "      <td>0.500000</td>\n",
       "      <td>0.200000</td>\n",
       "    </tr>\n",
       "    <tr>\n",
       "      <th>2018-01-09</th>\n",
       "      <td>NaN</td>\n",
       "      <td>0.129252</td>\n",
       "      <td>NaN</td>\n",
       "      <td>0.100000</td>\n",
       "    </tr>\n",
       "    <tr>\n",
       "      <th>2018-01-10</th>\n",
       "      <td>NaN</td>\n",
       "      <td>0.102041</td>\n",
       "      <td>0.500000</td>\n",
       "      <td>0.222222</td>\n",
       "    </tr>\n",
       "    <tr>\n",
       "      <th>2018-01-11</th>\n",
       "      <td>NaN</td>\n",
       "      <td>0.039216</td>\n",
       "      <td>NaN</td>\n",
       "      <td>NaN</td>\n",
       "    </tr>\n",
       "    <tr>\n",
       "      <th>2018-01-12</th>\n",
       "      <td>NaN</td>\n",
       "      <td>0.027211</td>\n",
       "      <td>NaN</td>\n",
       "      <td>NaN</td>\n",
       "    </tr>\n",
       "    <tr>\n",
       "      <th>2018-01-13</th>\n",
       "      <td>NaN</td>\n",
       "      <td>0.040816</td>\n",
       "      <td>NaN</td>\n",
       "      <td>NaN</td>\n",
       "    </tr>\n",
       "    <tr>\n",
       "      <th>2018-01-14</th>\n",
       "      <td>NaN</td>\n",
       "      <td>0.039735</td>\n",
       "      <td>NaN</td>\n",
       "      <td>NaN</td>\n",
       "    </tr>\n",
       "    <tr>\n",
       "      <th>2018-01-15</th>\n",
       "      <td>NaN</td>\n",
       "      <td>0.029268</td>\n",
       "      <td>NaN</td>\n",
       "      <td>NaN</td>\n",
       "    </tr>\n",
       "    <tr>\n",
       "      <th>2018-01-16</th>\n",
       "      <td>NaN</td>\n",
       "      <td>0.038710</td>\n",
       "      <td>NaN</td>\n",
       "      <td>NaN</td>\n",
       "    </tr>\n",
       "    <tr>\n",
       "      <th>2018-01-17</th>\n",
       "      <td>NaN</td>\n",
       "      <td>0.040816</td>\n",
       "      <td>NaN</td>\n",
       "      <td>NaN</td>\n",
       "    </tr>\n",
       "    <tr>\n",
       "      <th>2018-01-18</th>\n",
       "      <td>NaN</td>\n",
       "      <td>0.039474</td>\n",
       "      <td>NaN</td>\n",
       "      <td>NaN</td>\n",
       "    </tr>\n",
       "    <tr>\n",
       "      <th>2018-01-19</th>\n",
       "      <td>NaN</td>\n",
       "      <td>0.033784</td>\n",
       "      <td>NaN</td>\n",
       "      <td>NaN</td>\n",
       "    </tr>\n",
       "    <tr>\n",
       "      <th>2018-01-20</th>\n",
       "      <td>NaN</td>\n",
       "      <td>0.040000</td>\n",
       "      <td>NaN</td>\n",
       "      <td>NaN</td>\n",
       "    </tr>\n",
       "    <tr>\n",
       "      <th>2018-01-21</th>\n",
       "      <td>NaN</td>\n",
       "      <td>0.044248</td>\n",
       "      <td>NaN</td>\n",
       "      <td>NaN</td>\n",
       "    </tr>\n",
       "    <tr>\n",
       "      <th>2018-01-22</th>\n",
       "      <td>NaN</td>\n",
       "      <td>0.070588</td>\n",
       "      <td>NaN</td>\n",
       "      <td>NaN</td>\n",
       "    </tr>\n",
       "    <tr>\n",
       "      <th>2018-01-23</th>\n",
       "      <td>NaN</td>\n",
       "      <td>0.058824</td>\n",
       "      <td>NaN</td>\n",
       "      <td>NaN</td>\n",
       "    </tr>\n",
       "    <tr>\n",
       "      <th>2018-01-24</th>\n",
       "      <td>NaN</td>\n",
       "      <td>0.062500</td>\n",
       "      <td>NaN</td>\n",
       "      <td>NaN</td>\n",
       "    </tr>\n",
       "    <tr>\n",
       "      <th>2018-01-25</th>\n",
       "      <td>NaN</td>\n",
       "      <td>0.065217</td>\n",
       "      <td>NaN</td>\n",
       "      <td>NaN</td>\n",
       "    </tr>\n",
       "    <tr>\n",
       "      <th>2018-01-26</th>\n",
       "      <td>NaN</td>\n",
       "      <td>0.053097</td>\n",
       "      <td>NaN</td>\n",
       "      <td>NaN</td>\n",
       "    </tr>\n",
       "    <tr>\n",
       "      <th>2018-01-27</th>\n",
       "      <td>NaN</td>\n",
       "      <td>0.036364</td>\n",
       "      <td>NaN</td>\n",
       "      <td>NaN</td>\n",
       "    </tr>\n",
       "    <tr>\n",
       "      <th>2018-01-28</th>\n",
       "      <td>NaN</td>\n",
       "      <td>0.037267</td>\n",
       "      <td>NaN</td>\n",
       "      <td>NaN</td>\n",
       "    </tr>\n",
       "    <tr>\n",
       "      <th>2018-01-29</th>\n",
       "      <td>NaN</td>\n",
       "      <td>0.030864</td>\n",
       "      <td>NaN</td>\n",
       "      <td>NaN</td>\n",
       "    </tr>\n",
       "    <tr>\n",
       "      <th>2018-01-30</th>\n",
       "      <td>NaN</td>\n",
       "      <td>0.037037</td>\n",
       "      <td>NaN</td>\n",
       "      <td>NaN</td>\n",
       "    </tr>\n",
       "    <tr>\n",
       "      <th>2018-01-31</th>\n",
       "      <td>NaN</td>\n",
       "      <td>0.039216</td>\n",
       "      <td>NaN</td>\n",
       "      <td>NaN</td>\n",
       "    </tr>\n",
       "  </tbody>\n",
       "</table>\n",
       "</div>"
      ],
      "text/plain": [
       "language_displayed  Arabic   English    German   Spanish\n",
       "date_served                                             \n",
       "2018-01-01             1.0  0.075145  0.200000       NaN\n",
       "2018-01-02             NaN  0.068966  0.600000       NaN\n",
       "2018-01-03             NaN  0.083799  0.333333  0.125000\n",
       "2018-01-04             NaN  0.080537       NaN  0.214286\n",
       "2018-01-05             NaN  0.118881       NaN  0.214286\n",
       "2018-01-06             1.0  0.087591       NaN  0.200000\n",
       "2018-01-07             1.0  0.117647  1.000000  0.125000\n",
       "2018-01-08             NaN  0.079710  0.500000  0.200000\n",
       "2018-01-09             NaN  0.129252       NaN  0.100000\n",
       "2018-01-10             NaN  0.102041  0.500000  0.222222\n",
       "2018-01-11             NaN  0.039216       NaN       NaN\n",
       "2018-01-12             NaN  0.027211       NaN       NaN\n",
       "2018-01-13             NaN  0.040816       NaN       NaN\n",
       "2018-01-14             NaN  0.039735       NaN       NaN\n",
       "2018-01-15             NaN  0.029268       NaN       NaN\n",
       "2018-01-16             NaN  0.038710       NaN       NaN\n",
       "2018-01-17             NaN  0.040816       NaN       NaN\n",
       "2018-01-18             NaN  0.039474       NaN       NaN\n",
       "2018-01-19             NaN  0.033784       NaN       NaN\n",
       "2018-01-20             NaN  0.040000       NaN       NaN\n",
       "2018-01-21             NaN  0.044248       NaN       NaN\n",
       "2018-01-22             NaN  0.070588       NaN       NaN\n",
       "2018-01-23             NaN  0.058824       NaN       NaN\n",
       "2018-01-24             NaN  0.062500       NaN       NaN\n",
       "2018-01-25             NaN  0.065217       NaN       NaN\n",
       "2018-01-26             NaN  0.053097       NaN       NaN\n",
       "2018-01-27             NaN  0.036364       NaN       NaN\n",
       "2018-01-28             NaN  0.037267       NaN       NaN\n",
       "2018-01-29             NaN  0.030864       NaN       NaN\n",
       "2018-01-30             NaN  0.037037       NaN       NaN\n",
       "2018-01-31             NaN  0.039216       NaN       NaN"
      ]
     },
     "execution_count": 55,
     "metadata": {},
     "output_type": "execute_result"
    }
   ],
   "source": [
    "people = house_mar.groupby([\"date_served\", \"language_displayed\"])[\"user_id\"].nunique()\n",
    "people_converted = house_mar[house_mar[\"converted\"] == True].groupby([\"date_served\", \"language_displayed\"])[\"user_id\"].nunique()\n",
    "\n",
    "conversion_ha = people_converted / people\n",
    "conversion_ha_df = conversion_ha.to_frame().reset_index()\n",
    "conversion_ha_df.columns = [\"date_served\", \"language_displayed\", \"users\"]\n",
    "pd.pivot_table(conversion_ha_df, index = \"date_served\", columns = \"language_displayed\", values = \"users\")"
   ]
  },
  {
   "cell_type": "code",
   "execution_count": 56,
   "id": "34ab6448",
   "metadata": {},
   "outputs": [
    {
     "data": {
      "text/html": [
       "<div>\n",
       "<style scoped>\n",
       "    .dataframe tbody tr th:only-of-type {\n",
       "        vertical-align: middle;\n",
       "    }\n",
       "\n",
       "    .dataframe tbody tr th {\n",
       "        vertical-align: top;\n",
       "    }\n",
       "\n",
       "    .dataframe thead th {\n",
       "        text-align: right;\n",
       "    }\n",
       "</style>\n",
       "<table border=\"1\" class=\"dataframe\">\n",
       "  <thead>\n",
       "    <tr style=\"text-align: right;\">\n",
       "      <th></th>\n",
       "      <th>user_id</th>\n",
       "      <th>date_served</th>\n",
       "      <th>marketing_channel</th>\n",
       "      <th>variant</th>\n",
       "      <th>converted</th>\n",
       "      <th>language_displayed</th>\n",
       "      <th>language_preferred</th>\n",
       "      <th>age_group</th>\n",
       "      <th>date_subscribed</th>\n",
       "      <th>date_canceled</th>\n",
       "      <th>subscribing_channel</th>\n",
       "      <th>is_retained</th>\n",
       "      <th>is_house_ads</th>\n",
       "      <th>is_correct_language</th>\n",
       "      <th>day_served</th>\n",
       "      <th>Day</th>\n",
       "      <th>is_correct_lang</th>\n",
       "    </tr>\n",
       "  </thead>\n",
       "  <tbody>\n",
       "    <tr>\n",
       "      <th>0</th>\n",
       "      <td>a100000029</td>\n",
       "      <td>2018-01-01</td>\n",
       "      <td>House Ads</td>\n",
       "      <td>personalization</td>\n",
       "      <td>True</td>\n",
       "      <td>English</td>\n",
       "      <td>English</td>\n",
       "      <td>0-18 years</td>\n",
       "      <td>2018-01-01</td>\n",
       "      <td>NaT</td>\n",
       "      <td>House Ads</td>\n",
       "      <td>True</td>\n",
       "      <td>True</td>\n",
       "      <td>Yes</td>\n",
       "      <td>0.0</td>\n",
       "      <td>0.0</td>\n",
       "      <td>Yes</td>\n",
       "    </tr>\n",
       "    <tr>\n",
       "      <th>1</th>\n",
       "      <td>a100000030</td>\n",
       "      <td>2018-01-01</td>\n",
       "      <td>House Ads</td>\n",
       "      <td>personalization</td>\n",
       "      <td>True</td>\n",
       "      <td>English</td>\n",
       "      <td>English</td>\n",
       "      <td>19-24 years</td>\n",
       "      <td>2018-01-01</td>\n",
       "      <td>NaT</td>\n",
       "      <td>House Ads</td>\n",
       "      <td>True</td>\n",
       "      <td>True</td>\n",
       "      <td>Yes</td>\n",
       "      <td>0.0</td>\n",
       "      <td>0.0</td>\n",
       "      <td>Yes</td>\n",
       "    </tr>\n",
       "    <tr>\n",
       "      <th>2</th>\n",
       "      <td>a100000031</td>\n",
       "      <td>2018-01-01</td>\n",
       "      <td>House Ads</td>\n",
       "      <td>personalization</td>\n",
       "      <td>True</td>\n",
       "      <td>English</td>\n",
       "      <td>English</td>\n",
       "      <td>24-30 years</td>\n",
       "      <td>2018-01-01</td>\n",
       "      <td>NaT</td>\n",
       "      <td>House Ads</td>\n",
       "      <td>True</td>\n",
       "      <td>True</td>\n",
       "      <td>Yes</td>\n",
       "      <td>0.0</td>\n",
       "      <td>0.0</td>\n",
       "      <td>Yes</td>\n",
       "    </tr>\n",
       "  </tbody>\n",
       "</table>\n",
       "</div>"
      ],
      "text/plain": [
       "      user_id date_served marketing_channel          variant converted  \\\n",
       "0  a100000029  2018-01-01         House Ads  personalization      True   \n",
       "1  a100000030  2018-01-01         House Ads  personalization      True   \n",
       "2  a100000031  2018-01-01         House Ads  personalization      True   \n",
       "\n",
       "  language_displayed language_preferred    age_group date_subscribed  \\\n",
       "0            English            English   0-18 years      2018-01-01   \n",
       "1            English            English  19-24 years      2018-01-01   \n",
       "2            English            English  24-30 years      2018-01-01   \n",
       "\n",
       "  date_canceled subscribing_channel is_retained  is_house_ads  \\\n",
       "0           NaT           House Ads        True          True   \n",
       "1           NaT           House Ads        True          True   \n",
       "2           NaT           House Ads        True          True   \n",
       "\n",
       "  is_correct_language  day_served  Day is_correct_lang  \n",
       "0                 Yes         0.0  0.0             Yes  \n",
       "1                 Yes         0.0  0.0             Yes  \n",
       "2                 Yes         0.0  0.0             Yes  "
      ]
     },
     "execution_count": 56,
     "metadata": {},
     "output_type": "execute_result"
    }
   ],
   "source": [
    "house_mar[\"is_correct_lang\"] = np.where(house_mar[\"language_displayed\"] == house_mar[\"language_preferred\"], \"Yes\", \"No\")\n",
    "house_mar.head(3)"
   ]
  },
  {
   "cell_type": "code",
   "execution_count": 57,
   "id": "8cd0da24",
   "metadata": {},
   "outputs": [
    {
     "data": {
      "text/html": [
       "<div>\n",
       "<style scoped>\n",
       "    .dataframe tbody tr th:only-of-type {\n",
       "        vertical-align: middle;\n",
       "    }\n",
       "\n",
       "    .dataframe tbody tr th {\n",
       "        vertical-align: top;\n",
       "    }\n",
       "\n",
       "    .dataframe thead th {\n",
       "        text-align: right;\n",
       "    }\n",
       "</style>\n",
       "<table border=\"1\" class=\"dataframe\">\n",
       "  <thead>\n",
       "    <tr style=\"text-align: right;\">\n",
       "      <th>is_correct_lang</th>\n",
       "      <th>No</th>\n",
       "      <th>Yes</th>\n",
       "      <th>pct</th>\n",
       "    </tr>\n",
       "    <tr>\n",
       "      <th>date_served</th>\n",
       "      <th></th>\n",
       "      <th></th>\n",
       "      <th></th>\n",
       "    </tr>\n",
       "  </thead>\n",
       "  <tbody>\n",
       "    <tr>\n",
       "      <th>2018-01-01</th>\n",
       "      <td>2.0</td>\n",
       "      <td>189.0</td>\n",
       "      <td>0.99</td>\n",
       "    </tr>\n",
       "    <tr>\n",
       "      <th>2018-01-02</th>\n",
       "      <td>3.0</td>\n",
       "      <td>247.0</td>\n",
       "      <td>0.99</td>\n",
       "    </tr>\n",
       "    <tr>\n",
       "      <th>2018-01-03</th>\n",
       "      <td>NaN</td>\n",
       "      <td>220.0</td>\n",
       "      <td>1.00</td>\n",
       "    </tr>\n",
       "    <tr>\n",
       "      <th>2018-01-04</th>\n",
       "      <td>NaN</td>\n",
       "      <td>168.0</td>\n",
       "      <td>1.00</td>\n",
       "    </tr>\n",
       "    <tr>\n",
       "      <th>2018-01-05</th>\n",
       "      <td>NaN</td>\n",
       "      <td>160.0</td>\n",
       "      <td>1.00</td>\n",
       "    </tr>\n",
       "    <tr>\n",
       "      <th>2018-01-06</th>\n",
       "      <td>1.0</td>\n",
       "      <td>151.0</td>\n",
       "      <td>0.99</td>\n",
       "    </tr>\n",
       "    <tr>\n",
       "      <th>2018-01-07</th>\n",
       "      <td>2.0</td>\n",
       "      <td>130.0</td>\n",
       "      <td>0.98</td>\n",
       "    </tr>\n",
       "    <tr>\n",
       "      <th>2018-01-08</th>\n",
       "      <td>NaN</td>\n",
       "      <td>154.0</td>\n",
       "      <td>1.00</td>\n",
       "    </tr>\n",
       "    <tr>\n",
       "      <th>2018-01-09</th>\n",
       "      <td>NaN</td>\n",
       "      <td>157.0</td>\n",
       "      <td>1.00</td>\n",
       "    </tr>\n",
       "    <tr>\n",
       "      <th>2018-01-10</th>\n",
       "      <td>NaN</td>\n",
       "      <td>170.0</td>\n",
       "      <td>1.00</td>\n",
       "    </tr>\n",
       "    <tr>\n",
       "      <th>2018-01-11</th>\n",
       "      <td>20.0</td>\n",
       "      <td>135.0</td>\n",
       "      <td>0.87</td>\n",
       "    </tr>\n",
       "    <tr>\n",
       "      <th>2018-01-12</th>\n",
       "      <td>18.0</td>\n",
       "      <td>130.0</td>\n",
       "      <td>0.88</td>\n",
       "    </tr>\n",
       "    <tr>\n",
       "      <th>2018-01-13</th>\n",
       "      <td>26.0</td>\n",
       "      <td>122.0</td>\n",
       "      <td>0.82</td>\n",
       "    </tr>\n",
       "    <tr>\n",
       "      <th>2018-01-14</th>\n",
       "      <td>20.0</td>\n",
       "      <td>131.0</td>\n",
       "      <td>0.87</td>\n",
       "    </tr>\n",
       "    <tr>\n",
       "      <th>2018-01-15</th>\n",
       "      <td>16.0</td>\n",
       "      <td>192.0</td>\n",
       "      <td>0.92</td>\n",
       "    </tr>\n",
       "    <tr>\n",
       "      <th>2018-01-16</th>\n",
       "      <td>28.0</td>\n",
       "      <td>127.0</td>\n",
       "      <td>0.82</td>\n",
       "    </tr>\n",
       "    <tr>\n",
       "      <th>2018-01-17</th>\n",
       "      <td>21.0</td>\n",
       "      <td>127.0</td>\n",
       "      <td>0.86</td>\n",
       "    </tr>\n",
       "    <tr>\n",
       "      <th>2018-01-18</th>\n",
       "      <td>31.0</td>\n",
       "      <td>121.0</td>\n",
       "      <td>0.80</td>\n",
       "    </tr>\n",
       "    <tr>\n",
       "      <th>2018-01-19</th>\n",
       "      <td>22.0</td>\n",
       "      <td>127.0</td>\n",
       "      <td>0.85</td>\n",
       "    </tr>\n",
       "    <tr>\n",
       "      <th>2018-01-20</th>\n",
       "      <td>28.0</td>\n",
       "      <td>124.0</td>\n",
       "      <td>0.82</td>\n",
       "    </tr>\n",
       "    <tr>\n",
       "      <th>2018-01-21</th>\n",
       "      <td>14.0</td>\n",
       "      <td>100.0</td>\n",
       "      <td>0.88</td>\n",
       "    </tr>\n",
       "    <tr>\n",
       "      <th>2018-01-22</th>\n",
       "      <td>13.0</td>\n",
       "      <td>72.0</td>\n",
       "      <td>0.85</td>\n",
       "    </tr>\n",
       "    <tr>\n",
       "      <th>2018-01-23</th>\n",
       "      <td>16.0</td>\n",
       "      <td>69.0</td>\n",
       "      <td>0.81</td>\n",
       "    </tr>\n",
       "    <tr>\n",
       "      <th>2018-01-24</th>\n",
       "      <td>13.0</td>\n",
       "      <td>83.0</td>\n",
       "      <td>0.86</td>\n",
       "    </tr>\n",
       "    <tr>\n",
       "      <th>2018-01-25</th>\n",
       "      <td>19.0</td>\n",
       "      <td>74.0</td>\n",
       "      <td>0.80</td>\n",
       "    </tr>\n",
       "    <tr>\n",
       "      <th>2018-01-26</th>\n",
       "      <td>24.0</td>\n",
       "      <td>92.0</td>\n",
       "      <td>0.79</td>\n",
       "    </tr>\n",
       "    <tr>\n",
       "      <th>2018-01-27</th>\n",
       "      <td>18.0</td>\n",
       "      <td>149.0</td>\n",
       "      <td>0.89</td>\n",
       "    </tr>\n",
       "    <tr>\n",
       "      <th>2018-01-28</th>\n",
       "      <td>28.0</td>\n",
       "      <td>136.0</td>\n",
       "      <td>0.83</td>\n",
       "    </tr>\n",
       "    <tr>\n",
       "      <th>2018-01-29</th>\n",
       "      <td>24.0</td>\n",
       "      <td>142.0</td>\n",
       "      <td>0.86</td>\n",
       "    </tr>\n",
       "    <tr>\n",
       "      <th>2018-01-30</th>\n",
       "      <td>23.0</td>\n",
       "      <td>145.0</td>\n",
       "      <td>0.86</td>\n",
       "    </tr>\n",
       "    <tr>\n",
       "      <th>2018-01-31</th>\n",
       "      <td>23.0</td>\n",
       "      <td>135.0</td>\n",
       "      <td>0.85</td>\n",
       "    </tr>\n",
       "  </tbody>\n",
       "</table>\n",
       "</div>"
      ],
      "text/plain": [
       "is_correct_lang    No    Yes   pct\n",
       "date_served                       \n",
       "2018-01-01        2.0  189.0  0.99\n",
       "2018-01-02        3.0  247.0  0.99\n",
       "2018-01-03        NaN  220.0  1.00\n",
       "2018-01-04        NaN  168.0  1.00\n",
       "2018-01-05        NaN  160.0  1.00\n",
       "2018-01-06        1.0  151.0  0.99\n",
       "2018-01-07        2.0  130.0  0.98\n",
       "2018-01-08        NaN  154.0  1.00\n",
       "2018-01-09        NaN  157.0  1.00\n",
       "2018-01-10        NaN  170.0  1.00\n",
       "2018-01-11       20.0  135.0  0.87\n",
       "2018-01-12       18.0  130.0  0.88\n",
       "2018-01-13       26.0  122.0  0.82\n",
       "2018-01-14       20.0  131.0  0.87\n",
       "2018-01-15       16.0  192.0  0.92\n",
       "2018-01-16       28.0  127.0  0.82\n",
       "2018-01-17       21.0  127.0  0.86\n",
       "2018-01-18       31.0  121.0  0.80\n",
       "2018-01-19       22.0  127.0  0.85\n",
       "2018-01-20       28.0  124.0  0.82\n",
       "2018-01-21       14.0  100.0  0.88\n",
       "2018-01-22       13.0   72.0  0.85\n",
       "2018-01-23       16.0   69.0  0.81\n",
       "2018-01-24       13.0   83.0  0.86\n",
       "2018-01-25       19.0   74.0  0.80\n",
       "2018-01-26       24.0   92.0  0.79\n",
       "2018-01-27       18.0  149.0  0.89\n",
       "2018-01-28       28.0  136.0  0.83\n",
       "2018-01-29       24.0  142.0  0.86\n",
       "2018-01-30       23.0  145.0  0.86\n",
       "2018-01-31       23.0  135.0  0.85"
      ]
     },
     "execution_count": 57,
     "metadata": {},
     "output_type": "execute_result"
    }
   ],
   "source": [
    "language_check = house_mar.groupby([\"date_served\", \"is_correct_lang\"])[\"is_correct_lang\"].count().to_frame()\n",
    "language_check.columns = [\"count\"]\n",
    "language_check = language_check.fillna(0).reset_index()\n",
    "df_language_check = pd.pivot_table(language_check, index = \"date_served\", columns = \"is_correct_lang\", values = \"count\")\n",
    "df_language_check[\"pct\"] = (df_language_check[\"Yes\"] / df_language_check.sum(axis = 1)).round(2)\n",
    "df_language_check"
   ]
  },
  {
   "cell_type": "code",
   "execution_count": 58,
   "id": "eda5fb69",
   "metadata": {},
   "outputs": [
    {
     "data": {
      "image/png": "[encoded data removed]",
      "text/plain": [
       "<Figure size 1296x504 with 1 Axes>"
      ]
     },
     "metadata": {},
     "output_type": "display_data"
    }
   ],
   "source": [
    "plt.figure(figsize = (18, 7))\n",
    "sns.lineplot(x = df_language_check.index, y = \"pct\", data = df_language_check)\n",
    "plt.title(\"Percentage Change by Language Shown\", color = \"red\", size = 20)\n",
    "plt.xticks(size = 15)\n",
    "plt.yticks(size = 15)\n",
    "plt.xlabel(\"Date Served\", size = 20, color = \"red\")\n",
    "plt.ylabel(\"Percentage Change\", size = 20, color = \"red\")\n",
    "plt.show()"
   ]
  },
  {
   "cell_type": "markdown",
   "id": "94372069",
   "metadata": {},
   "source": [
    "### A/B testing for Marketing"
   ]
  },
  {
   "cell_type": "code",
   "execution_count": 59,
   "id": "d8adba13",
   "metadata": {},
   "outputs": [
    {
     "data": {
      "text/plain": [
       "variant\n",
       "control            270\n",
       "personalization    284\n",
       "Name: user_id, dtype: int64"
      ]
     },
     "execution_count": 59,
     "metadata": {},
     "output_type": "execute_result"
    }
   ],
   "source": [
    "email = df[df[\"marketing_channel\"] == \"Email\"]\n",
    "allocation = email.groupby(\"variant\")[\"user_id\"].nunique()\n",
    "allocation"
   ]
  },
  {
   "cell_type": "code",
   "execution_count": 62,
   "id": "76efebce",
   "metadata": {},
   "outputs": [
    {
     "data": {
      "text/html": [
       "<div>\n",
       "<style scoped>\n",
       "    .dataframe tbody tr th:only-of-type {\n",
       "        vertical-align: middle;\n",
       "    }\n",
       "\n",
       "    .dataframe tbody tr th {\n",
       "        vertical-align: top;\n",
       "    }\n",
       "\n",
       "    .dataframe thead th {\n",
       "        text-align: right;\n",
       "    }\n",
       "</style>\n",
       "<table border=\"1\" class=\"dataframe\">\n",
       "  <thead>\n",
       "    <tr style=\"text-align: right;\">\n",
       "      <th>variant</th>\n",
       "      <th>control</th>\n",
       "      <th>personalization</th>\n",
       "    </tr>\n",
       "    <tr>\n",
       "      <th>user_id</th>\n",
       "      <th></th>\n",
       "      <th></th>\n",
       "    </tr>\n",
       "  </thead>\n",
       "  <tbody>\n",
       "    <tr>\n",
       "      <th>a100000526</th>\n",
       "      <td>NaN</td>\n",
       "      <td>True</td>\n",
       "    </tr>\n",
       "    <tr>\n",
       "      <th>a100000530</th>\n",
       "      <td>NaN</td>\n",
       "      <td>True</td>\n",
       "    </tr>\n",
       "    <tr>\n",
       "      <th>a100000534</th>\n",
       "      <td>NaN</td>\n",
       "      <td>False</td>\n",
       "    </tr>\n",
       "    <tr>\n",
       "      <th>a100000538</th>\n",
       "      <td>NaN</td>\n",
       "      <td>True</td>\n",
       "    </tr>\n",
       "    <tr>\n",
       "      <th>a100000542</th>\n",
       "      <td>NaN</td>\n",
       "      <td>True</td>\n",
       "    </tr>\n",
       "  </tbody>\n",
       "</table>\n",
       "</div>"
      ],
      "text/plain": [
       "variant    control personalization\n",
       "user_id                           \n",
       "a100000526     NaN            True\n",
       "a100000530     NaN            True\n",
       "a100000534     NaN           False\n",
       "a100000538     NaN            True\n",
       "a100000542     NaN            True"
      ]
     },
     "execution_count": 62,
     "metadata": {},
     "output_type": "execute_result"
    }
   ],
   "source": [
    "subscribers = email.groupby([\"user_id\", \"variant\"])[\"converted\"].max()\n",
    "subscribers = pd.DataFrame(subscribers.unstack(level = 1))\n",
    "subscribers.head()"
   ]
  },
  {
   "cell_type": "code",
   "execution_count": 63,
   "id": "68c8954d",
   "metadata": {},
   "outputs": [],
   "source": [
    "# Drop rows from control\n",
    "control = subscribers[\"control\"].dropna()\n",
    "personalization = subscribers[\"personalization\"].dropna()"
   ]
  },
  {
   "cell_type": "code",
   "execution_count": 65,
   "id": "7518b0fb",
   "metadata": {},
   "outputs": [
    {
     "name": "stdout",
     "output_type": "stream",
     "text": [
      "Control Conversion Rate = 0.28 \n",
      "\n",
      "Personalization Conversion Rate = 0.39\n"
     ]
    }
   ],
   "source": [
    "print(\"Control Conversion Rate =\", control.mean().round(2), \"\\n\")\n",
    "\n",
    "print(\"Personalization Conversion Rate =\", personalization.mean().round(2))"
   ]
  },
  {
   "cell_type": "markdown",
   "id": "be0701be",
   "metadata": {},
   "source": [
    "**Calculate Lift**"
   ]
  },
  {
   "cell_type": "code",
   "execution_count": 67,
   "id": "84b07562",
   "metadata": {},
   "outputs": [
    {
     "name": "stdout",
     "output_type": "stream",
     "text": [
      "0.3885285396590065\n"
     ]
    }
   ],
   "source": [
    "a_mean = np.mean(control)\n",
    "b_mean = np.mean(personalization)\n",
    "\n",
    "lift = (b_mean - a_mean) / a_mean\n",
    "print(lift)"
   ]
  },
  {
   "cell_type": "markdown",
   "id": "cf9969a5",
   "metadata": {},
   "source": [
    "**T-Test**"
   ]
  },
  {
   "cell_type": "code",
   "execution_count": 69,
   "id": "4b0b341a",
   "metadata": {},
   "outputs": [
    {
     "name": "stdout",
     "output_type": "stream",
     "text": [
      "Ttest_indResult(statistic=-2.7343299447505074, pvalue=0.006451487844694175)\n"
     ]
    }
   ],
   "source": [
    "t = ttest_ind(control, personalization)\n",
    "print(t)"
   ]
  }
 ],
 "metadata": {
  "kernelspec": {
   "display_name": "Python 3",
   "language": "python",
   "name": "python3"
  },
  "language_info": {
   "codemirror_mode": {
    "name": "ipython",
    "version": 3
   },
   "file_extension": ".py",
   "mimetype": "text/x-python",
   "name": "python",
   "nbconvert_exporter": "python",
   "pygments_lexer": "ipython3",
   "version": "3.8.8"
  }
 },
 "nbformat": 4,
 "nbformat_minor": 5
}
