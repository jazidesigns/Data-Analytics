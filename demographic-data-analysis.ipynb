{
 "cells": [
  {
   "cell_type": "markdown",
   "id": "9c16462c",
   "metadata": {
    "papermill": {
     "duration": 0.005175,
     "end_time": "2025-01-06T07:14:01.433013",
     "exception": false,
     "start_time": "2025-01-06T07:14:01.427838",
     "status": "completed"
    },
    "tags": []
   },
   "source": [
    "### Import Libraries"
   ]
  },
  {
   "cell_type": "code",
   "execution_count": 1,
   "id": "af905792",
   "metadata": {
    "execution": {
     "iopub.execute_input": "2025-01-06T07:14:01.443388Z",
     "iopub.status.busy": "2025-01-06T07:14:01.442952Z",
     "iopub.status.idle": "2025-01-06T07:14:03.162168Z",
     "shell.execute_reply": "2025-01-06T07:14:03.161135Z"
    },
    "papermill": {
     "duration": 1.726443,
     "end_time": "2025-01-06T07:14:03.164027",
     "exception": false,
     "start_time": "2025-01-06T07:14:01.437584",
     "status": "completed"
    },
    "tags": []
   },
   "outputs": [],
   "source": [
    "import pandas as pd\n",
    "import matplotlib.pyplot as plt\n",
    "import seaborn as sns"
   ]
  },
  {
   "cell_type": "markdown",
   "id": "92816df3",
   "metadata": {
    "papermill": {
     "duration": 0.004138,
     "end_time": "2025-01-06T07:14:03.173037",
     "exception": false,
     "start_time": "2025-01-06T07:14:03.168899",
     "status": "completed"
    },
    "tags": []
   },
   "source": [
    "### Import Dataset"
   ]
  },
  {
   "cell_type": "code",
   "execution_count": 2,
   "id": "5663cad4",
   "metadata": {
    "execution": {
     "iopub.execute_input": "2025-01-06T07:14:03.183607Z",
     "iopub.status.busy": "2025-01-06T07:14:03.183106Z",
     "iopub.status.idle": "2025-01-06T07:14:03.335517Z",
     "shell.execute_reply": "2025-01-06T07:14:03.334486Z"
    },
    "papermill": {
     "duration": 0.159411,
     "end_time": "2025-01-06T07:14:03.337086",
     "exception": false,
     "start_time": "2025-01-06T07:14:03.177675",
     "status": "completed"
    },
    "tags": []
   },
   "outputs": [
    {
     "data": {
      "text/html": [
       "<div>\n",
       "<style scoped>\n",
       "    .dataframe tbody tr th:only-of-type {\n",
       "        vertical-align: middle;\n",
       "    }\n",
       "\n",
       "    .dataframe tbody tr th {\n",
       "        vertical-align: top;\n",
       "    }\n",
       "\n",
       "    .dataframe thead th {\n",
       "        text-align: right;\n",
       "    }\n",
       "</style>\n",
       "<table border=\"1\" class=\"dataframe\">\n",
       "  <thead>\n",
       "    <tr style=\"text-align: right;\">\n",
       "      <th></th>\n",
       "      <th>age</th>\n",
       "      <th>workclass</th>\n",
       "      <th>fnlwgt</th>\n",
       "      <th>education</th>\n",
       "      <th>education-num</th>\n",
       "      <th>marital-status</th>\n",
       "      <th>occupation</th>\n",
       "      <th>relationship</th>\n",
       "      <th>race</th>\n",
       "      <th>sex</th>\n",
       "      <th>capital-gain</th>\n",
       "      <th>capital-loss</th>\n",
       "      <th>hours-per-week</th>\n",
       "      <th>native-country</th>\n",
       "      <th>salary</th>\n",
       "    </tr>\n",
       "  </thead>\n",
       "  <tbody>\n",
       "    <tr>\n",
       "      <th>0</th>\n",
       "      <td>39</td>\n",
       "      <td>State-gov</td>\n",
       "      <td>77516</td>\n",
       "      <td>Bachelors</td>\n",
       "      <td>13</td>\n",
       "      <td>Never-married</td>\n",
       "      <td>Adm-clerical</td>\n",
       "      <td>Not-in-family</td>\n",
       "      <td>White</td>\n",
       "      <td>Male</td>\n",
       "      <td>2174</td>\n",
       "      <td>0</td>\n",
       "      <td>40</td>\n",
       "      <td>United-States</td>\n",
       "      <td>&lt;=50K</td>\n",
       "    </tr>\n",
       "    <tr>\n",
       "      <th>1</th>\n",
       "      <td>50</td>\n",
       "      <td>Self-emp-not-inc</td>\n",
       "      <td>83311</td>\n",
       "      <td>Bachelors</td>\n",
       "      <td>13</td>\n",
       "      <td>Married-civ-spouse</td>\n",
       "      <td>Exec-managerial</td>\n",
       "      <td>Husband</td>\n",
       "      <td>White</td>\n",
       "      <td>Male</td>\n",
       "      <td>0</td>\n",
       "      <td>0</td>\n",
       "      <td>13</td>\n",
       "      <td>United-States</td>\n",
       "      <td>&lt;=50K</td>\n",
       "    </tr>\n",
       "    <tr>\n",
       "      <th>2</th>\n",
       "      <td>38</td>\n",
       "      <td>Private</td>\n",
       "      <td>215646</td>\n",
       "      <td>HS-grad</td>\n",
       "      <td>9</td>\n",
       "      <td>Divorced</td>\n",
       "      <td>Handlers-cleaners</td>\n",
       "      <td>Not-in-family</td>\n",
       "      <td>White</td>\n",
       "      <td>Male</td>\n",
       "      <td>0</td>\n",
       "      <td>0</td>\n",
       "      <td>40</td>\n",
       "      <td>United-States</td>\n",
       "      <td>&lt;=50K</td>\n",
       "    </tr>\n",
       "    <tr>\n",
       "      <th>3</th>\n",
       "      <td>53</td>\n",
       "      <td>Private</td>\n",
       "      <td>234721</td>\n",
       "      <td>11th</td>\n",
       "      <td>7</td>\n",
       "      <td>Married-civ-spouse</td>\n",
       "      <td>Handlers-cleaners</td>\n",
       "      <td>Husband</td>\n",
       "      <td>Black</td>\n",
       "      <td>Male</td>\n",
       "      <td>0</td>\n",
       "      <td>0</td>\n",
       "      <td>40</td>\n",
       "      <td>United-States</td>\n",
       "      <td>&lt;=50K</td>\n",
       "    </tr>\n",
       "    <tr>\n",
       "      <th>4</th>\n",
       "      <td>28</td>\n",
       "      <td>Private</td>\n",
       "      <td>338409</td>\n",
       "      <td>Bachelors</td>\n",
       "      <td>13</td>\n",
       "      <td>Married-civ-spouse</td>\n",
       "      <td>Prof-specialty</td>\n",
       "      <td>Wife</td>\n",
       "      <td>Black</td>\n",
       "      <td>Female</td>\n",
       "      <td>0</td>\n",
       "      <td>0</td>\n",
       "      <td>40</td>\n",
       "      <td>Cuba</td>\n",
       "      <td>&lt;=50K</td>\n",
       "    </tr>\n",
       "  </tbody>\n",
       "</table>\n",
       "</div>"
      ],
      "text/plain": [
       "   age         workclass  fnlwgt  education  education-num  \\\n",
       "0   39         State-gov   77516  Bachelors             13   \n",
       "1   50  Self-emp-not-inc   83311  Bachelors             13   \n",
       "2   38           Private  215646    HS-grad              9   \n",
       "3   53           Private  234721       11th              7   \n",
       "4   28           Private  338409  Bachelors             13   \n",
       "\n",
       "       marital-status         occupation   relationship   race     sex  \\\n",
       "0       Never-married       Adm-clerical  Not-in-family  White    Male   \n",
       "1  Married-civ-spouse    Exec-managerial        Husband  White    Male   \n",
       "2            Divorced  Handlers-cleaners  Not-in-family  White    Male   \n",
       "3  Married-civ-spouse  Handlers-cleaners        Husband  Black    Male   \n",
       "4  Married-civ-spouse     Prof-specialty           Wife  Black  Female   \n",
       "\n",
       "   capital-gain  capital-loss  hours-per-week native-country salary  \n",
       "0          2174             0              40  United-States  <=50K  \n",
       "1             0             0              13  United-States  <=50K  \n",
       "2             0             0              40  United-States  <=50K  \n",
       "3             0             0              40  United-States  <=50K  \n",
       "4             0             0              40           Cuba  <=50K  "
      ]
     },
     "execution_count": 2,
     "metadata": {},
     "output_type": "execute_result"
    }
   ],
   "source": [
    "df = pd.read_csv(\"/kaggle/input/demographic-data-analyzer/adult_data.csv\")\n",
    "df.head()"
   ]
  },
  {
   "cell_type": "markdown",
   "id": "16d8ec70",
   "metadata": {
    "papermill": {
     "duration": 0.004505,
     "end_time": "2025-01-06T07:14:03.346387",
     "exception": false,
     "start_time": "2025-01-06T07:14:03.341882",
     "status": "completed"
    },
    "tags": []
   },
   "source": [
    "### Dataset Information"
   ]
  },
  {
   "cell_type": "code",
   "execution_count": 3,
   "id": "2a6efff1",
   "metadata": {
    "execution": {
     "iopub.execute_input": "2025-01-06T07:14:03.357084Z",
     "iopub.status.busy": "2025-01-06T07:14:03.356694Z",
     "iopub.status.idle": "2025-01-06T07:14:03.392427Z",
     "shell.execute_reply": "2025-01-06T07:14:03.391172Z"
    },
    "papermill": {
     "duration": 0.043015,
     "end_time": "2025-01-06T07:14:03.394044",
     "exception": false,
     "start_time": "2025-01-06T07:14:03.351029",
     "status": "completed"
    },
    "tags": []
   },
   "outputs": [
    {
     "name": "stdout",
     "output_type": "stream",
     "text": [
      "<class 'pandas.core.frame.DataFrame'>\n",
      "RangeIndex: 32561 entries, 0 to 32560\n",
      "Data columns (total 15 columns):\n",
      " #   Column          Non-Null Count  Dtype \n",
      "---  ------          --------------  ----- \n",
      " 0   age             32561 non-null  int64 \n",
      " 1   workclass       32561 non-null  object\n",
      " 2   fnlwgt          32561 non-null  int64 \n",
      " 3   education       32561 non-null  object\n",
      " 4   education-num   32561 non-null  int64 \n",
      " 5   marital-status  32561 non-null  object\n",
      " 6   occupation      32561 non-null  object\n",
      " 7   relationship    32561 non-null  object\n",
      " 8   race            32561 non-null  object\n",
      " 9   sex             32561 non-null  object\n",
      " 10  capital-gain    32561 non-null  int64 \n",
      " 11  capital-loss    32561 non-null  int64 \n",
      " 12  hours-per-week  32561 non-null  int64 \n",
      " 13  native-country  32561 non-null  object\n",
      " 14  salary          32561 non-null  object\n",
      "dtypes: int64(6), object(9)\n",
      "memory usage: 3.7+ MB\n"
     ]
    }
   ],
   "source": [
    "df.info()"
   ]
  },
  {
   "cell_type": "markdown",
   "id": "2aeb76d1",
   "metadata": {
    "papermill": {
     "duration": 0.004531,
     "end_time": "2025-01-06T07:14:03.403458",
     "exception": false,
     "start_time": "2025-01-06T07:14:03.398927",
     "status": "completed"
    },
    "tags": []
   },
   "source": [
    "### Dataset Statistics"
   ]
  },
  {
   "cell_type": "code",
   "execution_count": 4,
   "id": "0c680dc8",
   "metadata": {
    "execution": {
     "iopub.execute_input": "2025-01-06T07:14:03.414178Z",
     "iopub.status.busy": "2025-01-06T07:14:03.413858Z",
     "iopub.status.idle": "2025-01-06T07:14:03.442766Z",
     "shell.execute_reply": "2025-01-06T07:14:03.441706Z"
    },
    "papermill": {
     "duration": 0.036182,
     "end_time": "2025-01-06T07:14:03.444551",
     "exception": false,
     "start_time": "2025-01-06T07:14:03.408369",
     "status": "completed"
    },
    "tags": []
   },
   "outputs": [
    {
     "data": {
      "text/html": [
       "<div>\n",
       "<style scoped>\n",
       "    .dataframe tbody tr th:only-of-type {\n",
       "        vertical-align: middle;\n",
       "    }\n",
       "\n",
       "    .dataframe tbody tr th {\n",
       "        vertical-align: top;\n",
       "    }\n",
       "\n",
       "    .dataframe thead th {\n",
       "        text-align: right;\n",
       "    }\n",
       "</style>\n",
       "<table border=\"1\" class=\"dataframe\">\n",
       "  <thead>\n",
       "    <tr style=\"text-align: right;\">\n",
       "      <th></th>\n",
       "      <th>age</th>\n",
       "      <th>fnlwgt</th>\n",
       "      <th>education-num</th>\n",
       "      <th>capital-gain</th>\n",
       "      <th>capital-loss</th>\n",
       "      <th>hours-per-week</th>\n",
       "    </tr>\n",
       "  </thead>\n",
       "  <tbody>\n",
       "    <tr>\n",
       "      <th>count</th>\n",
       "      <td>32561.000000</td>\n",
       "      <td>3.256100e+04</td>\n",
       "      <td>32561.000000</td>\n",
       "      <td>32561.000000</td>\n",
       "      <td>32561.000000</td>\n",
       "      <td>32561.000000</td>\n",
       "    </tr>\n",
       "    <tr>\n",
       "      <th>mean</th>\n",
       "      <td>38.581647</td>\n",
       "      <td>1.897784e+05</td>\n",
       "      <td>10.080679</td>\n",
       "      <td>1077.648844</td>\n",
       "      <td>87.303830</td>\n",
       "      <td>40.437456</td>\n",
       "    </tr>\n",
       "    <tr>\n",
       "      <th>std</th>\n",
       "      <td>13.640433</td>\n",
       "      <td>1.055500e+05</td>\n",
       "      <td>2.572720</td>\n",
       "      <td>7385.292085</td>\n",
       "      <td>402.960219</td>\n",
       "      <td>12.347429</td>\n",
       "    </tr>\n",
       "    <tr>\n",
       "      <th>min</th>\n",
       "      <td>17.000000</td>\n",
       "      <td>1.228500e+04</td>\n",
       "      <td>1.000000</td>\n",
       "      <td>0.000000</td>\n",
       "      <td>0.000000</td>\n",
       "      <td>1.000000</td>\n",
       "    </tr>\n",
       "    <tr>\n",
       "      <th>25%</th>\n",
       "      <td>28.000000</td>\n",
       "      <td>1.178270e+05</td>\n",
       "      <td>9.000000</td>\n",
       "      <td>0.000000</td>\n",
       "      <td>0.000000</td>\n",
       "      <td>40.000000</td>\n",
       "    </tr>\n",
       "    <tr>\n",
       "      <th>50%</th>\n",
       "      <td>37.000000</td>\n",
       "      <td>1.783560e+05</td>\n",
       "      <td>10.000000</td>\n",
       "      <td>0.000000</td>\n",
       "      <td>0.000000</td>\n",
       "      <td>40.000000</td>\n",
       "    </tr>\n",
       "    <tr>\n",
       "      <th>75%</th>\n",
       "      <td>48.000000</td>\n",
       "      <td>2.370510e+05</td>\n",
       "      <td>12.000000</td>\n",
       "      <td>0.000000</td>\n",
       "      <td>0.000000</td>\n",
       "      <td>45.000000</td>\n",
       "    </tr>\n",
       "    <tr>\n",
       "      <th>max</th>\n",
       "      <td>90.000000</td>\n",
       "      <td>1.484705e+06</td>\n",
       "      <td>16.000000</td>\n",
       "      <td>99999.000000</td>\n",
       "      <td>4356.000000</td>\n",
       "      <td>99.000000</td>\n",
       "    </tr>\n",
       "  </tbody>\n",
       "</table>\n",
       "</div>"
      ],
      "text/plain": [
       "                age        fnlwgt  education-num  capital-gain  capital-loss  \\\n",
       "count  32561.000000  3.256100e+04   32561.000000  32561.000000  32561.000000   \n",
       "mean      38.581647  1.897784e+05      10.080679   1077.648844     87.303830   \n",
       "std       13.640433  1.055500e+05       2.572720   7385.292085    402.960219   \n",
       "min       17.000000  1.228500e+04       1.000000      0.000000      0.000000   \n",
       "25%       28.000000  1.178270e+05       9.000000      0.000000      0.000000   \n",
       "50%       37.000000  1.783560e+05      10.000000      0.000000      0.000000   \n",
       "75%       48.000000  2.370510e+05      12.000000      0.000000      0.000000   \n",
       "max       90.000000  1.484705e+06      16.000000  99999.000000   4356.000000   \n",
       "\n",
       "       hours-per-week  \n",
       "count    32561.000000  \n",
       "mean        40.437456  \n",
       "std         12.347429  \n",
       "min          1.000000  \n",
       "25%         40.000000  \n",
       "50%         40.000000  \n",
       "75%         45.000000  \n",
       "max         99.000000  "
      ]
     },
     "execution_count": 4,
     "metadata": {},
     "output_type": "execute_result"
    }
   ],
   "source": [
    "df.describe()"
   ]
  },
  {
   "cell_type": "markdown",
   "id": "91637f09",
   "metadata": {
    "papermill": {
     "duration": 0.004785,
     "end_time": "2025-01-06T07:14:03.454685",
     "exception": false,
     "start_time": "2025-01-06T07:14:03.449900",
     "status": "completed"
    },
    "tags": []
   },
   "source": [
    "# Exploratory Data Analysis"
   ]
  },
  {
   "cell_type": "markdown",
   "id": "3871db53",
   "metadata": {
    "papermill": {
     "duration": 0.004325,
     "end_time": "2025-01-06T07:14:03.463719",
     "exception": false,
     "start_time": "2025-01-06T07:14:03.459394",
     "status": "completed"
    },
    "tags": []
   },
   "source": [
    "**1. How many people of each race are represented in this dataset**"
   ]
  },
  {
   "cell_type": "code",
   "execution_count": 5,
   "id": "f0452645",
   "metadata": {
    "execution": {
     "iopub.execute_input": "2025-01-06T07:14:03.474667Z",
     "iopub.status.busy": "2025-01-06T07:14:03.474254Z",
     "iopub.status.idle": "2025-01-06T07:14:03.484841Z",
     "shell.execute_reply": "2025-01-06T07:14:03.483965Z"
    },
    "papermill": {
     "duration": 0.017635,
     "end_time": "2025-01-06T07:14:03.486243",
     "exception": false,
     "start_time": "2025-01-06T07:14:03.468608",
     "status": "completed"
    },
    "tags": []
   },
   "outputs": [
    {
     "data": {
      "text/html": [
       "<div>\n",
       "<style scoped>\n",
       "    .dataframe tbody tr th:only-of-type {\n",
       "        vertical-align: middle;\n",
       "    }\n",
       "\n",
       "    .dataframe tbody tr th {\n",
       "        vertical-align: top;\n",
       "    }\n",
       "\n",
       "    .dataframe thead th {\n",
       "        text-align: right;\n",
       "    }\n",
       "</style>\n",
       "<table border=\"1\" class=\"dataframe\">\n",
       "  <thead>\n",
       "    <tr style=\"text-align: right;\">\n",
       "      <th></th>\n",
       "      <th>Race</th>\n",
       "      <th>People</th>\n",
       "    </tr>\n",
       "  </thead>\n",
       "  <tbody>\n",
       "    <tr>\n",
       "      <th>0</th>\n",
       "      <td>White</td>\n",
       "      <td>27816</td>\n",
       "    </tr>\n",
       "    <tr>\n",
       "      <th>1</th>\n",
       "      <td>Black</td>\n",
       "      <td>3124</td>\n",
       "    </tr>\n",
       "    <tr>\n",
       "      <th>2</th>\n",
       "      <td>Asian-Pac-Islander</td>\n",
       "      <td>1039</td>\n",
       "    </tr>\n",
       "    <tr>\n",
       "      <th>3</th>\n",
       "      <td>Amer-Indian-Eskimo</td>\n",
       "      <td>311</td>\n",
       "    </tr>\n",
       "    <tr>\n",
       "      <th>4</th>\n",
       "      <td>Other</td>\n",
       "      <td>271</td>\n",
       "    </tr>\n",
       "  </tbody>\n",
       "</table>\n",
       "</div>"
      ],
      "text/plain": [
       "                 Race  People\n",
       "0               White   27816\n",
       "1               Black    3124\n",
       "2  Asian-Pac-Islander    1039\n",
       "3  Amer-Indian-Eskimo     311\n",
       "4               Other     271"
      ]
     },
     "execution_count": 5,
     "metadata": {},
     "output_type": "execute_result"
    }
   ],
   "source": [
    "race = df[\"race\"].value_counts().to_frame().reset_index()\n",
    "race.columns = ['Race', 'People']\n",
    "race"
   ]
  },
  {
   "cell_type": "markdown",
   "id": "2f650d51",
   "metadata": {
    "papermill": {
     "duration": 0.005375,
     "end_time": "2025-01-06T07:14:03.497055",
     "exception": false,
     "start_time": "2025-01-06T07:14:03.491680",
     "status": "completed"
    },
    "tags": []
   },
   "source": [
    "**2. What is the average age of men**"
   ]
  },
  {
   "cell_type": "code",
   "execution_count": 6,
   "id": "06735814",
   "metadata": {
    "execution": {
     "iopub.execute_input": "2025-01-06T07:14:03.510495Z",
     "iopub.status.busy": "2025-01-06T07:14:03.510111Z",
     "iopub.status.idle": "2025-01-06T07:14:03.522952Z",
     "shell.execute_reply": "2025-01-06T07:14:03.522112Z"
    },
    "papermill": {
     "duration": 0.020631,
     "end_time": "2025-01-06T07:14:03.524537",
     "exception": false,
     "start_time": "2025-01-06T07:14:03.503906",
     "status": "completed"
    },
    "tags": []
   },
   "outputs": [
    {
     "name": "stdout",
     "output_type": "stream",
     "text": [
      "Average Age of Men is 39.43\n"
     ]
    }
   ],
   "source": [
    "men = df[df[\"sex\"] == 'Male']\n",
    "men_avg_age = men['age'].agg('mean').round(2)\n",
    "print('Average Age of Men is', men_avg_age)"
   ]
  },
  {
   "cell_type": "markdown",
   "id": "b658e44b",
   "metadata": {
    "papermill": {
     "duration": 0.005022,
     "end_time": "2025-01-06T07:14:03.534816",
     "exception": false,
     "start_time": "2025-01-06T07:14:03.529794",
     "status": "completed"
    },
    "tags": []
   },
   "source": [
    "**3. What is the percentage of people who have a Bachelor's Degree**"
   ]
  },
  {
   "cell_type": "code",
   "execution_count": 7,
   "id": "64238b3b",
   "metadata": {
    "execution": {
     "iopub.execute_input": "2025-01-06T07:14:03.546150Z",
     "iopub.status.busy": "2025-01-06T07:14:03.545816Z",
     "iopub.status.idle": "2025-01-06T07:14:03.559883Z",
     "shell.execute_reply": "2025-01-06T07:14:03.558858Z"
    },
    "papermill": {
     "duration": 0.021421,
     "end_time": "2025-01-06T07:14:03.561254",
     "exception": false,
     "start_time": "2025-01-06T07:14:03.539833",
     "status": "completed"
    },
    "tags": []
   },
   "outputs": [
    {
     "data": {
      "text/html": [
       "<div>\n",
       "<style scoped>\n",
       "    .dataframe tbody tr th:only-of-type {\n",
       "        vertical-align: middle;\n",
       "    }\n",
       "\n",
       "    .dataframe tbody tr th {\n",
       "        vertical-align: top;\n",
       "    }\n",
       "\n",
       "    .dataframe thead th {\n",
       "        text-align: right;\n",
       "    }\n",
       "</style>\n",
       "<table border=\"1\" class=\"dataframe\">\n",
       "  <thead>\n",
       "    <tr style=\"text-align: right;\">\n",
       "      <th></th>\n",
       "      <th>Education</th>\n",
       "      <th>People</th>\n",
       "      <th>Percentage</th>\n",
       "    </tr>\n",
       "  </thead>\n",
       "  <tbody>\n",
       "    <tr>\n",
       "      <th>2</th>\n",
       "      <td>Bachelors</td>\n",
       "      <td>5355</td>\n",
       "      <td>16.45%</td>\n",
       "    </tr>\n",
       "  </tbody>\n",
       "</table>\n",
       "</div>"
      ],
      "text/plain": [
       "   Education  People Percentage\n",
       "2  Bachelors    5355     16.45%"
      ]
     },
     "execution_count": 7,
     "metadata": {},
     "output_type": "execute_result"
    }
   ],
   "source": [
    "education = df['education'].value_counts().to_frame().reset_index()\n",
    "education['Percentage'] = (education['count'] / education['count'].sum() * 100).round(2).astype(str) + '%'\n",
    "education.columns = ['Education', 'People', 'Percentage']\n",
    "bachelors = education[education['Education'] == 'Bachelors']\n",
    "bachelors"
   ]
  },
  {
   "cell_type": "markdown",
   "id": "65ede58d",
   "metadata": {
    "papermill": {
     "duration": 0.005239,
     "end_time": "2025-01-06T07:14:03.571995",
     "exception": false,
     "start_time": "2025-01-06T07:14:03.566756",
     "status": "completed"
    },
    "tags": []
   },
   "source": [
    "**4. What percentage of people with advanced education (Bachelors, Masters, or Doctorate) make more than 50K?**"
   ]
  },
  {
   "cell_type": "code",
   "execution_count": 8,
   "id": "a1b1f19c",
   "metadata": {
    "execution": {
     "iopub.execute_input": "2025-01-06T07:14:03.584373Z",
     "iopub.status.busy": "2025-01-06T07:14:03.584003Z",
     "iopub.status.idle": "2025-01-06T07:14:03.594849Z",
     "shell.execute_reply": "2025-01-06T07:14:03.593940Z"
    },
    "papermill": {
     "duration": 0.018962,
     "end_time": "2025-01-06T07:14:03.596406",
     "exception": false,
     "start_time": "2025-01-06T07:14:03.577444",
     "status": "completed"
    },
    "tags": []
   },
   "outputs": [
    {
     "name": "stdout",
     "output_type": "stream",
     "text": [
      "Percentage of people with advanced education (Bachelors, Masters, or Doctorate) make more than 50K = 10.71%\n"
     ]
    }
   ],
   "source": [
    "bmd = df[df[\"education\"].isin(['Bachelors', 'Masters', 'Doctorate'])]\n",
    "bmd_salary = bmd[bmd['salary'] == '>50K']\n",
    "bmd_people_percentage = round((len(bmd_salary) / len(df)) * 100, 2)\n",
    "print('Percentage of people with advanced education (Bachelors, Masters, or Doctorate) make more than 50K =', str(bmd_people_percentage) + '%')"
   ]
  },
  {
   "cell_type": "markdown",
   "id": "e13ef291",
   "metadata": {
    "papermill": {
     "duration": 0.005278,
     "end_time": "2025-01-06T07:14:03.607972",
     "exception": false,
     "start_time": "2025-01-06T07:14:03.602694",
     "status": "completed"
    },
    "tags": []
   },
   "source": [
    "**5. What percentage of people without advanced education make more than 50K?**"
   ]
  },
  {
   "cell_type": "code",
   "execution_count": 9,
   "id": "568975b9",
   "metadata": {
    "execution": {
     "iopub.execute_input": "2025-01-06T07:14:03.619893Z",
     "iopub.status.busy": "2025-01-06T07:14:03.619556Z",
     "iopub.status.idle": "2025-01-06T07:14:03.655738Z",
     "shell.execute_reply": "2025-01-06T07:14:03.654804Z"
    },
    "papermill": {
     "duration": 0.044108,
     "end_time": "2025-01-06T07:14:03.657394",
     "exception": false,
     "start_time": "2025-01-06T07:14:03.613286",
     "status": "completed"
    },
    "tags": []
   },
   "outputs": [
    {
     "name": "stdout",
     "output_type": "stream",
     "text": [
      "Percentage of people with advanced education make more than 50K = 13.37%\n"
     ]
    }
   ],
   "source": [
    "salary_50k = df[df['salary'] == '>50K']\n",
    "salary_50k_low_education = salary_50k[~salary_50k.isin(['Bachelors', 'Masters', 'Doctorate'])]\n",
    "salary_50k_low_education_percentage =round(((salary_50k_low_education.value_counts().sum()) / len(df)) * 100, 2)\n",
    "print('Percentage of people with advanced education make more than 50K =', str(salary_50k_low_education_percentage) + '%')"
   ]
  },
  {
   "cell_type": "markdown",
   "id": "b4f558e8",
   "metadata": {
    "papermill": {
     "duration": 0.005142,
     "end_time": "2025-01-06T07:14:03.668256",
     "exception": false,
     "start_time": "2025-01-06T07:14:03.663114",
     "status": "completed"
    },
    "tags": []
   },
   "source": [
    "**6. What is the minimum number of hours a person works per week?**"
   ]
  },
  {
   "cell_type": "code",
   "execution_count": 10,
   "id": "85b2716b",
   "metadata": {
    "execution": {
     "iopub.execute_input": "2025-01-06T07:14:03.679883Z",
     "iopub.status.busy": "2025-01-06T07:14:03.679523Z",
     "iopub.status.idle": "2025-01-06T07:14:03.684852Z",
     "shell.execute_reply": "2025-01-06T07:14:03.684043Z"
    },
    "papermill": {
     "duration": 0.012897,
     "end_time": "2025-01-06T07:14:03.686314",
     "exception": false,
     "start_time": "2025-01-06T07:14:03.673417",
     "status": "completed"
    },
    "tags": []
   },
   "outputs": [
    {
     "name": "stdout",
     "output_type": "stream",
     "text": [
      "Minimum number of hours a person works per week = 1\n"
     ]
    }
   ],
   "source": [
    "min_hours = df['hours-per-week'].min()\n",
    "print('Minimum number of hours a person works per week =', min_hours)"
   ]
  },
  {
   "cell_type": "markdown",
   "id": "ab8a98c7",
   "metadata": {
    "papermill": {
     "duration": 0.005068,
     "end_time": "2025-01-06T07:14:03.696862",
     "exception": false,
     "start_time": "2025-01-06T07:14:03.691794",
     "status": "completed"
    },
    "tags": []
   },
   "source": [
    "**7. What percentage of the people who work the minimum number of hours per week have a salary of more than 50K?**"
   ]
  },
  {
   "cell_type": "code",
   "execution_count": 11,
   "id": "fe7b4af6",
   "metadata": {
    "execution": {
     "iopub.execute_input": "2025-01-06T07:14:03.708818Z",
     "iopub.status.busy": "2025-01-06T07:14:03.708453Z",
     "iopub.status.idle": "2025-01-06T07:14:03.717943Z",
     "shell.execute_reply": "2025-01-06T07:14:03.717095Z"
    },
    "papermill": {
     "duration": 0.017398,
     "end_time": "2025-01-06T07:14:03.719567",
     "exception": false,
     "start_time": "2025-01-06T07:14:03.702169",
     "status": "completed"
    },
    "tags": []
   },
   "outputs": [
    {
     "name": "stdout",
     "output_type": "stream",
     "text": [
      "Percentage of the people who work the minimum number of hours per week have a salary of more than 50K = 0.006%\n"
     ]
    }
   ],
   "source": [
    "min_hours_50K = df[(df['hours-per-week'] == df['hours-per-week'].min()) & (df['salary'] == '>50K')]\n",
    "min_hours_50K_percentage = round((len(min_hours_50K) / len(df)) * 100, 3)\n",
    "print('Percentage of the people who work the minimum number of hours per week have a salary of more than 50K =', str(min_hours_50K_percentage) + '%')"
   ]
  },
  {
   "cell_type": "markdown",
   "id": "5ecfcc64",
   "metadata": {
    "papermill": {
     "duration": 0.005346,
     "end_time": "2025-01-06T07:14:03.730597",
     "exception": false,
     "start_time": "2025-01-06T07:14:03.725251",
     "status": "completed"
    },
    "tags": []
   },
   "source": [
    "**8. What country has the highest percentage of people that earn >50K and what is that percentage?**"
   ]
  },
  {
   "cell_type": "code",
   "execution_count": 12,
   "id": "8eb243eb",
   "metadata": {
    "execution": {
     "iopub.execute_input": "2025-01-06T07:14:03.743088Z",
     "iopub.status.busy": "2025-01-06T07:14:03.742729Z",
     "iopub.status.idle": "2025-01-06T07:14:03.759783Z",
     "shell.execute_reply": "2025-01-06T07:14:03.758709Z"
    },
    "papermill": {
     "duration": 0.025309,
     "end_time": "2025-01-06T07:14:03.761362",
     "exception": false,
     "start_time": "2025-01-06T07:14:03.736053",
     "status": "completed"
    },
    "tags": []
   },
   "outputs": [
    {
     "data": {
      "text/html": [
       "<div>\n",
       "<style scoped>\n",
       "    .dataframe tbody tr th:only-of-type {\n",
       "        vertical-align: middle;\n",
       "    }\n",
       "\n",
       "    .dataframe tbody tr th {\n",
       "        vertical-align: top;\n",
       "    }\n",
       "\n",
       "    .dataframe thead th {\n",
       "        text-align: right;\n",
       "    }\n",
       "</style>\n",
       "<table border=\"1\" class=\"dataframe\">\n",
       "  <thead>\n",
       "    <tr style=\"text-align: right;\">\n",
       "      <th></th>\n",
       "      <th>Native Country</th>\n",
       "      <th>People</th>\n",
       "      <th>Percentage</th>\n",
       "    </tr>\n",
       "  </thead>\n",
       "  <tbody>\n",
       "    <tr>\n",
       "      <th>0</th>\n",
       "      <td>United-States</td>\n",
       "      <td>7171</td>\n",
       "      <td>91.46</td>\n",
       "    </tr>\n",
       "  </tbody>\n",
       "</table>\n",
       "</div>"
      ],
      "text/plain": [
       "  Native Country  People  Percentage\n",
       "0  United-States    7171       91.46"
      ]
     },
     "execution_count": 12,
     "metadata": {},
     "output_type": "execute_result"
    }
   ],
   "source": [
    "salary_50k = df[df['salary'] == '>50K']\n",
    "salary_50k_country = salary_50k['native-country'].value_counts().to_frame().reset_index()\n",
    "salary_50k_country.columns = ['Native Country', 'People']\n",
    "salary_50k_country['Percentage'] = round((salary_50k_country['People'] / salary_50k_country['People'].sum()) * 100, 2)\n",
    "salary_50k_country = salary_50k_country[salary_50k_country['Percentage'] == salary_50k_country['Percentage'].max()]\n",
    "salary_50k_country"
   ]
  },
  {
   "cell_type": "markdown",
   "id": "a3e7683e",
   "metadata": {
    "papermill": {
     "duration": 0.005449,
     "end_time": "2025-01-06T07:14:03.772779",
     "exception": false,
     "start_time": "2025-01-06T07:14:03.767330",
     "status": "completed"
    },
    "tags": []
   },
   "source": [
    "**9. Identify the most popular occupation for those who earn >50K in India.**"
   ]
  },
  {
   "cell_type": "code",
   "execution_count": 13,
   "id": "e468d6b7",
   "metadata": {
    "execution": {
     "iopub.execute_input": "2025-01-06T07:14:03.785231Z",
     "iopub.status.busy": "2025-01-06T07:14:03.784881Z",
     "iopub.status.idle": "2025-01-06T07:14:03.800970Z",
     "shell.execute_reply": "2025-01-06T07:14:03.799995Z"
    },
    "papermill": {
     "duration": 0.023993,
     "end_time": "2025-01-06T07:14:03.802450",
     "exception": false,
     "start_time": "2025-01-06T07:14:03.778457",
     "status": "completed"
    },
    "tags": []
   },
   "outputs": [
    {
     "data": {
      "text/html": [
       "<div>\n",
       "<style scoped>\n",
       "    .dataframe tbody tr th:only-of-type {\n",
       "        vertical-align: middle;\n",
       "    }\n",
       "\n",
       "    .dataframe tbody tr th {\n",
       "        vertical-align: top;\n",
       "    }\n",
       "\n",
       "    .dataframe thead th {\n",
       "        text-align: right;\n",
       "    }\n",
       "</style>\n",
       "<table border=\"1\" class=\"dataframe\">\n",
       "  <thead>\n",
       "    <tr style=\"text-align: right;\">\n",
       "      <th></th>\n",
       "      <th>Occupation</th>\n",
       "      <th>People</th>\n",
       "    </tr>\n",
       "  </thead>\n",
       "  <tbody>\n",
       "    <tr>\n",
       "      <th>0</th>\n",
       "      <td>Prof-specialty</td>\n",
       "      <td>25</td>\n",
       "    </tr>\n",
       "    <tr>\n",
       "      <th>1</th>\n",
       "      <td>Exec-managerial</td>\n",
       "      <td>8</td>\n",
       "    </tr>\n",
       "    <tr>\n",
       "      <th>2</th>\n",
       "      <td>Other-service</td>\n",
       "      <td>2</td>\n",
       "    </tr>\n",
       "    <tr>\n",
       "      <th>3</th>\n",
       "      <td>Tech-support</td>\n",
       "      <td>2</td>\n",
       "    </tr>\n",
       "    <tr>\n",
       "      <th>4</th>\n",
       "      <td>Transport-moving</td>\n",
       "      <td>1</td>\n",
       "    </tr>\n",
       "    <tr>\n",
       "      <th>5</th>\n",
       "      <td>Sales</td>\n",
       "      <td>1</td>\n",
       "    </tr>\n",
       "    <tr>\n",
       "      <th>6</th>\n",
       "      <td>Adm-clerical</td>\n",
       "      <td>1</td>\n",
       "    </tr>\n",
       "  </tbody>\n",
       "</table>\n",
       "</div>"
      ],
      "text/plain": [
       "         Occupation  People\n",
       "0    Prof-specialty      25\n",
       "1   Exec-managerial       8\n",
       "2     Other-service       2\n",
       "3      Tech-support       2\n",
       "4  Transport-moving       1\n",
       "5             Sales       1\n",
       "6      Adm-clerical       1"
      ]
     },
     "execution_count": 13,
     "metadata": {},
     "output_type": "execute_result"
    }
   ],
   "source": [
    "ind_50k = df[(df['native-country'] == 'India') & (df['salary'] == '>50K')]\n",
    "ind_50k_ocu = ind_50k['occupation'].value_counts().to_frame().reset_index()\n",
    "ind_50k_ocu.columns = ['Occupation', 'People']\n",
    "ind_50k_ocu"
   ]
  }
 ],
 "metadata": {
  "kaggle": {
   "accelerator": "none",
   "dataSources": [
    {
     "datasetId": 6428652,
     "sourceId": 10378036,
     "sourceType": "datasetVersion"
    }
   ],
   "dockerImageVersionId": 30822,
   "isGpuEnabled": false,
   "isInternetEnabled": true,
   "language": "python",
   "sourceType": "notebook"
  },
  "kernelspec": {
   "display_name": "Python 3",
   "language": "python",
   "name": "python3"
  },
  "language_info": {
   "codemirror_mode": {
    "name": "ipython",
    "version": 3
   },
   "file_extension": ".py",
   "mimetype": "text/x-python",
   "name": "python",
   "nbconvert_exporter": "python",
   "pygments_lexer": "ipython3",
   "version": "3.10.12"
  },
  "papermill": {
   "default_parameters": {},
   "duration": 5.182619,
   "end_time": "2025-01-06T07:14:04.427480",
   "environment_variables": {},
   "exception": null,
   "input_path": "__notebook__.ipynb",
   "output_path": "__notebook__.ipynb",
   "parameters": {},
   "start_time": "2025-01-06T07:13:59.244861",
   "version": "2.6.0"
  }
 },
 "nbformat": 4,
 "nbformat_minor": 5
}
